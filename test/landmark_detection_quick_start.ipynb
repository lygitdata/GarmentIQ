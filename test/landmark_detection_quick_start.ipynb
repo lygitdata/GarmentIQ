{
  "nbformat": 4,
  "nbformat_minor": 0,
  "metadata": {
    "colab": {
      "provenance": [],
      "gpuType": "T4",
      "include_colab_link": true
    },
    "kernelspec": {
      "name": "python3",
      "display_name": "Python 3"
    },
    "language_info": {
      "name": "python"
    },
    "accelerator": "GPU"
  },
  "cells": [
    {
      "cell_type": "markdown",
      "metadata": {
        "id": "view-in-github",
        "colab_type": "text"
      },
      "source": [
        "<a href=\"https://colab.research.google.com/github/lygitdata/GarmentIQ/blob/main/test/landmark_detection_quick_start.ipynb\" target=\"_parent\"><img src=\"https://colab.research.google.com/assets/colab-badge.svg\" alt=\"Open In Colab\"/></a>"
      ]
    },
    {
      "cell_type": "markdown",
      "source": [
        "# GarmentIQ Landmark Detection Quick Start"
      ],
      "metadata": {
        "id": "jrn-fD7chMUe"
      }
    },
    {
      "cell_type": "code",
      "execution_count": null,
      "metadata": {
        "id": "sQhSY6NJg61I"
      },
      "outputs": [],
      "source": [
        "!pip install garmentiq -q"
      ]
    },
    {
      "cell_type": "code",
      "source": [
        "import garmentiq as giq\n",
        "from garmentiq.landmark.detection.model_definition import PoseHighResolutionNet\n",
        "from garmentiq.garment_classes import garment_classes"
      ],
      "metadata": {
        "id": "E8RxkKlsh5IY"
      },
      "execution_count": null,
      "outputs": []
    },
    {
      "cell_type": "code",
      "source": [
        "# Download a vest dress image and a pretrained model\n",
        "!mkdir -p test_image\n",
        "!wget -q -O /content/test_image/cloth_3.jpg \\\n",
        "    https://raw.githubusercontent.com/lygitdata/GarmentIQ/refs/heads/gh-pages/asset/img/cloth_3.jpg\n",
        "\n",
        "!mkdir -p models\n",
        "!wget -q -O /content/models/hrnet.pth \\\n",
        "    https://huggingface.co/lygitdata/garmentiq/resolve/main/hrnet.pth"
      ],
      "metadata": {
        "id": "3-b9AZr9hJyK"
      },
      "execution_count": null,
      "outputs": []
    },
    {
      "cell_type": "code",
      "source": [
        "# Plot the image\n",
        "giq.landmark.plot(image_path=\"/content/test_image/cloth_3.jpg\", figsize=(3, 3))"
      ],
      "metadata": {
        "id": "NYFrZUe48hLi"
      },
      "execution_count": null,
      "outputs": []
    },
    {
      "cell_type": "code",
      "source": [
        "# Load the pretrained model from Hugging Face\n",
        "HRNet = giq.landmark.detection.load_model(\n",
        "    model_path=\"/content/models/hrnet.pth\",\n",
        "    model_class=PoseHighResolutionNet()\n",
        ")"
      ],
      "metadata": {
        "id": "pMGZwL-UjPPN"
      },
      "execution_count": null,
      "outputs": []
    },
    {
      "cell_type": "code",
      "source": [
        "# Detect predefined landmarks\n",
        "coords, maxvals, detection_dict = giq.landmark.detect(\n",
        "    class_name=\"vest dress\",\n",
        "    class_dict=garment_classes,\n",
        "    image_path=\"/content/test_image/cloth_3.jpg\",\n",
        "    model=HRNet,\n",
        "    scale_std=200.0,\n",
        "    resize_dim=[288, 384],\n",
        "    normalize_mean=[0.485, 0.456, 0.406],\n",
        "    normalize_std=[0.229, 0.224, 0.225]\n",
        ")"
      ],
      "metadata": {
        "id": "deJChHYZ7rpT"
      },
      "execution_count": null,
      "outputs": []
    },
    {
      "cell_type": "code",
      "source": [
        "# Plot the detected coordinates\n",
        "giq.landmark.plot(image_path=\"/content/test_image/cloth_3.jpg\", coordinate=coords, figsize=(3, 3), color=\"green\")"
      ],
      "metadata": {
        "id": "rpKL-_2685Rd"
      },
      "execution_count": null,
      "outputs": []
    }
  ]
}