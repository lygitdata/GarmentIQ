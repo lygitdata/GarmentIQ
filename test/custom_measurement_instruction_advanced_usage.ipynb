{
  "nbformat": 4,
  "nbformat_minor": 0,
  "metadata": {
    "colab": {
      "provenance": [],
      "authorship_tag": "ABX9TyMK1JxAa7bx2hdGfupnF7w0",
      "include_colab_link": true
    },
    "kernelspec": {
      "name": "python3",
      "display_name": "Python 3"
    },
    "language_info": {
      "name": "python"
    }
  },
  "cells": [
    {
      "cell_type": "markdown",
      "metadata": {
        "id": "view-in-github",
        "colab_type": "text"
      },
      "source": [
        "<a href=\"https://colab.research.google.com/github/lygitdata/GarmentIQ/blob/main/test/custom_measurement_instruction_advanced_usage.ipynb\" target=\"_parent\"><img src=\"https://colab.research.google.com/assets/colab-badge.svg\" alt=\"Open In Colab\"/></a>"
      ]
    },
    {
      "cell_type": "markdown",
      "source": [
        "# GarmentIQ Custom Measurement Instruction - Advanced Usage"
      ],
      "metadata": {
        "id": "uTYHtjS_NzhK"
      }
    },
    {
      "cell_type": "code",
      "execution_count": null,
      "metadata": {
        "id": "dCH_M1lbNhNi"
      },
      "outputs": [],
      "source": [
        "!pip install garmentiq -q"
      ]
    },
    {
      "cell_type": "code",
      "source": [
        "import json\n",
        "import copy"
      ],
      "metadata": {
        "id": "L7eOzqrGPvLp"
      },
      "execution_count": null,
      "outputs": []
    },
    {
      "cell_type": "code",
      "source": [
        "# See our predefined garments and measurement instructions\n",
        "#\n",
        "# - `num_predefeined_points` and `index_range` are determined by training data -\n",
        "# DeepFashion2, change them if it is indeed necessary.\n",
        "#\n",
        "# - `instruction` is the path to a .json file, GarmentIQ has predefined\n",
        "# instructions.\n",
        "#\n",
        "# Generate or see predefined instructions at:\n",
        "# https://garmentiq.ly.gd.edu.kg/application/demo/instruction-generation/\n",
        "from garmentiq.garment_classes import garment_classes\n",
        "print(json.dumps(garment_classes, indent=4))"
      ],
      "metadata": {
        "id": "col7KU5vOFt6"
      },
      "execution_count": null,
      "outputs": []
    },
    {
      "cell_type": "code",
      "source": [
        "# Let us change the measurement instruction of skirt\n",
        "# See the predefined instruction\n",
        "# There are `waist`, `full length`, and `hips` as measurements in GarmentIQ's\n",
        "# default measurement instruction of a skirt. What if we only want `waist` and\n",
        "# `hips`? Simply create one! Recommend to use GarmentIQ instruction generation\n",
        "# tool to generate the instruciton:\n",
        "# https://garmentiq.ly.gd.edu.kg/application/demo/instruction-generation/\n",
        "with open(garment_classes['skirt']['instruction'], 'r') as file:\n",
        "    data = json.load(file)\n",
        "print(json.dumps(data, indent=4))"
      ],
      "metadata": {
        "id": "CcS54pI1QrJx"
      },
      "execution_count": null,
      "outputs": []
    },
    {
      "cell_type": "code",
      "source": [
        "# Let us create a simple instruction in python here and convert it to json\n",
        "skirt_new = {\n",
        "    \"skirt\": {\n",
        "        \"landmarks\": {\n",
        "            \"1\": {\n",
        "                \"predefined\": True,\n",
        "                \"description\": \"waist_left\",\n",
        "                \"x\": 60,\n",
        "                \"y\": 40\n",
        "            },\n",
        "            \"3\": {\n",
        "                \"predefined\": True,\n",
        "                \"description\": \"waist_right\",\n",
        "                \"x\": 140,\n",
        "                \"y\": 40\n",
        "            },\n",
        "            \"4\": {\n",
        "                \"predefined\": True,\n",
        "                \"description\": \"side_seam_left\",\n",
        "                \"x\": 50,\n",
        "                \"y\": 80\n",
        "            },\n",
        "            \"8\": {\n",
        "                \"predefined\": True,\n",
        "                \"description\": \"side_seam_right\",\n",
        "                \"x\": 150,\n",
        "                \"y\": 80\n",
        "            }\n",
        "        },\n",
        "        \"measurements\": {\n",
        "            \"waist\": {\n",
        "                \"landmarks\": {\n",
        "                    \"start\": \"1\",\n",
        "                    \"end\": \"3\"\n",
        "                },\n",
        "                \"description\": \"/\"\n",
        "            },\n",
        "            \"hips\": {\n",
        "                \"landmarks\": {\n",
        "                    \"start\": \"4\",\n",
        "                    \"end\": \"8\"\n",
        "                },\n",
        "                \"description\": \"/\"\n",
        "            }\n",
        "        }\n",
        "    }\n",
        "}\n",
        "\n",
        "# Save it to a JSON file with indentation\n",
        "with open('skirt_new.json', 'w') as file:\n",
        "    json.dump(skirt_new, file, indent=4)"
      ],
      "metadata": {
        "id": "gB1AxdinRqvR"
      },
      "execution_count": null,
      "outputs": []
    },
    {
      "cell_type": "code",
      "source": [
        "# Create a new garment class metadata dictionary\n",
        "new_garment_classes = copy.deepcopy(garment_classes)\n",
        "new_garment_classes['skirt']['instruction'] = 'skirt_new.json'\n",
        "print(new_garment_classes['skirt'])"
      ],
      "metadata": {
        "id": "lb1wL06USdzn"
      },
      "execution_count": null,
      "outputs": []
    },
    {
      "cell_type": "code",
      "source": [
        "# Okay now we have the new instruction, let us try the detection model to see\n",
        "# the difference\n",
        "# Import necessary modules\n",
        "import garmentiq as giq\n",
        "from garmentiq.landmark.detection.model_definition import PoseHighResolutionNet\n",
        "\n",
        "# Download a skirt image and a pretrained model\n",
        "!mkdir -p test_image\n",
        "!wget -q -O /content/test_image/cloth_4.jpg \\\n",
        "    https://raw.githubusercontent.com/lygitdata/GarmentIQ/refs/heads/gh-pages/asset/img/cloth_4.jpg\n",
        "\n",
        "!mkdir -p models\n",
        "!wget -q -O /content/models/hrnet.pth \\\n",
        "    https://huggingface.co/lygitdata/garmentiq/resolve/main/hrnet.pth"
      ],
      "metadata": {
        "id": "XiAh-4I6TNXl"
      },
      "execution_count": null,
      "outputs": []
    },
    {
      "cell_type": "code",
      "source": [
        "# Plot the image\n",
        "giq.landmark.plot(image_path=\"/content/test_image/cloth_4.jpg\", figsize=(3, 3))"
      ],
      "metadata": {
        "id": "aN_ikAdETn5J"
      },
      "execution_count": null,
      "outputs": []
    },
    {
      "cell_type": "code",
      "source": [
        "# Load the pretrained model from Hugging Face\n",
        "HRNet = giq.landmark.detection.load_model(\n",
        "    model_path=\"/content/models/hrnet.pth\",\n",
        "    model_class=PoseHighResolutionNet()\n",
        ")"
      ],
      "metadata": {
        "id": "sMKutxcVTrLw"
      },
      "execution_count": null,
      "outputs": []
    },
    {
      "cell_type": "code",
      "source": [
        "# Detect landmarks (DEFAULT instruction)\n",
        "_, _, detection_dict = giq.landmark.detect(\n",
        "    class_name=\"skirt\",\n",
        "    class_dict=garment_classes,\n",
        "    image_path=\"/content/test_image/cloth_4.jpg\",\n",
        "    model=HRNet,\n",
        "    scale_std=200.0,\n",
        "    resize_dim=[288, 384],\n",
        "    normalize_mean=[0.485, 0.456, 0.406],\n",
        "    normalize_std=[0.229, 0.224, 0.225]\n",
        ")\n",
        "\n",
        "# Clean the detection dictionary\n",
        "# See that we have all the three measurements\n",
        "detection_dict_cleaned = giq.utils.clean_detection_dict(\n",
        "    class_name='skirt',\n",
        "    image_name='cloth_4.jpg',\n",
        "    detection_dict=detection_dict\n",
        ")\n",
        "detection_dict_cleaned"
      ],
      "metadata": {
        "id": "Frx1SAxVTu1J"
      },
      "execution_count": null,
      "outputs": []
    },
    {
      "cell_type": "code",
      "source": [
        "# Detect landmarks (NEW instruction)\n",
        "# Note that we use `class_dict=new_garment_classes` here\n",
        "_, _, detection_dict_new = giq.landmark.detect(\n",
        "    class_name=\"skirt\",\n",
        "    class_dict=new_garment_classes,\n",
        "    image_path=\"/content/test_image/cloth_4.jpg\",\n",
        "    model=HRNet,\n",
        "    scale_std=200.0,\n",
        "    resize_dim=[288, 384],\n",
        "    normalize_mean=[0.485, 0.456, 0.406],\n",
        "    normalize_std=[0.229, 0.224, 0.225]\n",
        ")\n",
        "\n",
        "# Clean the detection dictionary\n",
        "# See that we only have two measurements we want\n",
        "detection_dict_new_cleaned = giq.utils.clean_detection_dict(\n",
        "    class_name='skirt',\n",
        "    image_name='cloth_4.jpg',\n",
        "    detection_dict=detection_dict_new\n",
        ")\n",
        "detection_dict_new_cleaned"
      ],
      "metadata": {
        "id": "R34QuDmYT_X0"
      },
      "execution_count": null,
      "outputs": []
    }
  ]
}