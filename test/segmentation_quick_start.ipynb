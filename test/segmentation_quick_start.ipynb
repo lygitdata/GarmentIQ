{
  "nbformat": 4,
  "nbformat_minor": 0,
  "metadata": {
    "colab": {
      "provenance": [],
      "gpuType": "T4",
      "include_colab_link": true
    },
    "kernelspec": {
      "name": "python3",
      "display_name": "Python 3"
    },
    "language_info": {
      "name": "python"
    },
    "accelerator": "GPU"
  },
  "cells": [
    {
      "cell_type": "markdown",
      "metadata": {
        "id": "view-in-github",
        "colab_type": "text"
      },
      "source": [
        "<a href=\"https://colab.research.google.com/github/lygitdata/GarmentIQ/blob/main/test/segmentation_quick_start.ipynb\" target=\"_parent\"><img src=\"https://colab.research.google.com/assets/colab-badge.svg\" alt=\"Open In Colab\"/></a>"
      ]
    },
    {
      "cell_type": "markdown",
      "source": [
        "# GarmentIQ Segmentation Quick Start"
      ],
      "metadata": {
        "id": "jrn-fD7chMUe"
      }
    },
    {
      "cell_type": "code",
      "execution_count": null,
      "metadata": {
        "id": "sQhSY6NJg61I"
      },
      "outputs": [],
      "source": [
        "!pip install garmentiq -q"
      ]
    },
    {
      "cell_type": "code",
      "source": [
        "import garmentiq as giq"
      ],
      "metadata": {
        "id": "E8RxkKlsh5IY"
      },
      "execution_count": null,
      "outputs": []
    },
    {
      "cell_type": "code",
      "source": [
        "# Download a test image\n",
        "!mkdir -p test_image\n",
        "!wget -q -O /content/test_image/cloth_1.jpg \\\n",
        "    https://raw.githubusercontent.com/lygitdata/GarmentIQ/refs/heads/gh-pages/asset/img/cloth_1.jpg"
      ],
      "metadata": {
        "id": "3-b9AZr9hJyK"
      },
      "execution_count": null,
      "outputs": []
    },
    {
      "cell_type": "code",
      "source": [
        "# Load the pretrained model from Hugging Face\n",
        "BiRefNet = giq.segmentation.load_model(\n",
        "    pretrained_model='lygitdata/BiRefNet_garmentiq_backup',\n",
        "    pretrained_model_args={'trust_remote_code': True},\n",
        "    high_precision=True\n",
        ")"
      ],
      "metadata": {
        "id": "pMGZwL-UjPPN"
      },
      "execution_count": null,
      "outputs": []
    },
    {
      "cell_type": "code",
      "source": [
        "# Extract the mask\n",
        "original_img, mask = giq.segmentation.extract(\n",
        "    model=BiRefNet,\n",
        "    image_path='/content/test_image/cloth_1.jpg',\n",
        "    resize_dim=(1024, 1024),\n",
        "    normalize_mean=[0.485, 0.456, 0.406],\n",
        "    normalize_std=[0.229, 0.224, 0.225],\n",
        "    high_precision=True\n",
        ")\n",
        "\n",
        "# Change background color\n",
        "bg_modified_img = giq.segmentation.change_background_color(\n",
        "    image_np=original_img,\n",
        "    mask_np=mask,\n",
        "    background_color=[102, 255, 102]\n",
        ")"
      ],
      "metadata": {
        "id": "hfXjYs-mkE4s"
      },
      "execution_count": null,
      "outputs": []
    },
    {
      "cell_type": "code",
      "source": [
        "# Plot the original image, mask, and background modified image\n",
        "giq.segmentation.plot(image_np=original_img, figsize=(3, 3))\n",
        "giq.segmentation.plot(image_np=mask, figsize=(3, 3))\n",
        "giq.segmentation.plot(image_np=bg_modified_img, figsize=(3, 3))"
      ],
      "metadata": {
        "id": "dPkVas24rw2H"
      },
      "execution_count": null,
      "outputs": []
    }
  ]
}