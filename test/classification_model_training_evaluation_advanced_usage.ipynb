{
  "nbformat": 4,
  "nbformat_minor": 0,
  "metadata": {
    "colab": {
      "provenance": [],
      "gpuType": "T4",
      "authorship_tag": "ABX9TyM86uuEAMztFXJELwGY11Hc",
      "include_colab_link": true
    },
    "kernelspec": {
      "name": "python3",
      "display_name": "Python 3"
    },
    "language_info": {
      "name": "python"
    },
    "accelerator": "GPU"
  },
  "cells": [
    {
      "cell_type": "markdown",
      "metadata": {
        "id": "view-in-github",
        "colab_type": "text"
      },
      "source": [
        "<a href=\"https://colab.research.google.com/github/lygitdata/GarmentIQ/blob/main/test/classification_model_training_evaluation_advanced_usage.ipynb\" target=\"_parent\"><img src=\"https://colab.research.google.com/assets/colab-badge.svg\" alt=\"Open In Colab\"/></a>"
      ]
    },
    {
      "cell_type": "markdown",
      "source": [
        "# GarmentIQ Classification Model Training & Evaluation - Advanced Usage"
      ],
      "metadata": {
        "id": "uTYHtjS_NzhK"
      }
    },
    {
      "cell_type": "code",
      "execution_count": null,
      "metadata": {
        "id": "dCH_M1lbNhNi"
      },
      "outputs": [],
      "source": [
        "!pip install garmentiq -q"
      ]
    },
    {
      "cell_type": "code",
      "source": [
        "import garmentiq as giq\n",
        "from garmentiq.classification.model_definition import CNN3\n",
        "from garmentiq.classification.utils import CachedDataset\n",
        "import torch.optim as optim\n",
        "import torch.nn as nn"
      ],
      "metadata": {
        "id": "L7eOzqrGPvLp"
      },
      "execution_count": null,
      "outputs": []
    },
    {
      "cell_type": "code",
      "source": [
        "# Download training data\n",
        "# To train a model using GarmentIQ framework, your data must be in a zip file\n",
        "# and the zip file should have the same structure as our data. See the link:\n",
        "# https://www.kaggle.com/datasets/lygitdata/garmentiq-classification-set-nordstrom-and-myntra\n",
        "!curl -L -o garmentiq-classification-set-nordstrom-and-myntra.zip \\\n",
        "  https://www.kaggle.com/api/v1/datasets/download/lygitdata/garmentiq-classification-set-nordstrom-and-myntra"
      ],
      "metadata": {
        "id": "QIb-L3XU9KJn"
      },
      "execution_count": null,
      "outputs": []
    },
    {
      "cell_type": "code",
      "source": [
        "# Split the data into training set and testing set\n",
        "data = giq.classification.train_test_split(\n",
        "    output_dir=\"data\",\n",
        "    train_zip_dir=\"garmentiq-classification-set-nordstrom-and-myntra.zip\",\n",
        "    metadata_csv=\"metadata.csv\",\n",
        "    label_column=\"garment\",\n",
        "    test_size=0.15,\n",
        "    verbose=True\n",
        ")"
      ],
      "metadata": {
        "id": "col7KU5vOFt6"
      },
      "execution_count": null,
      "outputs": []
    },
    {
      "cell_type": "code",
      "source": [
        "# Load the training set into memory for faster I/O during training\n",
        "train_images, train_labels, _ = giq.classification.load_data(\n",
        "    df=data[\"train_metadata\"],\n",
        "    img_dir=data[\"train_images\"],\n",
        "    label_column=\"garment\",\n",
        "    resize_dim=(60, 92),\n",
        "    normalize_mean=[0.8047, 0.7808, 0.7769],\n",
        "    normalize_std=[0.2957, 0.3077, 0.3081]\n",
        ")"
      ],
      "metadata": {
        "id": "CcS54pI1QrJx"
      },
      "execution_count": null,
      "outputs": []
    },
    {
      "cell_type": "code",
      "source": [
        "# Train with GarmentIQ predefined model - CNN3\n",
        "# Note that we use `model_class=CNN3` here\n",
        "# For demonstration purpose, we only use 2 folds and 5 epochs\n",
        "# Models are saved at the folder `cnn3_models`\n",
        "# It automatically selects the model with the lowest cross entropy\n",
        "# as the best model\n",
        "giq.classification.train_pytorch_nn(\n",
        "    model_class=CNN3,\n",
        "    model_args={\"num_classes\": 9},\n",
        "    dataset_class=CachedDataset,\n",
        "    dataset_args={\n",
        "        \"metadata_df\": data[\"train_metadata\"],\n",
        "        \"raw_labels\": data[\"train_metadata\"][\"garment\"],\n",
        "        \"cached_images\": train_images,\n",
        "        \"cached_labels\": train_labels,\n",
        "    },\n",
        "    param={\n",
        "        \"optimizer_class\": optim.AdamW,\n",
        "        \"optimizer_args\": {\"lr\": 0.001, \"weight_decay\": 1e-4},\n",
        "        \"n_fold\": 2,\n",
        "        \"n_epoch\": 5,\n",
        "        \"patience\": 2,\n",
        "        \"batch_size\": 256,\n",
        "        \"model_save_dir\": \"cnn3_models\",\n",
        "        \"best_model_name\": \"best_cnn3_model.pt\",\n",
        "    },\n",
        ")"
      ],
      "metadata": {
        "id": "ZWzfw235-nG8"
      },
      "execution_count": null,
      "outputs": []
    },
    {
      "cell_type": "code",
      "source": [
        "# Train with a user-defined model\n",
        "class UserDefinedCNN(nn.Module):\n",
        "    def __init__(self, num_classes):\n",
        "        super(UserDefinedCNN, self).__init__()\n",
        "        self.features = nn.Sequential(\n",
        "            nn.Conv2d(3, 32, kernel_size=3, padding=1),\n",
        "            nn.BatchNorm2d(32),\n",
        "            nn.ReLU(inplace=True),\n",
        "            nn.MaxPool2d(2, 2),\n",
        "            nn.Dropout(0.2),\n",
        "            nn.Conv2d(32, 64, kernel_size=3, padding=1),\n",
        "            nn.BatchNorm2d(64),\n",
        "            nn.ReLU(inplace=True),\n",
        "            nn.MaxPool2d(2, 2),\n",
        "            nn.Dropout(0.25),\n",
        "            nn.AdaptiveAvgPool2d((4, 4)),\n",
        "        )\n",
        "        self.classifier = nn.Sequential(\n",
        "            nn.Linear(64 * 4 * 4, 128),\n",
        "            nn.ReLU(inplace=True),\n",
        "            nn.Dropout(0.3),\n",
        "            nn.Linear(128, num_classes),\n",
        "        )\n",
        "    def forward(self, x):\n",
        "        x = self.features(x)\n",
        "        x = x.view(x.size(0), -1)\n",
        "        x = self.classifier(x)\n",
        "        return x\n",
        "\n",
        "# For demonstration purpose, we only use 2 folds and 5 epochs\n",
        "# Models are saved at the folder `cnn1_models`\n",
        "# It automatically selects the model with the lowest cross entropy\n",
        "# as the best model\n",
        "giq.classification.train_pytorch_nn(\n",
        "    model_class=UserDefinedCNN,\n",
        "    model_args={\"num_classes\": 9},\n",
        "    dataset_class=CachedDataset,\n",
        "    dataset_args={\n",
        "        \"metadata_df\": data[\"train_metadata\"],\n",
        "        \"raw_labels\": data[\"train_metadata\"][\"garment\"],\n",
        "        \"cached_images\": train_images,\n",
        "        \"cached_labels\": train_labels,\n",
        "    },\n",
        "    param={\n",
        "        \"optimizer_class\": optim.AdamW,\n",
        "        \"optimizer_args\": {\"lr\": 0.001, \"weight_decay\": 1e-4},\n",
        "        \"n_fold\": 2,\n",
        "        \"n_epoch\": 5,\n",
        "        \"patience\": 2,\n",
        "        \"batch_size\": 256,\n",
        "        \"model_save_dir\": \"userdefined_cnn_models\",\n",
        "        \"best_model_name\": \"best_userdefined_cnn_model.pt\",\n",
        "    },\n",
        ")"
      ],
      "metadata": {
        "id": "jxoTUMM5ADAR"
      },
      "execution_count": null,
      "outputs": []
    },
    {
      "cell_type": "code",
      "source": [
        "# Load the testing set for model evaluation\n",
        "test_images, test_labels, _ = giq.classification.load_data(\n",
        "    df=data[\"test_metadata\"],\n",
        "    img_dir=data[\"test_images\"],\n",
        "    label_column=\"garment\",\n",
        "    resize_dim=(60, 92),\n",
        "    normalize_mean=[0.8047, 0.7808, 0.7769],\n",
        "    normalize_std=[0.2957, 0.3077, 0.3081]\n",
        ")"
      ],
      "metadata": {
        "id": "4SJBuwwj_csd"
      },
      "execution_count": null,
      "outputs": []
    },
    {
      "cell_type": "code",
      "source": [
        "# Evaluate CNN3 model on the testing set\n",
        "giq.classification.test_pytorch_nn(\n",
        "    model_path=\"cnn3_models/best_cnn3_model.pt\",\n",
        "    model_class=CNN3,\n",
        "    model_args={\"num_classes\": 9},\n",
        "    dataset_class=CachedDataset,\n",
        "    dataset_args={\n",
        "        \"raw_labels\": data[\"test_metadata\"][\"garment\"],\n",
        "        \"cached_images\": test_images,\n",
        "        \"cached_labels\": test_labels,\n",
        "    },\n",
        "    param={\"batch_size\": 64},\n",
        ")"
      ],
      "metadata": {
        "id": "MsJVxrcgCkjx"
      },
      "execution_count": null,
      "outputs": []
    },
    {
      "cell_type": "code",
      "source": [
        "# Evaluate user-defined model on the testing set\n",
        "# We can see that the CNN3 model performs better on the test set\n",
        "# than this user-defined CNN model\n",
        "giq.classification.test_pytorch_nn(\n",
        "    model_path=\"userdefined_cnn_models/best_userdefined_cnn_model.pt\",\n",
        "    model_class=UserDefinedCNN,\n",
        "    model_args={\"num_classes\": 9},\n",
        "    dataset_class=CachedDataset,\n",
        "    dataset_args={\n",
        "        \"raw_labels\": data[\"test_metadata\"][\"garment\"],\n",
        "        \"cached_images\": test_images,\n",
        "        \"cached_labels\": test_labels,\n",
        "    },\n",
        "    param={\"batch_size\": 64},\n",
        ")"
      ],
      "metadata": {
        "id": "_zeZcebZCsCp"
      },
      "execution_count": null,
      "outputs": []
    }
  ]
}