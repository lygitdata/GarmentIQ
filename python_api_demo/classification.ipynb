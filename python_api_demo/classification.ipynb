{
  "nbformat": 4,
  "nbformat_minor": 0,
  "metadata": {
    "colab": {
      "provenance": [],
      "gpuType": "T4",
      "include_colab_link": true
    },
    "kernelspec": {
      "name": "python3",
      "display_name": "Python 3"
    },
    "language_info": {
      "name": "python"
    },
    "accelerator": "GPU"
  },
  "cells": [
    {
      "cell_type": "markdown",
      "metadata": {
        "id": "view-in-github",
        "colab_type": "text"
      },
      "source": [
        "<a href=\"https://colab.research.google.com/github/lygitdata/GarmentIQ/blob/main/python_api_demo/classification.ipynb\" target=\"_parent\"><img src=\"https://colab.research.google.com/assets/colab-badge.svg\" alt=\"Open In Colab\"/></a>"
      ]
    },
    {
      "cell_type": "markdown",
      "source": [
        "# Import `garmentiq`, install dependencies, and download data"
      ],
      "metadata": {
        "id": "5fo6MpKJQHCd"
      }
    },
    {
      "cell_type": "code",
      "execution_count": 1,
      "metadata": {
        "colab": {
          "base_uri": "https://localhost:8080/"
        },
        "id": "Q_WovdxwQBYD",
        "outputId": "74a87e94-7366-4d7c-c080-2b2f8fecb500"
      },
      "outputs": [
        {
          "output_type": "stream",
          "name": "stdout",
          "text": [
            "Cloning into 'GarmentIQ'...\n",
            "remote: Enumerating objects: 1881, done.\u001b[K\n",
            "remote: Counting objects: 100% (263/263), done.\u001b[K\n",
            "remote: Compressing objects: 100% (237/237), done.\u001b[K\n",
            "remote: Total 1881 (delta 120), reused 83 (delta 25), pack-reused 1618 (from 2)\u001b[K\n",
            "Receiving objects: 100% (1881/1881), 263.47 MiB | 24.03 MiB/s, done.\n",
            "Resolving deltas: 100% (939/939), done.\n",
            "\u001b[2K     \u001b[90m━━━━━━━━━━━━━━━━━━━━━━━━━━━━━━━━━━━━━━━━\u001b[0m \u001b[32m89.9/89.9 kB\u001b[0m \u001b[31m4.6 MB/s\u001b[0m eta \u001b[36m0:00:00\u001b[0m\n",
            "\u001b[2K   \u001b[90m━━━━━━━━━━━━━━━━━━━━━━━━━━━━━━━━━━━━━━━━\u001b[0m \u001b[32m13.1/13.1 MB\u001b[0m \u001b[31m78.4 MB/s\u001b[0m eta \u001b[36m0:00:00\u001b[0m\n",
            "\u001b[2K   \u001b[90m━━━━━━━━━━━━━━━━━━━━━━━━━━━━━━━━━━━━━━━━\u001b[0m \u001b[32m4.5/4.5 MB\u001b[0m \u001b[31m74.1 MB/s\u001b[0m eta \u001b[36m0:00:00\u001b[0m\n",
            "\u001b[2K   \u001b[90m━━━━━━━━━━━━━━━━━━━━━━━━━━━━━━━━━━━━━━━━\u001b[0m \u001b[32m10.2/10.2 MB\u001b[0m \u001b[31m71.5 MB/s\u001b[0m eta \u001b[36m0:00:00\u001b[0m\n",
            "\u001b[2K   \u001b[90m━━━━━━━━━━━━━━━━━━━━━━━━━━━━━━━━━━━━━━━━\u001b[0m \u001b[32m1.1/1.1 MB\u001b[0m \u001b[31m36.3 MB/s\u001b[0m eta \u001b[36m0:00:00\u001b[0m\n",
            "\u001b[2K   \u001b[90m━━━━━━━━━━━━━━━━━━━━━━━━━━━━━━━━━━━━━━━━\u001b[0m \u001b[32m363.4/363.4 MB\u001b[0m \u001b[31m4.3 MB/s\u001b[0m eta \u001b[36m0:00:00\u001b[0m\n",
            "\u001b[2K   \u001b[90m━━━━━━━━━━━━━━━━━━━━━━━━━━━━━━━━━━━━━━━━\u001b[0m \u001b[32m13.8/13.8 MB\u001b[0m \u001b[31m123.3 MB/s\u001b[0m eta \u001b[36m0:00:00\u001b[0m\n",
            "\u001b[2K   \u001b[90m━━━━━━━━━━━━━━━━━━━━━━━━━━━━━━━━━━━━━━━━\u001b[0m \u001b[32m24.6/24.6 MB\u001b[0m \u001b[31m98.5 MB/s\u001b[0m eta \u001b[36m0:00:00\u001b[0m\n",
            "\u001b[2K   \u001b[90m━━━━━━━━━━━━━━━━━━━━━━━━━━━━━━━━━━━━━━━━\u001b[0m \u001b[32m883.7/883.7 kB\u001b[0m \u001b[31m57.2 MB/s\u001b[0m eta \u001b[36m0:00:00\u001b[0m\n",
            "\u001b[2K   \u001b[90m━━━━━━━━━━━━━━━━━━━━━━━━━━━━━━━━━━━━━━━━\u001b[0m \u001b[32m664.8/664.8 MB\u001b[0m \u001b[31m2.8 MB/s\u001b[0m eta \u001b[36m0:00:00\u001b[0m\n",
            "\u001b[2K   \u001b[90m━━━━━━━━━━━━━━━━━━━━━━━━━━━━━━━━━━━━━━━━\u001b[0m \u001b[32m211.5/211.5 MB\u001b[0m \u001b[31m5.3 MB/s\u001b[0m eta \u001b[36m0:00:00\u001b[0m\n",
            "\u001b[2K   \u001b[90m━━━━━━━━━━━━━━━━━━━━━━━━━━━━━━━━━━━━━━━━\u001b[0m \u001b[32m56.3/56.3 MB\u001b[0m \u001b[31m13.3 MB/s\u001b[0m eta \u001b[36m0:00:00\u001b[0m\n",
            "\u001b[2K   \u001b[90m━━━━━━━━━━━━━━━━━━━━━━━━━━━━━━━━━━━━━━━━\u001b[0m \u001b[32m127.9/127.9 MB\u001b[0m \u001b[31m7.3 MB/s\u001b[0m eta \u001b[36m0:00:00\u001b[0m\n",
            "\u001b[2K   \u001b[90m━━━━━━━━━━━━━━━━━━━━━━━━━━━━━━━━━━━━━━━━\u001b[0m \u001b[32m207.5/207.5 MB\u001b[0m \u001b[31m5.6 MB/s\u001b[0m eta \u001b[36m0:00:00\u001b[0m\n",
            "\u001b[2K   \u001b[90m━━━━━━━━━━━━━━━━━━━━━━━━━━━━━━━━━━━━━━━━\u001b[0m \u001b[32m21.1/21.1 MB\u001b[0m \u001b[31m79.8 MB/s\u001b[0m eta \u001b[36m0:00:00\u001b[0m\n",
            "\u001b[2K   \u001b[90m━━━━━━━━━━━━━━━━━━━━━━━━━━━━━━━━━━━━━━━━\u001b[0m \u001b[32m2.1/2.1 MB\u001b[0m \u001b[31m69.2 MB/s\u001b[0m eta \u001b[36m0:00:00\u001b[0m\n",
            "\u001b[?25h\u001b[31mERROR: pip's dependency resolver does not currently take into account all the packages that are installed. This behaviour is the source of the following dependency conflicts.\n",
            "google-colab 1.0.0 requires pandas==2.2.2, but you have pandas 2.2.3 which is incompatible.\u001b[0m\u001b[31m\n",
            "\u001b[0m"
          ]
        }
      ],
      "source": [
        "import sys\n",
        "\n",
        "!git clone https://github.com/lygitdata/GarmentIQ.git\n",
        "!pip install -r /content/GarmentIQ/src/requirements.txt -q\n",
        "\n",
        "sys.path.insert(0, './GarmentIQ/src')"
      ]
    },
    {
      "cell_type": "code",
      "source": [
        "import garmentiq as giq\n",
        "from garmentiq.classification.model_definition import CNN3, CNN4, tinyViT\n",
        "from garmentiq.classification.utils import CachedDataset\n",
        "import torch.optim as optim\n",
        "import torch.nn as nn"
      ],
      "metadata": {
        "id": "iV7pn3hvQKaN"
      },
      "execution_count": 2,
      "outputs": []
    },
    {
      "cell_type": "code",
      "source": [
        "# Download data\n",
        "!curl -L -o /content/garmentiq-classification-set-nordstrom-and-myntra.zip\\\n",
        "  https://www.kaggle.com/api/v1/datasets/download/lygitdata/garmentiq-classification-set-nordstrom-and-myntra"
      ],
      "metadata": {
        "colab": {
          "base_uri": "https://localhost:8080/"
        },
        "id": "UAdS02QnQPUd",
        "outputId": "060a79a5-9041-4c69-f924-bdda6a3e332d"
      },
      "execution_count": 3,
      "outputs": [
        {
          "output_type": "stream",
          "name": "stdout",
          "text": [
            "  % Total    % Received % Xferd  Average Speed   Time    Time     Time  Current\n",
            "                                 Dload  Upload   Total   Spent    Left  Speed\n",
            "  0     0    0     0    0     0      0      0 --:--:-- --:--:-- --:--:--     0\n",
            "100 1391M  100 1391M    0     0  34.1M      0  0:00:40  0:00:40 --:--:-- 34.1M\n"
          ]
        }
      ]
    },
    {
      "cell_type": "markdown",
      "source": [
        "# Function `train_test_split`\n",
        "\n",
        "Source code: https://github.com/lygitdata/GarmentIQ/blob/main/src/garmentiq/classification/train_test_split.py"
      ],
      "metadata": {
        "id": "5pXPUL5ZQ70k"
      }
    },
    {
      "cell_type": "code",
      "source": [
        "DATA = giq.classification.train_test_split(\n",
        "    output_dir=\"/content/data\",\n",
        "    train_zip_dir=\"/content/garmentiq-classification-set-nordstrom-and-myntra.zip\",\n",
        "    test_size=0.15\n",
        ")"
      ],
      "metadata": {
        "colab": {
          "base_uri": "https://localhost:8080/",
          "height": 205,
          "referenced_widgets": [
            "1948e13c44394ae09c2cae71827f0e42",
            "d07a5a601c914a77bbb5d8e08ba81e07",
            "0ece1b5a356c4a62bafb156268040f5b",
            "bcb90ca9e42944f7a13cf13ce9526556",
            "2ce47d1dd42544eabdbc8c5453d03f17",
            "572f4dabc65b4635b0dc7f399f5d6227",
            "a9bd9fc2fda144f2b5170d61f2d1fa7b",
            "ade5edec601544df857e482d77db9bea",
            "f97b773e67be43ac8916e6a9388766fb",
            "cd1708a2d5bd4a1b9685636b69869bc5",
            "6576e89142c14cdab2a57de256f84e5e"
          ]
        },
        "id": "EDJIuJZ3RKIx",
        "outputId": "0cda908a-50a4-4ba2-9103-3d17ef9a4227"
      },
      "execution_count": 4,
      "outputs": [
        {
          "output_type": "display_data",
          "data": {
            "text/plain": [
              "Extracting:   0%|          | 0/23267 [00:00<?, ?it/s]"
            ],
            "application/vnd.jupyter.widget-view+json": {
              "version_major": 2,
              "version_minor": 0,
              "model_id": "1948e13c44394ae09c2cae71827f0e42"
            }
          },
          "metadata": {}
        },
        {
          "output_type": "stream",
          "name": "stdout",
          "text": [
            "\n",
            "\n",
            "Splitting train data into train/test sets...\n",
            "\n",
            "All filenames in /content/data/train/images match the metadata.\n",
            "\n",
            "\n",
            "All filenames in /content/data/test/images match the metadata.\n",
            "\n"
          ]
        }
      ]
    },
    {
      "cell_type": "markdown",
      "source": [
        "# Apply pretrained models"
      ],
      "metadata": {
        "id": "kV6fLrPgVRw6"
      }
    },
    {
      "cell_type": "code",
      "source": [
        "# Download CNN-3, CNN-4, and Tiny ViT pretrained models\n",
        "!mkdir -p /content/pretrained_models\n",
        "\n",
        "!wget -q -O /content/pretrained_models/cnn_3.pt https://raw.githubusercontent.com/lygitdata/GarmentIQ/refs/heads/gh-pages/application/demo/image-classification/models/cnn_3.pt\n",
        "!wget -q -O /content/pretrained_models/cnn_4.pt https://raw.githubusercontent.com/lygitdata/GarmentIQ/refs/heads/gh-pages/application/demo/image-classification/models/cnn_4.pt\n",
        "!wget -q -O /content/pretrained_models/tiny_vit.pt https://raw.githubusercontent.com/lygitdata/GarmentIQ/refs/heads/gh-pages/application/demo/image-classification/models/tiny_vit.pt"
      ],
      "metadata": {
        "id": "F0hLfeuuVWJE"
      },
      "execution_count": 5,
      "outputs": []
    },
    {
      "cell_type": "markdown",
      "source": [
        "## Function `load_data`\n",
        "\n",
        "Source code: https://github.com/lygitdata/GarmentIQ/blob/main/src/garmentiq/classification/load_data.py"
      ],
      "metadata": {
        "id": "_UVcYi5QV8xx"
      }
    },
    {
      "cell_type": "code",
      "source": [
        "test_images, test_labels, _ = giq.classification.load_data(\n",
        "    df=DATA[\"test_metadata\"],\n",
        "    img_dir=DATA[\"test_images\"],\n",
        "    label_column=\"garment\",\n",
        "    resize_dim=(120, 184),\n",
        "    normalize_mean=[0.8047, 0.7808, 0.7769],\n",
        "    normalize_std=[0.2957, 0.3077, 0.3081]\n",
        ")"
      ],
      "metadata": {
        "colab": {
          "base_uri": "https://localhost:8080/",
          "height": 49,
          "referenced_widgets": [
            "b9028b4dc6cf4ce0ac24161d48981c6f",
            "ad4cc590d1d744bbafdeaa24bffe8dca",
            "7a1bb2351a1b4e76ac6c8d8bf370d71b",
            "cda59c3abc804e7f8b0047dc118c589f",
            "e65ca344f6e64f708794f4a9a44dbe27",
            "48b6c8f13c0a4381a17934cc5ef12bf0",
            "6e1bcd9fc5574c7195840fb6f809a1c3",
            "a653e363df894612afd8df90c9bd60f3",
            "00ec66388ac04cc4bf173c7bc30474de",
            "2cbc596f1b704cb5a3b6b2639ab5f7fb",
            "60692eb67d1344d8b205d3f230a1fb61"
          ]
        },
        "id": "TXvBnLEKV79h",
        "outputId": "63da2301-f35b-4fc8-fbab-3894c8f3db55"
      },
      "execution_count": 6,
      "outputs": [
        {
          "output_type": "display_data",
          "data": {
            "text/plain": [
              "Loading data into memory:   0%|          | 0/3489 [00:00<?, ?it/s]"
            ],
            "application/vnd.jupyter.widget-view+json": {
              "version_major": 2,
              "version_minor": 0,
              "model_id": "b9028b4dc6cf4ce0ac24161d48981c6f"
            }
          },
          "metadata": {}
        }
      ]
    },
    {
      "cell_type": "markdown",
      "source": [
        "## Start testing models using the test set"
      ],
      "metadata": {
        "id": "Nsfb80yRWIAD"
      }
    },
    {
      "cell_type": "markdown",
      "source": [
        "Function `test_pytorch_nn` source code: https://github.com/lygitdata/GarmentIQ/blob/main/src/garmentiq/classification/test_pytorch_nn.py"
      ],
      "metadata": {
        "id": "aMaFxQW_Xl9v"
      }
    },
    {
      "cell_type": "markdown",
      "source": [
        "### Test `CNN-3` on the test set"
      ],
      "metadata": {
        "id": "mJbiXIMdWLqU"
      }
    },
    {
      "cell_type": "code",
      "source": [
        "giq.classification.test_pytorch_nn(\n",
        "    model_path=\"/content/pretrained_models/cnn_3.pt\",\n",
        "    model_class=CNN3,\n",
        "    model_args={\"num_classes\": 9},\n",
        "    dataset_class=CachedDataset,\n",
        "    dataset_args={\n",
        "        \"raw_labels\": DATA[\"test_metadata\"][\"garment\"],\n",
        "        \"cached_images\": test_images,\n",
        "        \"cached_labels\": test_labels,\n",
        "    },\n",
        "    param={\"batch_size\": 64},\n",
        ")"
      ],
      "metadata": {
        "colab": {
          "base_uri": "https://localhost:8080/",
          "height": 413,
          "referenced_widgets": [
            "b7ace199a56c4c03b4fc562417656569",
            "65d4f9ed893c4d1fb522f8720efe62c2",
            "64280da8d61949f3b016726f28271cf7",
            "ae8c8d953dda4c00806be78591f727dd",
            "3144a934f688493eafc64eb71b0e8d55",
            "5fe9ed0318114c92a4f539a558c879e6",
            "7ef03f77de0848aea90976bada621818",
            "0bfc163f85ff4d369f6605df9f38d586",
            "341346ab252f4267ae3ca6ac773ab4b6",
            "6aa3bf178ea44247a882333e33dc9fed",
            "3ae069be43134504861b920cd76e9eac"
          ]
        },
        "id": "8FWMOpXmWOp0",
        "outputId": "1adbf1e0-5eba-4e77-fecd-a2925c67631f"
      },
      "execution_count": 7,
      "outputs": [
        {
          "output_type": "display_data",
          "data": {
            "text/plain": [
              "Evaluating:   0%|          | 0/55 [00:00<?, ?it/s]"
            ],
            "application/vnd.jupyter.widget-view+json": {
              "version_major": 2,
              "version_minor": 0,
              "model_id": "b7ace199a56c4c03b4fc562417656569"
            }
          },
          "metadata": {}
        },
        {
          "output_type": "stream",
          "name": "stdout",
          "text": [
            "Test Loss: 0.1678\n",
            "Test Accuracy: 0.9458\n",
            "Test F1 Score: 0.9459\n",
            "\n",
            "Classification Report:\n",
            "                    precision    recall  f1-score   support\n",
            "\n",
            " long sleeve dress       0.93      0.89      0.91       384\n",
            "   long sleeve top       0.99      0.97      0.98       442\n",
            "short sleeve dress       0.85      0.93      0.89       382\n",
            "  short sleeve top       0.97      0.98      0.98       523\n",
            "            shorts       0.97      0.98      0.98       485\n",
            "             skirt       0.92      0.91      0.92       281\n",
            "          trousers       0.98      0.98      0.98       320\n",
            "              vest       0.94      0.93      0.93       230\n",
            "        vest dress       0.94      0.90      0.92       442\n",
            "\n",
            "          accuracy                           0.95      3489\n",
            "         macro avg       0.94      0.94      0.94      3489\n",
            "      weighted avg       0.95      0.95      0.95      3489\n",
            "\n"
          ]
        }
      ]
    },
    {
      "cell_type": "code",
      "source": [
        "img_to_test = DATA['test_metadata']['filename'][963]\n",
        "\n",
        "pred_label, pred_prob = giq.classification.predict(\n",
        "    model_path=\"/content/pretrained_models/cnn_3.pt\",\n",
        "    model_class=CNN3,\n",
        "    model_args={\"num_classes\": 9},\n",
        "    image_path=f\"/content/data/test/images/{img_to_test}\",\n",
        "    classes=DATA['test_metadata']['garment'].unique().tolist(),\n",
        "    resize_dim=(120, 184),\n",
        "    normalize_mean=[0.8047, 0.7808, 0.7769],\n",
        "    normalize_std=[0.2957, 0.3077, 0.3081]\n",
        ")\n",
        "\n",
        "print(\n",
        "    \"True label: \", img_to_test,\n",
        "    \"\\nPredicted label: \", pred_label,\n",
        "    \"\\nPredicted Probabilities: \", pred_prob\n",
        ")"
      ],
      "metadata": {
        "id": "d68YEHgHGH07",
        "outputId": "8c0cbca8-cfb7-46f0-d50b-af8612ba6302",
        "colab": {
          "base_uri": "https://localhost:8080/"
        }
      },
      "execution_count": 8,
      "outputs": [
        {
          "output_type": "stream",
          "name": "stdout",
          "text": [
            "True label:  long_sleeve_top_3201.jpg \n",
            "Predicted label:  long sleeve top \n",
            "Predicted Probabilities:  [3.2848849514266476e-05, 0.9988889098167419, 3.692270547617227e-05, 7.212285709101707e-05, 0.00017522269627079368, 6.496862624771893e-05, 0.0001241860882146284, 0.0005721973720937967, 3.258765354985371e-05]\n"
          ]
        }
      ]
    },
    {
      "cell_type": "markdown",
      "source": [
        "### Test `CNN-4` on the test set"
      ],
      "metadata": {
        "id": "dO17E4ETWdtl"
      }
    },
    {
      "cell_type": "code",
      "source": [
        "giq.classification.test_pytorch_nn(\n",
        "    model_path=\"/content/pretrained_models/cnn_4.pt\",\n",
        "    model_class=CNN4,\n",
        "    model_args={\"num_classes\": 9},\n",
        "    dataset_class=CachedDataset,\n",
        "    dataset_args={\n",
        "        \"raw_labels\": DATA[\"test_metadata\"][\"garment\"],\n",
        "        \"cached_images\": test_images,\n",
        "        \"cached_labels\": test_labels,\n",
        "    },\n",
        "    param={\"batch_size\": 64},\n",
        ")"
      ],
      "metadata": {
        "colab": {
          "base_uri": "https://localhost:8080/",
          "height": 413,
          "referenced_widgets": [
            "6f7a5b507cb347a09fa1c7d24eb9ca1b",
            "1a8d1a5008a543bc851f873845989123",
            "b9c04ed686c14231bda4f6c435fc8bce",
            "b270978107d7474da98c2022871c531a",
            "0e445d55e5ef41b68c54fe26bd85efa5",
            "d93ed30e6c3941eda25e2740369c16e1",
            "60713b9f65014d6493a1901f70924f7c",
            "668bdf5696d34951aa3fbce3e10c4713",
            "964ca08b45104593b60993aac7667174",
            "a73f368c0b7741fd92238b9e23b09ab5",
            "2779591955254e21b4b5c8cc68457e31"
          ]
        },
        "id": "04YkyJOoWg-N",
        "outputId": "da4d89ed-14aa-4f4d-d109-c0f5b8c468d3"
      },
      "execution_count": 9,
      "outputs": [
        {
          "output_type": "display_data",
          "data": {
            "text/plain": [
              "Evaluating:   0%|          | 0/55 [00:00<?, ?it/s]"
            ],
            "application/vnd.jupyter.widget-view+json": {
              "version_major": 2,
              "version_minor": 0,
              "model_id": "6f7a5b507cb347a09fa1c7d24eb9ca1b"
            }
          },
          "metadata": {}
        },
        {
          "output_type": "stream",
          "name": "stdout",
          "text": [
            "Test Loss: 0.1611\n",
            "Test Accuracy: 0.9533\n",
            "Test F1 Score: 0.9533\n",
            "\n",
            "Classification Report:\n",
            "                    precision    recall  f1-score   support\n",
            "\n",
            " long sleeve dress       0.94      0.88      0.91       384\n",
            "   long sleeve top       0.99      0.98      0.99       442\n",
            "short sleeve dress       0.87      0.95      0.91       382\n",
            "  short sleeve top       0.98      0.99      0.99       523\n",
            "            shorts       0.98      0.99      0.98       485\n",
            "             skirt       0.93      0.91      0.92       281\n",
            "          trousers       0.97      0.99      0.98       320\n",
            "              vest       0.97      0.94      0.96       230\n",
            "        vest dress       0.94      0.92      0.93       442\n",
            "\n",
            "          accuracy                           0.95      3489\n",
            "         macro avg       0.95      0.95      0.95      3489\n",
            "      weighted avg       0.95      0.95      0.95      3489\n",
            "\n"
          ]
        }
      ]
    },
    {
      "cell_type": "code",
      "source": [
        "pred_label, pred_prob = giq.classification.predict(\n",
        "    model_path=\"/content/pretrained_models/cnn_4.pt\",\n",
        "    model_class=CNN4,\n",
        "    model_args={\"num_classes\": 9},\n",
        "    image_path=f\"/content/data/test/images/{img_to_test}\",\n",
        "    classes=DATA['test_metadata']['garment'].unique().tolist(),\n",
        "    resize_dim=(120, 184),\n",
        "    normalize_mean=[0.8047, 0.7808, 0.7769],\n",
        "    normalize_std=[0.2957, 0.3077, 0.3081]\n",
        ")\n",
        "\n",
        "print(\n",
        "    \"True label: \", img_to_test,\n",
        "    \"\\nPredicted label: \", pred_label,\n",
        "    \"\\nPredicted Probabilities: \", pred_prob\n",
        ")"
      ],
      "metadata": {
        "id": "TE4mkUCKGTkE",
        "outputId": "526de34e-d5be-44a0-d80d-f7f74ce4cebf",
        "colab": {
          "base_uri": "https://localhost:8080/"
        }
      },
      "execution_count": 10,
      "outputs": [
        {
          "output_type": "stream",
          "name": "stdout",
          "text": [
            "True label:  long_sleeve_top_3201.jpg \n",
            "Predicted label:  long sleeve top \n",
            "Predicted Probabilities:  [6.615861821046565e-06, 0.99965500831604, 2.618196958792396e-05, 8.517393143847585e-05, 1.625174809305463e-05, 1.419600721419556e-05, 9.749750461196527e-06, 8.316439198097214e-05, 0.00010364743502577767]\n"
          ]
        }
      ]
    },
    {
      "cell_type": "markdown",
      "source": [
        "### Test `Tiny ViT` on the test set"
      ],
      "metadata": {
        "id": "m3_mdhSKWmCe"
      }
    },
    {
      "cell_type": "code",
      "source": [
        "giq.classification.test_pytorch_nn(\n",
        "    model_path=\"/content/pretrained_models/tiny_vit.pt\",\n",
        "    model_class=tinyViT,\n",
        "    model_args={\"num_classes\": 9, \"img_size\": (120, 184), \"patch_size\": 6},\n",
        "    dataset_class=CachedDataset,\n",
        "    dataset_args={\n",
        "        \"raw_labels\": DATA[\"test_metadata\"][\"garment\"],\n",
        "        \"cached_images\": test_images,\n",
        "        \"cached_labels\": test_labels,\n",
        "    },\n",
        "    param={\"batch_size\": 64},\n",
        ")"
      ],
      "metadata": {
        "colab": {
          "base_uri": "https://localhost:8080/",
          "height": 445,
          "referenced_widgets": [
            "aa6b219ebbbb437a9a8747141c86929e",
            "bdfb10c2667f40b69893a73dfc956d39",
            "9b30948b907f42899a977d1576dbd6a8",
            "d315759573724e238865e7ecd72ba448",
            "d3b132ea144f4c8aadca59202f897bac",
            "033fe612fd734a3698f6e3383f725259",
            "70e54ffbd49c47d1b251f8b64a7d5c88",
            "7b155ae52e9c400da3cadfc1847df456",
            "19d1049ae3a94d109b87b8c07f1891ff",
            "3568d9accf674937bfdb15d25f085930",
            "197e82572cb94db6825ed1f5407826ed",
            "217c423911644623be365064c9bfcba6",
            "f8e0b3c2b3d94de7987fcf52af6665c8",
            "d8ff8b1aa48d40eca4a1f13c8f843345",
            "79dde65780db47f2b46b650c189521cc",
            "d28c21729ec943629002651c4c999c05",
            "3d1b5e5a08964038b784793b459f74a9",
            "bca44d8c690f45abb3cf383da43adec6",
            "2fdef52a8e094a02b95f9d56a13608f2",
            "d2e6402b247749cd8c210bdb641035f5",
            "0e5e2caf595e4297a48a4ea198f3d46a",
            "241793fc0ba04918b053b831970f26cb"
          ]
        },
        "id": "G0urvDDxWs93",
        "outputId": "3079b6eb-fdec-481c-ed20-e17bac0e5720"
      },
      "execution_count": 11,
      "outputs": [
        {
          "output_type": "display_data",
          "data": {
            "text/plain": [
              "model.safetensors:   0%|          | 0.00/22.9M [00:00<?, ?B/s]"
            ],
            "application/vnd.jupyter.widget-view+json": {
              "version_major": 2,
              "version_minor": 0,
              "model_id": "aa6b219ebbbb437a9a8747141c86929e"
            }
          },
          "metadata": {}
        },
        {
          "output_type": "display_data",
          "data": {
            "text/plain": [
              "Evaluating:   0%|          | 0/55 [00:00<?, ?it/s]"
            ],
            "application/vnd.jupyter.widget-view+json": {
              "version_major": 2,
              "version_minor": 0,
              "model_id": "217c423911644623be365064c9bfcba6"
            }
          },
          "metadata": {}
        },
        {
          "output_type": "stream",
          "name": "stdout",
          "text": [
            "Test Loss: 0.1347\n",
            "Test Accuracy: 0.9576\n",
            "Test F1 Score: 0.9576\n",
            "\n",
            "Classification Report:\n",
            "                    precision    recall  f1-score   support\n",
            "\n",
            " long sleeve dress       0.94      0.92      0.93       384\n",
            "   long sleeve top       0.98      1.00      0.99       442\n",
            "short sleeve dress       0.89      0.91      0.90       382\n",
            "  short sleeve top       0.99      0.99      0.99       523\n",
            "            shorts       0.99      0.99      0.99       485\n",
            "             skirt       0.95      0.93      0.94       281\n",
            "          trousers       0.99      0.98      0.99       320\n",
            "              vest       0.92      0.95      0.94       230\n",
            "        vest dress       0.94      0.92      0.93       442\n",
            "\n",
            "          accuracy                           0.96      3489\n",
            "         macro avg       0.95      0.95      0.95      3489\n",
            "      weighted avg       0.96      0.96      0.96      3489\n",
            "\n"
          ]
        }
      ]
    },
    {
      "cell_type": "code",
      "source": [
        "pred_label, pred_prob = giq.classification.predict(\n",
        "    model_path=\"/content/pretrained_models/tiny_vit.pt\",\n",
        "    model_class=tinyViT,\n",
        "    model_args={\"num_classes\": 9, \"img_size\": (120, 184), \"patch_size\": 6},\n",
        "    image_path=f\"/content/data/test/images/{img_to_test}\",\n",
        "    classes=DATA['test_metadata']['garment'].unique().tolist(),\n",
        "    resize_dim=(120, 184),\n",
        "    normalize_mean=[0.8047, 0.7808, 0.7769],\n",
        "    normalize_std=[0.2957, 0.3077, 0.3081]\n",
        ")\n",
        "\n",
        "print(\n",
        "    \"True label: \", img_to_test,\n",
        "    \"\\nPredicted label: \", pred_label,\n",
        "    \"\\nPredicted Probabilities: \", pred_prob\n",
        ")"
      ],
      "metadata": {
        "id": "6vZNX2htEjoa",
        "outputId": "0d37cc6c-060c-4243-d36f-f71f01bb8b27",
        "colab": {
          "base_uri": "https://localhost:8080/"
        }
      },
      "execution_count": 12,
      "outputs": [
        {
          "output_type": "stream",
          "name": "stdout",
          "text": [
            "True label:  long_sleeve_top_3201.jpg \n",
            "Predicted label:  long sleeve top \n",
            "Predicted Probabilities:  [4.32005390393897e-06, 0.9999654293060303, 4.1738971390259394e-07, 1.2229177627887111e-05, 4.470796739042271e-06, 4.943235580867622e-06, 5.885341352040996e-07, 7.537031251558801e-06, 1.1389132481554043e-07]\n"
          ]
        }
      ]
    },
    {
      "cell_type": "markdown",
      "source": [
        "# Training"
      ],
      "metadata": {
        "id": "8o0oZkP0RlyI"
      }
    },
    {
      "cell_type": "markdown",
      "source": [
        "## Use pre-defined model structure `CNN3`\n",
        "\n",
        "To see all pre-defined model structures: https://github.com/lygitdata/GarmentIQ/blob/main/src/garmentiq/classification/model_definition.py"
      ],
      "metadata": {
        "id": "tJ_oe4i_R8pq"
      }
    },
    {
      "cell_type": "code",
      "source": [
        "CNN3"
      ],
      "metadata": {
        "colab": {
          "base_uri": "https://localhost:8080/",
          "height": 186
        },
        "id": "pS64jrXMSPr1",
        "outputId": "b50ad365-9d8c-4274-e388-f2e6f6960d0d"
      },
      "execution_count": 13,
      "outputs": [
        {
          "output_type": "execute_result",
          "data": {
            "text/plain": [
              "garmentiq.classification.model_definition.CNN3"
            ],
            "text/html": [
              "<div style=\"max-width:800px; border: 1px solid var(--colab-border-color);\"><style>\n",
              "      pre.function-repr-contents {\n",
              "        overflow-x: auto;\n",
              "        padding: 8px 12px;\n",
              "        max-height: 500px;\n",
              "      }\n",
              "\n",
              "      pre.function-repr-contents.function-repr-contents-collapsed {\n",
              "        cursor: pointer;\n",
              "        max-height: 100px;\n",
              "      }\n",
              "    </style>\n",
              "    <pre style=\"white-space: initial; background:\n",
              "         var(--colab-secondary-surface-color); padding: 8px 12px;\n",
              "         border-bottom: 1px solid var(--colab-border-color);\"><b>garmentiq.classification.model_definition.CNN3</b><br/>def _wrapped_call_impl(*args, **kwargs)</pre><pre class=\"function-repr-contents function-repr-contents-collapsed\" style=\"\"><a class=\"filepath\" style=\"display:none\" href=\"#\">/content/GarmentIQ/src/garmentiq/classification/model_definition.py</a>Base class for all neural network modules.\n",
              "\n",
              "Your models should also subclass this class.\n",
              "\n",
              "Modules can also contain other Modules, allowing them to be nested in\n",
              "a tree structure. You can assign the submodules as regular attributes::\n",
              "\n",
              "    import torch.nn as nn\n",
              "    import torch.nn.functional as F\n",
              "\n",
              "    class Model(nn.Module):\n",
              "        def __init__(self) -&gt; None:\n",
              "            super().__init__()\n",
              "            self.conv1 = nn.Conv2d(1, 20, 5)\n",
              "            self.conv2 = nn.Conv2d(20, 20, 5)\n",
              "\n",
              "        def forward(self, x):\n",
              "            x = F.relu(self.conv1(x))\n",
              "            return F.relu(self.conv2(x))\n",
              "\n",
              "Submodules assigned in this way will be registered, and will also have their\n",
              "parameters converted when you call :meth:`to`, etc.\n",
              "\n",
              ".. note::\n",
              "    As per the example above, an ``__init__()`` call to the parent class\n",
              "    must be made before assignment on the child.\n",
              "\n",
              ":ivar training: Boolean represents whether this module is in training or\n",
              "                evaluation mode.\n",
              ":vartype training: bool</pre>\n",
              "      <script>\n",
              "      if (google.colab.kernel.accessAllowed && google.colab.files && google.colab.files.view) {\n",
              "        for (const element of document.querySelectorAll('.filepath')) {\n",
              "          element.style.display = 'block'\n",
              "          element.onclick = (event) => {\n",
              "            event.preventDefault();\n",
              "            event.stopPropagation();\n",
              "            google.colab.files.view(element.textContent, 5);\n",
              "          };\n",
              "        }\n",
              "      }\n",
              "      for (const element of document.querySelectorAll('.function-repr-contents')) {\n",
              "        element.onclick = (event) => {\n",
              "          event.preventDefault();\n",
              "          event.stopPropagation();\n",
              "          element.classList.toggle('function-repr-contents-collapsed');\n",
              "        };\n",
              "      }\n",
              "      </script>\n",
              "      </div>"
            ]
          },
          "metadata": {},
          "execution_count": 13
        }
      ]
    },
    {
      "cell_type": "code",
      "source": [
        "train_images, train_labels, _ = giq.classification.load_data(\n",
        "    df=DATA[\"train_metadata\"],\n",
        "    img_dir=DATA[\"train_images\"],\n",
        "    label_column=\"garment\",\n",
        "    resize_dim=(60, 92),\n",
        "    normalize_mean=[0.8047, 0.7808, 0.7769],\n",
        "    normalize_std=[0.2957, 0.3077, 0.3081]\n",
        ")"
      ],
      "metadata": {
        "colab": {
          "base_uri": "https://localhost:8080/",
          "height": 49,
          "referenced_widgets": [
            "15659e8c87ec42b69d90214cfef4ba6d",
            "805d7968dff74301be820a37c2f7da9c",
            "6d7344a38c85481dbfd9770d8f78fb0f",
            "0aa488cd83b0463aa42c0aed56fde54d",
            "49e07f3205cf417aba04c5054baa6950",
            "75ad4379f20a45669dd307cecb1e536b",
            "0949f878a85249f4bc9165630362b231",
            "aa67c941dd5d45b99f839946b08cb929",
            "cbfc062933194fe5b3d35a49abc58de1",
            "7cd0cfa01734434794cf927410c1924e",
            "cb6634be5efb4ef797dce889ad4a69fb"
          ]
        },
        "id": "3lBakn6XRnqw",
        "outputId": "374637e0-f4e6-4bed-c66f-119f720991e0"
      },
      "execution_count": 14,
      "outputs": [
        {
          "output_type": "display_data",
          "data": {
            "text/plain": [
              "Loading data into memory:   0%|          | 0/19777 [00:00<?, ?it/s]"
            ],
            "application/vnd.jupyter.widget-view+json": {
              "version_major": 2,
              "version_minor": 0,
              "model_id": "15659e8c87ec42b69d90214cfef4ba6d"
            }
          },
          "metadata": {}
        }
      ]
    },
    {
      "cell_type": "markdown",
      "source": [
        "### Function `train_pytorch_nn`\n",
        "\n",
        "Source code: https://github.com/lygitdata/GarmentIQ/blob/main/src/garmentiq/classification/train_pytorch_nn.py"
      ],
      "metadata": {
        "id": "aDTGtty2SXPX"
      }
    },
    {
      "cell_type": "code",
      "source": [
        "giq.classification.train_pytorch_nn(\n",
        "    model_class=CNN3,\n",
        "    model_args={\"num_classes\": 9},\n",
        "    dataset_class=CachedDataset,\n",
        "    dataset_args={\n",
        "        \"metadata_df\": DATA[\"train_metadata\"],\n",
        "        \"raw_labels\": DATA[\"train_metadata\"][\"garment\"],\n",
        "        \"cached_images\": train_images,\n",
        "        \"cached_labels\": train_labels,\n",
        "    },\n",
        "    param={\n",
        "        \"optimizer_class\": optim.AdamW,\n",
        "        \"optimizer_args\": {\"lr\": 0.001, \"weight_decay\": 1e-4},\n",
        "        \"n_fold\": 2,\n",
        "        \"n_epoch\": 5,\n",
        "        \"patience\": 2,\n",
        "        \"batch_size\": 256,\n",
        "        \"model_save_dir\": \"/content/cnn3_models\",\n",
        "        \"best_model_name\": \"best_model.pt\",\n",
        "    },\n",
        ")"
      ],
      "metadata": {
        "id": "ZjVRH0XbSjBv",
        "outputId": "45afe30b-a989-465a-ae05-3812cab8f34b",
        "colab": {
          "base_uri": "https://localhost:8080/",
          "height": 295,
          "referenced_widgets": [
            "d8d73938cdfa4518abc2d396c979b4a3",
            "9ca2d1d6654c4978934e4ab64d665980",
            "0c10fded661b462396beec6f7665a358",
            "df8dcce8211c4b79b443cb6f767847cb",
            "5d5a2b7a802947f3a1ac8d57ccb248da",
            "d5047f86b33e4c6294b3eb163b12aa5a",
            "0fb4a33265dd409393cdd19d3a1c15c9",
            "1dda6b5360654517b2decded2d05acee",
            "522b573848ab4fb6b938e28a644d4856",
            "295c63d3991a40cb9f5c4a162e1006e1",
            "b9dd7b2b5057440aa4c4a280662ad63b",
            "61735cdaa67e40b98dbffa73bb9cd573",
            "61fa20edac344a3099e626ffe47d4f49",
            "a2f8385b336340578daeccfc5149778e",
            "8dd70b47a9dc4a2cb372a69297917732",
            "176ef673ac5c4da39da18b434184cfb0",
            "e11092f74817406782fc6a65c58a15a6",
            "8e55bb76d88047a9a1800d07380f3e3c",
            "128272ae1e884137be1edbf639b6456f",
            "e7e7aebdc61c42bb9a9548f0118966ad",
            "66543f4307d24dcdb7c1c52343b94e6e",
            "8bb33b53dcb9489fa0be2946be7a606c",
            "90fc485fc95c4a309b28938c5e3f21f7",
            "bd0ad9540b8e45b5bde5a62c1e62f577",
            "65e2b97e40fb4cdabe1847feb5d03c91",
            "0cb3fe4a09bc41b1bda94f2d44cf70b9",
            "aca2795d7cc84eb58ae829c8c73ab90e",
            "20264466eedc477996a8355eaa5ff9df",
            "5c31cf100e2848dd9fed99dadfc50d9b",
            "3c8235ca91e94fa59fe7e23f822cf4bd",
            "61d50c274c0c48a2b97711a79a6e1399",
            "94e6ccde36a2464bae428afa49c0d4e0",
            "760f12e6eb034c82ac191dfa948ff5c6",
            "d516935ee9774788a468ccdfa757c6e1",
            "3a6d2becb89c4dceb4a62645a8248d71",
            "c4342a077c654874a92b8ed85a81b0bb",
            "3d86118529e841d49a8d7744cb589bc9",
            "f400488b2fbe4448b3409b645559fc14",
            "1ba844de76614367b4a631ada1c6e693",
            "268f9e3432234d0587b5d1d9ec0b4658",
            "60220eb25e654c84a52f9ce17f151426",
            "9d9153c8da5c41b7a2a988b5304cb31c",
            "093b745bd1ab4a6fbf29f51c4b4e8bfe",
            "79e5a33c98f04ed1826810e182d9beb9",
            "c4f4b578cabb44128e53149f65b7d99c",
            "e3b63bb213fd4498bdcc12a0deb74045",
            "93abcfb8e1794481a2424066086c4125",
            "210717e2481e42cd8060b1a634d5098a",
            "b6b97000fd6f4c2d8f8a9b1908a3fb25",
            "69a62379bda34ae8b39119785fb19326",
            "898f46f3acff428898b75ddb258278a8",
            "fe4ffa7d1f7f453bb974f90c8df69b79",
            "80deabeee19649398e838074f87bf7ec",
            "c1c0b8a8cd794b46abd0be44f1c39fd3",
            "abe7d23574cd4341b6c01c42940da47d",
            "e44276ed825a40b6a2171a30ffb0acc1",
            "be7ba0c3e5b94a13849be62ff08dfa0e",
            "d037d303aa084b5eb805c948d639dda0",
            "e7ffe3d3d7c64133920487737472dd7a",
            "642887b8232a4c438a807de96ada1336",
            "5ce0028215f741c882dfbb0c8ac61eb7",
            "e8832f4366014019b0044ddae14e072e",
            "f396e8dcaec54ba08992016dac73369b",
            "b04cf87fbefc4d0d990e7e440e6702a0",
            "5af7beb254ec4677a32dd1c830b5de02",
            "33b7324a82b5406ca269fc41c223dfd5",
            "c22282e61c2c4d90b69c25efa52d5ea8",
            "e180fdfbe68a4ccbbee8a85e0a6d19ae",
            "a5c6ca189de24228ae37e0c77f5890ef",
            "f6f3d49039d248ba89b88c2e720639d4",
            "69b4212090484eb88277ca484b7140e6",
            "a0914022d9ce4baa8dc21c5930fc71d1",
            "8325dfb943b04f91938e6bb5da68f7a6",
            "84e31bf48081467d81bdff3c160f11cf",
            "f5994e5c73c04570b55de0673bcb0d7b",
            "5c9e3c4d98684218ba4069fd6ec943f8",
            "5c33101796cb4894a6d31e5b6bb37255",
            "5e9b4448926d4b1a85b45631ac446b0a",
            "97b4dfddd28849758319859d1ad5e276",
            "f8ae87db1693439b9bc238ffe5124205",
            "b8abbf96beba4fe59e887cb08ef763e8",
            "2b30d447f00e4502a3bc88744d139ea0",
            "90a7eb501b43427f9ee6a59ed4ddc442",
            "1c575ac2f5a343f78eac77a645fef013",
            "50d19fdebcc448908318f29c05ee9d68",
            "8c7c7148bc854dd9b5137a5e03ddee40",
            "0c3dbd1086324488a49d3dd1a321d517",
            "b5e86f68d7c946c7891bf38ffff99dc5",
            "4f34a927b0e5488c997abe42a4ead386",
            "dd646e54a0a342cd95dd7ba5c11b812e",
            "b19a4c244637427e8c15986fad2af9ee",
            "c30293903ad2478b9e41c360c336e933",
            "0d4e2e2e4a474b159bcdb83a6ffce7b8",
            "90da0eb1e3034a6ab7b604af7fb87057",
            "efcdffeeae9743c597abb45345753d77",
            "a126759b42f7459fa1fff2c0d9463d63",
            "11ab39559f8747cf87654ca6e169ca97",
            "4be573717f5a4d199054d25d8a1d5bad",
            "ea5f6711a8fe4f7ebfddad3b21fa3d09",
            "1bee4d47c5ba4ef1b18e7fe1fc812612",
            "2ec6e1565f99480595340d8bf261431f",
            "b6ddea74748e44a39c9fa12cb056f45f",
            "d83a30176f5b4d9d8df12d127147c05b",
            "cfa40c884d124234a8fa8852e547e6dc",
            "dff4cb8d7f714140b8dbd1674ee88e9d",
            "8ae1d8d1ec014a4986a44dcc8d66574e",
            "35498eee16a24f8d953b7d0707323a1d",
            "7d3624b487da459b817e2a3de5429f73",
            "bda27e2c24434f068b035d3e28f98ca8",
            "e445480d8ece4b97925e580066baf789",
            "243a99aca41d4e08aaad44577dc99082",
            "1262356ec60b4a3e8799bae367bbdd00",
            "36fa4343a47f46568fcc7aecfafd348a",
            "d69edaadc3d347f39cbf2479f3dfa64b",
            "9aa0a64c20434cad84d150b79de91140",
            "3a798728a5074f1d8f4cc29d7bdef949",
            "1c077c4093a54d4abb68584b8ecf5275",
            "e435ef938b304a4a9908f3bb067013b8",
            "45d8c2dccaf640dd9348689ba4ec8858",
            "9b562658ae9143de9df7619787aea5ad",
            "827925d56bf149c887c21f54f8c30109",
            "cba2296422b0403baecd431f9c1da38b",
            "2475e0d1c84f45feb4a504a6298e313e",
            "52229592a334471d819ec272b9e0762c",
            "980565e841fd4ea793d18f8a81865159",
            "cba3d37927ff4e46a9ab33fe27c2496a",
            "138682a6137948afb719ebfd04f7cb91",
            "869bc58846a5491eb139f0152277895f",
            "e9c684b17dbf4475ae9171039537d369",
            "26e00298555a4feda6bc75dbbffbaf19",
            "37e08f7a3d6649259a811c1dd517ad7f",
            "a1e1a2909e5448be89475941d8345d13",
            "4074488e41f84abb9a189e373674e972",
            "ecd5579fc05a438a8bdef9ba536d1a26",
            "6760d49b129e44a798c7420437caac92",
            "755097a50f634be3a213eff185ed0e3a",
            "cc5a9325366548b988771e471600d3cf",
            "2bb32793f6694fac9fda891cdc4655d0",
            "9756c2b2046d4011b447d86ef6246208",
            "221c74a5be144d88ae9e655f96404e22",
            "63821571f1ab487181e6948bc5e63eee",
            "c4e7258596214da6b8591a4542fff8e4",
            "a291397964ce41ceb2347f05ee9169cf",
            "934127f4ff2b4efc8ebea02029714983",
            "94e4e5b736c146209e1134cbc11e5c6d",
            "0fb44320ace6468da118f19b67f7b2e6",
            "de3d8d86152a47a48b418021809ec6e0",
            "d5f9cdd035ef45beb59a015f22731a12",
            "580519ba0da84f3495edaec280e319dc",
            "144d9b4dd5e944d1adefc4fc2b94a536",
            "30255c0d36b94703beae1a9365823fca",
            "7e2341f5a7454f72959327da8c140b06",
            "e9b3914f46c24748a9262b839ddce0bd",
            "2a8830189b714bf383b19624dfa83f13",
            "8352fba27f564885823ea9e6694216bd",
            "b03334f6eb8a4b049e61cf34bd53e4c2",
            "053ab9cf5bda4c55aae849fc24caf1cd",
            "e6b1c33701b8451cab27a5e0fb07a1ad",
            "7cb527a87cec4c4a9f6cc2ea906481e3",
            "bb3893c7d32b472e8b366268580d9c7f",
            "51efe9882a614471a8c7f485f4507b84",
            "11dd0ca7f981420bbf7e6c941c5b9999",
            "62738b39ae814b6aaec1711aace132d8",
            "b5acadb08001485db08ad2fd4b511832",
            "ffbec02ed75d486b81786e58a14e84c3",
            "402d090ba15541bf9bc14e1bbd199897",
            "c58e12f0c529484eaa820ef2d05c96ff",
            "0ab7b821a3884e88b50cadd94a9134e8",
            "06d50097ce5d409bb99933dbd7a393fc",
            "81a31b44361a4e918ff182f0db722eb4",
            "a7fa8a1353b04853b55e0d78a97173b4",
            "9fa7276bb22b47028dfa47b7b9fe5a4d",
            "41de0d6afa98403586322fe8622fefdf",
            "2e071c0e693248919c98124857f3362d",
            "c4afa42b3b1a4242a090a8a8a2af604e",
            "5333910c9f5d4def8dc36416d75c210d",
            "e41ade36127f40d08ad7e179bbe1e1de",
            "34b623dccb504571b8f30260fb391389",
            "0d36e15ce40f494282158fa3bcaaefc7",
            "2fc027f8d06e4216b00c45d5135150c0",
            "cf5abad09b8d46138e63d0feac2cf314",
            "db7a9dcb955e44a98c6c4050d18eca35",
            "43557a9cbcb94c5ca229cc4fd81ec3bc",
            "0f81862d0f144a5f924034f98f45d6e4",
            "252f3108e9f440c6ad0ef1bfb61fe868",
            "046b392751644ff6862b1e3d2d34e829",
            "9ef73d0512a04895bc3362a4dc026d4d",
            "439fd97c7bd64e08b6bc3c95f7792ea2",
            "4514036b8061456fbf7c768196cc13a9",
            "f1930a00ab064037abaa9e4622d97304",
            "14799983d16b4f52b2367cbf57b463f8",
            "1265e64884e8468980cc266242a88484",
            "2137fd8115ff4c2c98f395554bca4f70",
            "12f096de5cf84902ac4aea3ec0e84b31",
            "c6d404a77ec04cd590c9cdd1f55b5582",
            "75842489c1354ece9da38ec19192bd2a",
            "23c890a6e5de4427a73dae102d1f8831",
            "37f532d486454971bcff247d9c3aa891",
            "b64dd6fbcc144ceea565fc9f7313aaad",
            "a767f576cdce4a0681f7b921e61ce35f",
            "768e8c0704cb4ab289e9bb23406e5323",
            "831384ba73594cb6963dbb4705644b9c",
            "65a1a223ba2244b2bc0c32384aef5c85",
            "c034562713c141ab8790eaf19544520e",
            "dcec3b714ab0488182ce556ce81c8b6f",
            "9c845e8062384e99af659ac64480eab4",
            "003d4c89e6374b898cfc313c7e65952d",
            "f4ef93489f604915b9ec563aa127ad77",
            "3a2759f1f7eb420584e72ad70e86133e",
            "929ad307a0e2408f88ebbd87ffc85bfe",
            "db1580f0a52947c18f1d7c923030d732",
            "53292b2e3a954ecb9f4f78cc54769ed7",
            "c411b1f85ca44eaab1670f2ab369b5c4",
            "0ba1cb57998c4a6b967c0cf00b5f63cf",
            "8b71941a3cea49c8a53b574997a04192",
            "1ace9b910c5947c5a1e9b3c25999b2fc",
            "46d099dad7ac48cd98050b8c25f87173",
            "378992c8ada84d9eab74629d38774917",
            "1a4483157b7e41e6a99be27ad5951b3a",
            "22bfcb095e2f4f72b867b0bce965e6fb",
            "647fda01e46045908653e6c5d3cccaa0",
            "4f0e2744069d471f9f17465afa2e3329",
            "eb46fd90082e4fcfbed8d6f360179fdd",
            "34b2a2f915e24903a203656ba2719ed9",
            "3e5589e883534f12afc5cf446add1286",
            "4b3a011b497e43f2939b04b26618d2e2",
            "22b74d7c5c044eae90face81a3795bf1",
            "38ea54cfd17f45b9a4522dfe174cd82f",
            "574fe1b15c2948ee97a2a6455e26709e",
            "6f21b59f7208423cb55bdb8983402a93",
            "029db63248ad4bc2bc2f904860ef2dd0",
            "902069cf647946aeac835f28a32dd86b",
            "3aca8dcba8c74eeb8e7a5e6792c2bfa4",
            "026fc483a44e4c4b840323101d35b7ff",
            "456a9b9df97246e5b561b639f8c2c983",
            "11bcd78ed157481b8555ccee133e2c02",
            "81d5aa89f21448c4bd577a5d8f2681b5",
            "cc2439998ede4ee9bd9e15fd393349ce",
            "4885d3144dc44b8ea411fbfba7c0b182",
            "6d7eed38a35045129dadfd76db208884",
            "049efc22a079445caed5933a141e30e9",
            "9dcae9b54589430191bbb6dc6145efe3"
          ]
        }
      },
      "execution_count": 15,
      "outputs": [
        {
          "output_type": "stream",
          "name": "stdout",
          "text": [
            "\n",
            "Fold 1/2\n"
          ]
        },
        {
          "output_type": "display_data",
          "data": {
            "text/plain": [
              "Total Progress:   0%|          | 0/5 [00:00<?, ?it/s]"
            ],
            "application/vnd.jupyter.widget-view+json": {
              "version_major": 2,
              "version_minor": 0,
              "model_id": "d8d73938cdfa4518abc2d396c979b4a3"
            }
          },
          "metadata": {}
        },
        {
          "output_type": "display_data",
          "data": {
            "text/plain": [
              "Training:   0%|          | 0/39 [00:00<?, ?it/s]"
            ],
            "application/vnd.jupyter.widget-view+json": {
              "version_major": 2,
              "version_minor": 0,
              "model_id": "61735cdaa67e40b98dbffa73bb9cd573"
            }
          },
          "metadata": {}
        },
        {
          "output_type": "display_data",
          "data": {
            "text/plain": [
              "Validation:   0%|          | 0/39 [00:00<?, ?it/s]"
            ],
            "application/vnd.jupyter.widget-view+json": {
              "version_major": 2,
              "version_minor": 0,
              "model_id": "90fc485fc95c4a309b28938c5e3f21f7"
            }
          },
          "metadata": {}
        },
        {
          "output_type": "stream",
          "name": "stdout",
          "text": [
            "Fold 1 | Epoch 1 | Val Loss: 0.6258 | F1: 0.7861 | Acc: 0.7891\n"
          ]
        },
        {
          "output_type": "display_data",
          "data": {
            "text/plain": [
              "Training:   0%|          | 0/39 [00:00<?, ?it/s]"
            ],
            "application/vnd.jupyter.widget-view+json": {
              "version_major": 2,
              "version_minor": 0,
              "model_id": "d516935ee9774788a468ccdfa757c6e1"
            }
          },
          "metadata": {}
        },
        {
          "output_type": "display_data",
          "data": {
            "text/plain": [
              "Validation:   0%|          | 0/39 [00:00<?, ?it/s]"
            ],
            "application/vnd.jupyter.widget-view+json": {
              "version_major": 2,
              "version_minor": 0,
              "model_id": "c4f4b578cabb44128e53149f65b7d99c"
            }
          },
          "metadata": {}
        },
        {
          "output_type": "stream",
          "name": "stdout",
          "text": [
            "Fold 1 | Epoch 2 | Val Loss: 0.5848 | F1: 0.7863 | Acc: 0.7919\n"
          ]
        },
        {
          "output_type": "display_data",
          "data": {
            "text/plain": [
              "Training:   0%|          | 0/39 [00:00<?, ?it/s]"
            ],
            "application/vnd.jupyter.widget-view+json": {
              "version_major": 2,
              "version_minor": 0,
              "model_id": "e44276ed825a40b6a2171a30ffb0acc1"
            }
          },
          "metadata": {}
        },
        {
          "output_type": "display_data",
          "data": {
            "text/plain": [
              "Validation:   0%|          | 0/39 [00:00<?, ?it/s]"
            ],
            "application/vnd.jupyter.widget-view+json": {
              "version_major": 2,
              "version_minor": 0,
              "model_id": "c22282e61c2c4d90b69c25efa52d5ea8"
            }
          },
          "metadata": {}
        },
        {
          "output_type": "stream",
          "name": "stdout",
          "text": [
            "Fold 1 | Epoch 3 | Val Loss: 0.3982 | F1: 0.8603 | Acc: 0.8623\n"
          ]
        },
        {
          "output_type": "display_data",
          "data": {
            "text/plain": [
              "Training:   0%|          | 0/39 [00:00<?, ?it/s]"
            ],
            "application/vnd.jupyter.widget-view+json": {
              "version_major": 2,
              "version_minor": 0,
              "model_id": "5e9b4448926d4b1a85b45631ac446b0a"
            }
          },
          "metadata": {}
        },
        {
          "output_type": "display_data",
          "data": {
            "text/plain": [
              "Validation:   0%|          | 0/39 [00:00<?, ?it/s]"
            ],
            "application/vnd.jupyter.widget-view+json": {
              "version_major": 2,
              "version_minor": 0,
              "model_id": "4f34a927b0e5488c997abe42a4ead386"
            }
          },
          "metadata": {}
        },
        {
          "output_type": "stream",
          "name": "stdout",
          "text": [
            "Fold 1 | Epoch 4 | Val Loss: 0.3310 | F1: 0.8874 | Acc: 0.8865\n"
          ]
        },
        {
          "output_type": "display_data",
          "data": {
            "text/plain": [
              "Training:   0%|          | 0/39 [00:00<?, ?it/s]"
            ],
            "application/vnd.jupyter.widget-view+json": {
              "version_major": 2,
              "version_minor": 0,
              "model_id": "1bee4d47c5ba4ef1b18e7fe1fc812612"
            }
          },
          "metadata": {}
        },
        {
          "output_type": "display_data",
          "data": {
            "text/plain": [
              "Validation:   0%|          | 0/39 [00:00<?, ?it/s]"
            ],
            "application/vnd.jupyter.widget-view+json": {
              "version_major": 2,
              "version_minor": 0,
              "model_id": "243a99aca41d4e08aaad44577dc99082"
            }
          },
          "metadata": {}
        },
        {
          "output_type": "stream",
          "name": "stdout",
          "text": [
            "Fold 1 | Epoch 5 | Val Loss: 0.5671 | F1: 0.8027 | Acc: 0.8066\n",
            "\n",
            "Fold 2/2\n"
          ]
        },
        {
          "output_type": "display_data",
          "data": {
            "text/plain": [
              "Total Progress:   0%|          | 0/5 [00:00<?, ?it/s]"
            ],
            "application/vnd.jupyter.widget-view+json": {
              "version_major": 2,
              "version_minor": 0,
              "model_id": "cba2296422b0403baecd431f9c1da38b"
            }
          },
          "metadata": {}
        },
        {
          "output_type": "display_data",
          "data": {
            "text/plain": [
              "Training:   0%|          | 0/39 [00:00<?, ?it/s]"
            ],
            "application/vnd.jupyter.widget-view+json": {
              "version_major": 2,
              "version_minor": 0,
              "model_id": "4074488e41f84abb9a189e373674e972"
            }
          },
          "metadata": {}
        },
        {
          "output_type": "display_data",
          "data": {
            "text/plain": [
              "Validation:   0%|          | 0/39 [00:00<?, ?it/s]"
            ],
            "application/vnd.jupyter.widget-view+json": {
              "version_major": 2,
              "version_minor": 0,
              "model_id": "934127f4ff2b4efc8ebea02029714983"
            }
          },
          "metadata": {}
        },
        {
          "output_type": "stream",
          "name": "stdout",
          "text": [
            "Fold 2 | Epoch 1 | Val Loss: 0.6322 | F1: 0.7585 | Acc: 0.7695\n"
          ]
        },
        {
          "output_type": "display_data",
          "data": {
            "text/plain": [
              "Training:   0%|          | 0/39 [00:00<?, ?it/s]"
            ],
            "application/vnd.jupyter.widget-view+json": {
              "version_major": 2,
              "version_minor": 0,
              "model_id": "8352fba27f564885823ea9e6694216bd"
            }
          },
          "metadata": {}
        },
        {
          "output_type": "display_data",
          "data": {
            "text/plain": [
              "Validation:   0%|          | 0/39 [00:00<?, ?it/s]"
            ],
            "application/vnd.jupyter.widget-view+json": {
              "version_major": 2,
              "version_minor": 0,
              "model_id": "402d090ba15541bf9bc14e1bbd199897"
            }
          },
          "metadata": {}
        },
        {
          "output_type": "stream",
          "name": "stdout",
          "text": [
            "Fold 2 | Epoch 2 | Val Loss: 0.5661 | F1: 0.8061 | Acc: 0.8095\n"
          ]
        },
        {
          "output_type": "display_data",
          "data": {
            "text/plain": [
              "Training:   0%|          | 0/39 [00:00<?, ?it/s]"
            ],
            "application/vnd.jupyter.widget-view+json": {
              "version_major": 2,
              "version_minor": 0,
              "model_id": "e41ade36127f40d08ad7e179bbe1e1de"
            }
          },
          "metadata": {}
        },
        {
          "output_type": "display_data",
          "data": {
            "text/plain": [
              "Validation:   0%|          | 0/39 [00:00<?, ?it/s]"
            ],
            "application/vnd.jupyter.widget-view+json": {
              "version_major": 2,
              "version_minor": 0,
              "model_id": "439fd97c7bd64e08b6bc3c95f7792ea2"
            }
          },
          "metadata": {}
        },
        {
          "output_type": "stream",
          "name": "stdout",
          "text": [
            "Fold 2 | Epoch 3 | Val Loss: 0.3430 | F1: 0.8862 | Acc: 0.8863\n"
          ]
        },
        {
          "output_type": "display_data",
          "data": {
            "text/plain": [
              "Training:   0%|          | 0/39 [00:00<?, ?it/s]"
            ],
            "application/vnd.jupyter.widget-view+json": {
              "version_major": 2,
              "version_minor": 0,
              "model_id": "b64dd6fbcc144ceea565fc9f7313aaad"
            }
          },
          "metadata": {}
        },
        {
          "output_type": "display_data",
          "data": {
            "text/plain": [
              "Validation:   0%|          | 0/39 [00:00<?, ?it/s]"
            ],
            "application/vnd.jupyter.widget-view+json": {
              "version_major": 2,
              "version_minor": 0,
              "model_id": "929ad307a0e2408f88ebbd87ffc85bfe"
            }
          },
          "metadata": {}
        },
        {
          "output_type": "stream",
          "name": "stdout",
          "text": [
            "Fold 2 | Epoch 4 | Val Loss: 0.3409 | F1: 0.8850 | Acc: 0.8851\n"
          ]
        },
        {
          "output_type": "display_data",
          "data": {
            "text/plain": [
              "Training:   0%|          | 0/39 [00:00<?, ?it/s]"
            ],
            "application/vnd.jupyter.widget-view+json": {
              "version_major": 2,
              "version_minor": 0,
              "model_id": "647fda01e46045908653e6c5d3cccaa0"
            }
          },
          "metadata": {}
        },
        {
          "output_type": "display_data",
          "data": {
            "text/plain": [
              "Validation:   0%|          | 0/39 [00:00<?, ?it/s]"
            ],
            "application/vnd.jupyter.widget-view+json": {
              "version_major": 2,
              "version_minor": 0,
              "model_id": "902069cf647946aeac835f28a32dd86b"
            }
          },
          "metadata": {}
        },
        {
          "output_type": "stream",
          "name": "stdout",
          "text": [
            "Fold 2 | Epoch 5 | Val Loss: 0.2969 | F1: 0.9011 | Acc: 0.9014\n",
            "\n",
            "Training completed. Best model saved at: /content/cnn3_models/best_model.pt\n"
          ]
        }
      ]
    },
    {
      "cell_type": "markdown",
      "source": [
        "## Use a customized model structure `CNN1`"
      ],
      "metadata": {
        "id": "egY0UhX6TCl7"
      }
    },
    {
      "cell_type": "code",
      "source": [
        "class CNN1(nn.Module):\n",
        "    def __init__(self, num_classes):\n",
        "        super(CNN1, self).__init__()\n",
        "        self.features = nn.Sequential(\n",
        "            nn.Conv2d(3, 32, kernel_size=3, padding=1),\n",
        "            nn.BatchNorm2d(32),\n",
        "            nn.ReLU(inplace=True),\n",
        "            nn.MaxPool2d(2, 2),\n",
        "            nn.Dropout(0.2),\n",
        "            nn.Conv2d(32, 64, kernel_size=3, padding=1),\n",
        "            nn.BatchNorm2d(64),\n",
        "            nn.ReLU(inplace=True),\n",
        "            nn.MaxPool2d(2, 2),\n",
        "            nn.Dropout(0.25),\n",
        "            nn.AdaptiveAvgPool2d((4, 4)),\n",
        "        )\n",
        "        self.classifier = nn.Sequential(\n",
        "            nn.Linear(64 * 4 * 4, 128),\n",
        "            nn.ReLU(inplace=True),\n",
        "            nn.Dropout(0.3),\n",
        "            nn.Linear(128, num_classes),\n",
        "        )\n",
        "    def forward(self, x):\n",
        "        x = self.features(x)\n",
        "        x = x.view(x.size(0), -1)\n",
        "        x = self.classifier(x)\n",
        "        return x"
      ],
      "metadata": {
        "id": "pUpyroD2TJhU"
      },
      "execution_count": 16,
      "outputs": []
    },
    {
      "cell_type": "code",
      "source": [
        "giq.classification.train_pytorch_nn(\n",
        "    model_class=CNN1,\n",
        "    model_args={\"num_classes\": 9},\n",
        "    dataset_class=CachedDataset,\n",
        "    dataset_args={\n",
        "        \"metadata_df\": DATA[\"train_metadata\"],\n",
        "        \"raw_labels\": DATA[\"train_metadata\"][\"garment\"],\n",
        "        \"cached_images\": train_images,\n",
        "        \"cached_labels\": train_labels,\n",
        "    },\n",
        "    param={\n",
        "        \"optimizer_class\": optim.AdamW,\n",
        "        \"optimizer_args\": {\"lr\": 0.001, \"weight_decay\": 1e-4},\n",
        "        \"n_fold\": 2,\n",
        "        \"n_epoch\": 5,\n",
        "        \"patience\": 2,\n",
        "        \"batch_size\": 256,\n",
        "        \"max_workers\": 1,\n",
        "        \"model_save_dir\": \"/content/customized_models\",\n",
        "        \"best_model_name\": \"best_model.pt\",\n",
        "    },\n",
        ")"
      ],
      "metadata": {
        "id": "B-6ipBGUTyEU",
        "outputId": "024a5964-0f4e-40a3-8fc9-0de130ea0abe",
        "colab": {
          "base_uri": "https://localhost:8080/",
          "height": 295,
          "referenced_widgets": [
            "e40bf8c7e6064a7f946e8dc7dca665cd",
            "5e3ce95936934709a469e76b958cb585",
            "d8b1acbaf4304415832102204b86b1c0",
            "428f0a36db3e47d398dc606daf834e21",
            "e9ccd64e70984a61bafcacb0050fcd03",
            "62937a964755426191d88969cc338efb",
            "ed1b123fa0a14390bbfa59927a404d7c",
            "5e0b9caa98834ba6a4d1290848e0bfb7",
            "42befff3c6c641519912ad2398aa4234",
            "42e3f3ba95aa4850be34d6daf7bc990b",
            "45479be192734c84857a7395ec3cbc3b",
            "2a1bcb55c3a044d28d8314fae2e3abaf",
            "7ff3385fefa64105a6f1a1d50ce3e456",
            "fba79d5ef6cc4bad88c683f368f229ad",
            "96f6be7eb08f4ed1bc7e1ffcb01b3e11",
            "e00144a908ad42daac1556b1c792b841",
            "3eb09801f53d45cf8c2ae718cbe9126b",
            "75ed1a710b344039a2fc4d44240d7a96",
            "71e68e7b50854081a32fdd2d5bc173a2",
            "caf4668b29a943d9bbfe6c4eadc0c06b",
            "e681fec7f8744565ace8e098a8798821",
            "f1a1a7e76f6d42c3b4324baf54ecd983",
            "b892cc04e3024fa2a35ee732ddc03137",
            "c7599ff64d5e483eaba69cafb2d0c770",
            "372c53c85e7849cca28476e009148844",
            "2dc861aec73c44188a08e1b5927d54ac",
            "3d6e2ff6cfa34258a50990bda981bcf2",
            "5b82aff405af44d1a0254bb99e15a567",
            "492e5afe8fa94b60b042bc1e28efb8f1",
            "935e65213a194f66baffb0c238704545",
            "1a8fd7e67260442a89d7e005c207df79",
            "bf00deb0b90a4d899ce873d2036153ce",
            "7a4c3a610ac841cc9194081ebde4c0a3",
            "5e18e428ea7c48209779c6850e898d50",
            "4b0b03ccd30140629e226fa03ab011d3",
            "ea151ed8cdfd485b89566b578cfad9d5",
            "ba54490bf7c3463cbe1308510f2690ef",
            "5793f5b0b62e4ed082e62cc4f1ac9bc0",
            "b6fe1f3918794c869c64fb83f2383189",
            "c0b93f5e33d64a10999569b051d993be",
            "e2da4a405155474aa888aab9ebc34761",
            "676be71ec9c444829f0b55c24b69b843",
            "37686280fb6b4cfe8987958c01164000",
            "f929163f7419452fb70bd056983ec602",
            "4e55f799a02a4446a4fa8fc446acf321",
            "307d0e9f97ab471c9417d6f82f89ee04",
            "ff3f3da936b74313b45363e55c25862a",
            "4ceeb65541a540fdb6ed8623348506c8",
            "5f41df568e7645f399735d0c24276731",
            "57ccf8bf39cd4d2db20d430f11adecea",
            "6bb47cc858e2489bb83778ae7c5e0332",
            "5a0f29fcdd784c1894d93741f6a2bb7f",
            "6b97a018f6a647b1a80b3492dbfae14c",
            "ddaccc899a1340f7af41dd3aeb84a5c8",
            "bcb7cce6edd142b7bd147110ccfbc0f5",
            "87f6725a1fe945968de7f5919027e754",
            "d07a21ef1d8b4ac093a79d1d5878e1df",
            "efb4be41862e49b1a8340869e42f3d90",
            "7748eb9835354d7bb8581683fef34707",
            "7c9aa2a56e834416ae8a691480b072b9",
            "9750f5fe1298426e8661dfeb6dde4e5b",
            "a88e528d02764747a895f65412264d8c",
            "5a60cb1191f24b48928cd57afad8a0e1",
            "3028127ba8ff42819c7208a1fd850827",
            "854d6b8d881449eb93161b068f55158b",
            "e0b7bbd174ec411d91aa1dfdce9376c8",
            "9c451a920fdc401b90e5e8953171aae4",
            "e19368dc00f74f5694d1d5ef6d169abe",
            "e8033ced1a214aa687280f2666de5369",
            "d9a7a3375f5244c4b0976934a68f0017",
            "e282d5d9cf4141f7abcba887ba234108",
            "7ece359cf49d4d9db8b114cf9bcb9e80",
            "43400d2f63f44d35b7c08c40211b108e",
            "4a83a79cc48b434bbc9f077aed8b0099",
            "bb3c11929d7f442491f9d0def7f928a0",
            "07fdcd92efcb4b7f943503951617199a",
            "e6ef16c265094011bdcf29b59edc94b9",
            "753856a44cb944409c3e1edd66485c72",
            "44e5a55a0de449e4a94815291df23cb2",
            "1135c7df7f4741868ceacdcf6474a979",
            "394ce3e19e794758b445c48fdf210176",
            "3b7c174b8e3a47488bc072f6a1d278cb",
            "336f0af3d50342158209099547f28a10",
            "45cfe28c0ad343f08f8899d5908597bf",
            "ff922c222718456d96517c70c0fac72a",
            "ef7ce5d24f934eb99ccb556a5b8b231d",
            "eb6d001f46a24be29a464e2036719164",
            "b62b526952d04c8894cb2c4875b66bf7",
            "fd329ef35dbd4e4bb332c18944141708",
            "e6d054babc6d4840908a21c1d56fe83a",
            "e0e568bdeae34109ba0e57096d2ac49d",
            "b06c827cf81b4cc0b3fbabd4f37c5083",
            "3e893279e8cc4a0dbc0197ef0acc8ff5",
            "72ad5386a3f741ce8b5105cc85fda009",
            "c9235cc4311344a98b9647a69989c023",
            "3fb3052f90024058ad58b12e32008f6b",
            "666e758bb09949bab547945175034d11",
            "f4c2ba761f1e4e3787c8d9bdb8abc306",
            "f7a73008fa9a4d019afe1a2f119c8b72",
            "1409e796afcb4cfbae382056acb8b304",
            "5737146387964b39aa1eb73d072d1c70",
            "51297ee685fd4a1f8c58b7b844d7a926",
            "3948ce0132ef410ead6d70861f842315",
            "d3817d0d6458485287e37f2d24338e67",
            "78650e79323e41f2810bdbfed38b6ad9",
            "3f34883b5cab4f75a3eec357c83f814c",
            "5e55745af75e450aa1025e17ae2bd0be",
            "a7d168213a704d99bc04a0ad2eb80213",
            "18793d82503d418298f0f675c3c1f695",
            "80a57f9886544ad99f792057d21eb05d",
            "2ecfc559082b4226acaf47e33e34bb95",
            "b66d8cd5978942be83ecb59d1dbc4875",
            "354daa0a7a564b9494c7d0fcff2db60c",
            "204e6601abd0444aa90a92fab8a2c160",
            "4e826e13d81a4d15ae90a02e46d9611d",
            "ac29d90d9aea4905b3450cb978e6def0",
            "98625c9672a84ffaac8698083ac144d2",
            "7f2f11d60b49409ea2d062ac179a4501",
            "c0404d85c7e847bfa1ff25e106402154",
            "03ecd1e823b64d84a277749adc7fcaf6",
            "75fdb4e8350f41ec8207c9a0f4d96d9f",
            "7cbda7a157ac479796c08527ebf47bc6",
            "be3fb3df31dc4d7fab5049b417e2c28e",
            "f9644cc8d39a4ebaaba4f01167680639",
            "f298186c11bb434598836c6e52a9318d",
            "cfbe83f43dd04650ab3bd95bd401eadb",
            "9a8364de72cc49a7bbdcca68b6e7925f",
            "6c0bb42bef72461f9536d93e9b041246",
            "30ba388a623f4ae381f27c0e95e54edb",
            "b86fba8707954b518d6c9c3333771c83",
            "5c251bec956c47e5b8adfd294b779266",
            "1007ebe4db5e49ae9235f128a60e3f33",
            "b8dcff9ff8c5444481ad419445dc572b",
            "1959511197f94a058432c418163b98fc",
            "be746ef161bd4d2980ce85001fa18949",
            "9f4e83682ca24e2188d1d06a01adaf02",
            "d734e6d6bb924eafb04c30f64e98cf28",
            "6c8994e99c164f85a9c972379a7414d2",
            "0b651c3993df4f0eb4dc3c0a019678ef",
            "e236524ce5434fb48c6ecaf5f465c4f5",
            "7082c5bdd9eb4f9686928cc78db5c135",
            "481163d7cb20407da5864da58e0e5db3",
            "0a56e0e6382f465dab4a2425bbfa0181",
            "586827d417d44aa1a4c9127f2946be3c",
            "bfda299438f140efbfd043e325b4a718",
            "f1c93d86cee34f628ffd9dd15e581ff9",
            "d1ee7f3b860a45218770f968483a1976",
            "aa058396f2e44fde90d7298adc4b89b5",
            "a5b0aefd42a044bcaeb0efed3985d818",
            "5dfa732eb04844558800b64dea1b6733",
            "33fc01313546458fada1cc5169a8cecb",
            "246c394bb6fe4247882c12a91f7652a7",
            "1e42a75c901742ea82f9105fb4bbeb79",
            "b6a558d2943b4ac3863b683f3efd0fe5",
            "54dda3017b444c70b30a8c41d8e47074",
            "c4fe169f5a5e41b6baeef273ca53f52c",
            "418b628355b84e6bad776efd764a185c",
            "d62a8cfa7775496486e7e1f05b83f8d9",
            "3a94d6ddcfda457082cdddfb687a35fd",
            "18a2da1f38c7494e9197766c52084d7e",
            "ae5ef11827eb4ecba2ed8a4a9f53817b",
            "8463aa9a5af54be7bb958ee0ece601ca",
            "148ad9e033f94217b6c848dd0452409a",
            "f18bbf0ab1c146c3a92207e8daab18e1",
            "a2a80f72aeee424087d3823cc8236753",
            "6a327d79b65b483fb6baa971d6e9e592",
            "ff7a60b1b4424760b1d9207811294ad6",
            "e90e284d4ed3494c86d2ddb342fc6921",
            "89ec9acfeda84ac785a69d3bbed62c56",
            "dc5a1166a2bd4a43af32a4f2662f57b5",
            "1007fd1099be4cecb714d9a97635cd0c",
            "6d4b42a0bcc841afb6281b0bf8a38500",
            "61a6feeac3d34235bedb0ceee493926e",
            "14e0885dc3514466b899058f74eb670d",
            "5390acc0937841ed812988ad35eff143",
            "e38120cb47df47b2a20959925805cc10",
            "1349298d5369454bbebb4878a1cf2f79",
            "a0985abb259c4ac9aa5cc35ea7da9bf1",
            "ac2639ef93bd456492739b7b94df7779",
            "6e3a2ce19c0045c7bf2fe8438468539a",
            "00b32330bc4f41f8ac0649c66247f794",
            "c6b06ade03414d20848b7d7401308048",
            "39810ef35c4648f5be1162a70e7b76ea",
            "051fde50989a4358a8f8465e80ba437f",
            "20bedb9974c848eab651b3e7d76bd8c5",
            "0d7f2c967b3143e08c6029edaf3ac392",
            "87adcef5a4a442b9bbe4d416ba7cd58e",
            "6caa1a5f461b4441827709bbf9dd136c",
            "84ba9bcd5e40424ea626a4f97de67c43",
            "d582a444df8e4317ab826a63c33dcd9a",
            "e0ac81b6f1d54350bc31e99b2fc9e21b",
            "c92b577a726e4eecaaa0a9a69455a3e4",
            "d8653660e0b44175bb23da9b7016e983",
            "d6dc9c52872f46debfe221c109406e19",
            "2c6c45f0264a406ab4b2efa9056e3e89",
            "8b7ab4e574f047899b2444a9063c3c85",
            "15a2f322375a4e8fb7032a0c8a016dfd",
            "64bd06b1dafd4d0e9fe55fda9fab642b",
            "123fddfa3d484a08bc7d8b6a0682ba37",
            "0086bed2afa2472b9baaa947b12679cd",
            "3aa0194020224dc8a700e3438f944616",
            "f43cfd39afb642a59cb5e5775a7943f2",
            "046a55013f9942289022c4f76a5e6bf2",
            "0685a2c386f7479d8964efc2a37b2e27",
            "ea3e9e296e69415a996675791317cb7e",
            "8b6d88ad72b34ee0a666ec8d7894049e",
            "abe17fbb23d0480b9ebdd44e020c50ae",
            "03c2031dda074f7295fe5bc26241b030",
            "5062004ab4bb4a4cae5efee6573d9946",
            "49d6ee8a15a940909d39f71a076e556d",
            "c99ad57f82ad44dcacc404ea46e5274c",
            "c7b466578e4b4395a92e0e94f39bdb2c",
            "9c0dea9933884c96a760f4869b1e2b23",
            "8a6b6d8427e2402ab9783cd99f3e340d",
            "9477ac75d9f3469a9e083be93bb109dd",
            "33e5fe5dc87d4694927e0a604d6dec97",
            "1b58ca2e8ad54117b3a6edb7ebdcf12c",
            "60819faeaed940989d3fd74554ebbf4c",
            "9f1c772cadfc486c9a45ca6810b69e14",
            "a5d7c143aba14d8b81d7d913d6b582fe",
            "c4f7203a5e8342e5912c1b2f63fd4fc9",
            "16df39cdb4304dcb8cbfd381146dd6d4",
            "b6e9b86211ec4ba89c8226e26a0bf057",
            "ed396332a7e749209734022f003cda83",
            "827f3e6717be4001898d810e52f0959d",
            "df7a2e40981448acb48eeea145084c5f",
            "6b365f3b17974904840e28460aaf097c",
            "3af3c60b403e4b3484cec721eac0e832",
            "c27a92b5264f44be93d9130a1215a915",
            "d02d954b468049b39558e2f2d67de9e5",
            "31c0bb6a4f3543d8974af991d3852670",
            "50cae780b87d4c2bad45cdeb6a75048a",
            "3ca020c38c694ee79be643bddb37325e",
            "9313444fcf9a4a8ea172e44e53fe2ee8",
            "8f5c00f313424ea890df69b130e6424b",
            "04cc12f091fc4476bb84280a8d999b37",
            "563accfa40f8489d967dc67211606235",
            "e086e30a9bd74107b31a49d27421f009",
            "50a6f8e640d44c9db22968bbe09635e5",
            "550afdffe81e4a909297f012f4c54bd1",
            "8f5d8ed661eb442389ef241ccb70437c",
            "eb02dacd1a244f399edda711b1151386"
          ]
        }
      },
      "execution_count": 17,
      "outputs": [
        {
          "output_type": "stream",
          "name": "stdout",
          "text": [
            "\n",
            "Fold 1/2\n"
          ]
        },
        {
          "output_type": "display_data",
          "data": {
            "text/plain": [
              "Total Progress:   0%|          | 0/5 [00:00<?, ?it/s]"
            ],
            "application/vnd.jupyter.widget-view+json": {
              "version_major": 2,
              "version_minor": 0,
              "model_id": "e40bf8c7e6064a7f946e8dc7dca665cd"
            }
          },
          "metadata": {}
        },
        {
          "output_type": "display_data",
          "data": {
            "text/plain": [
              "Training:   0%|          | 0/39 [00:00<?, ?it/s]"
            ],
            "application/vnd.jupyter.widget-view+json": {
              "version_major": 2,
              "version_minor": 0,
              "model_id": "2a1bcb55c3a044d28d8314fae2e3abaf"
            }
          },
          "metadata": {}
        },
        {
          "output_type": "display_data",
          "data": {
            "text/plain": [
              "Validation:   0%|          | 0/39 [00:00<?, ?it/s]"
            ],
            "application/vnd.jupyter.widget-view+json": {
              "version_major": 2,
              "version_minor": 0,
              "model_id": "b892cc04e3024fa2a35ee732ddc03137"
            }
          },
          "metadata": {}
        },
        {
          "output_type": "stream",
          "name": "stdout",
          "text": [
            "Fold 1 | Epoch 1 | Val Loss: 1.1905 | F1: 0.5785 | Acc: 0.6016\n"
          ]
        },
        {
          "output_type": "display_data",
          "data": {
            "text/plain": [
              "Training:   0%|          | 0/39 [00:00<?, ?it/s]"
            ],
            "application/vnd.jupyter.widget-view+json": {
              "version_major": 2,
              "version_minor": 0,
              "model_id": "5e18e428ea7c48209779c6850e898d50"
            }
          },
          "metadata": {}
        },
        {
          "output_type": "display_data",
          "data": {
            "text/plain": [
              "Validation:   0%|          | 0/39 [00:00<?, ?it/s]"
            ],
            "application/vnd.jupyter.widget-view+json": {
              "version_major": 2,
              "version_minor": 0,
              "model_id": "4e55f799a02a4446a4fa8fc446acf321"
            }
          },
          "metadata": {}
        },
        {
          "output_type": "stream",
          "name": "stdout",
          "text": [
            "Fold 1 | Epoch 2 | Val Loss: 0.8725 | F1: 0.6722 | Acc: 0.6855\n"
          ]
        },
        {
          "output_type": "display_data",
          "data": {
            "text/plain": [
              "Training:   0%|          | 0/39 [00:00<?, ?it/s]"
            ],
            "application/vnd.jupyter.widget-view+json": {
              "version_major": 2,
              "version_minor": 0,
              "model_id": "87f6725a1fe945968de7f5919027e754"
            }
          },
          "metadata": {}
        },
        {
          "output_type": "display_data",
          "data": {
            "text/plain": [
              "Validation:   0%|          | 0/39 [00:00<?, ?it/s]"
            ],
            "application/vnd.jupyter.widget-view+json": {
              "version_major": 2,
              "version_minor": 0,
              "model_id": "9c451a920fdc401b90e5e8953171aae4"
            }
          },
          "metadata": {}
        },
        {
          "output_type": "stream",
          "name": "stdout",
          "text": [
            "Fold 1 | Epoch 3 | Val Loss: 0.7899 | F1: 0.7024 | Acc: 0.7130\n"
          ]
        },
        {
          "output_type": "display_data",
          "data": {
            "text/plain": [
              "Training:   0%|          | 0/39 [00:00<?, ?it/s]"
            ],
            "application/vnd.jupyter.widget-view+json": {
              "version_major": 2,
              "version_minor": 0,
              "model_id": "753856a44cb944409c3e1edd66485c72"
            }
          },
          "metadata": {}
        },
        {
          "output_type": "display_data",
          "data": {
            "text/plain": [
              "Validation:   0%|          | 0/39 [00:00<?, ?it/s]"
            ],
            "application/vnd.jupyter.widget-view+json": {
              "version_major": 2,
              "version_minor": 0,
              "model_id": "fd329ef35dbd4e4bb332c18944141708"
            }
          },
          "metadata": {}
        },
        {
          "output_type": "stream",
          "name": "stdout",
          "text": [
            "Fold 1 | Epoch 4 | Val Loss: 0.7143 | F1: 0.7424 | Acc: 0.7470\n"
          ]
        },
        {
          "output_type": "display_data",
          "data": {
            "text/plain": [
              "Training:   0%|          | 0/39 [00:00<?, ?it/s]"
            ],
            "application/vnd.jupyter.widget-view+json": {
              "version_major": 2,
              "version_minor": 0,
              "model_id": "1409e796afcb4cfbae382056acb8b304"
            }
          },
          "metadata": {}
        },
        {
          "output_type": "display_data",
          "data": {
            "text/plain": [
              "Validation:   0%|          | 0/39 [00:00<?, ?it/s]"
            ],
            "application/vnd.jupyter.widget-view+json": {
              "version_major": 2,
              "version_minor": 0,
              "model_id": "2ecfc559082b4226acaf47e33e34bb95"
            }
          },
          "metadata": {}
        },
        {
          "output_type": "stream",
          "name": "stdout",
          "text": [
            "Fold 1 | Epoch 5 | Val Loss: 0.6933 | F1: 0.7562 | Acc: 0.7586\n",
            "\n",
            "Fold 2/2\n"
          ]
        },
        {
          "output_type": "display_data",
          "data": {
            "text/plain": [
              "Total Progress:   0%|          | 0/5 [00:00<?, ?it/s]"
            ],
            "application/vnd.jupyter.widget-view+json": {
              "version_major": 2,
              "version_minor": 0,
              "model_id": "7cbda7a157ac479796c08527ebf47bc6"
            }
          },
          "metadata": {}
        },
        {
          "output_type": "display_data",
          "data": {
            "text/plain": [
              "Training:   0%|          | 0/39 [00:00<?, ?it/s]"
            ],
            "application/vnd.jupyter.widget-view+json": {
              "version_major": 2,
              "version_minor": 0,
              "model_id": "b8dcff9ff8c5444481ad419445dc572b"
            }
          },
          "metadata": {}
        },
        {
          "output_type": "display_data",
          "data": {
            "text/plain": [
              "Validation:   0%|          | 0/39 [00:00<?, ?it/s]"
            ],
            "application/vnd.jupyter.widget-view+json": {
              "version_major": 2,
              "version_minor": 0,
              "model_id": "586827d417d44aa1a4c9127f2946be3c"
            }
          },
          "metadata": {}
        },
        {
          "output_type": "stream",
          "name": "stdout",
          "text": [
            "Fold 2 | Epoch 1 | Val Loss: 1.2084 | F1: 0.5686 | Acc: 0.5977\n"
          ]
        },
        {
          "output_type": "display_data",
          "data": {
            "text/plain": [
              "Training:   0%|          | 0/39 [00:00<?, ?it/s]"
            ],
            "application/vnd.jupyter.widget-view+json": {
              "version_major": 2,
              "version_minor": 0,
              "model_id": "54dda3017b444c70b30a8c41d8e47074"
            }
          },
          "metadata": {}
        },
        {
          "output_type": "display_data",
          "data": {
            "text/plain": [
              "Validation:   0%|          | 0/39 [00:00<?, ?it/s]"
            ],
            "application/vnd.jupyter.widget-view+json": {
              "version_major": 2,
              "version_minor": 0,
              "model_id": "6a327d79b65b483fb6baa971d6e9e592"
            }
          },
          "metadata": {}
        },
        {
          "output_type": "stream",
          "name": "stdout",
          "text": [
            "Fold 2 | Epoch 2 | Val Loss: 0.9410 | F1: 0.6075 | Acc: 0.6462\n"
          ]
        },
        {
          "output_type": "display_data",
          "data": {
            "text/plain": [
              "Training:   0%|          | 0/39 [00:00<?, ?it/s]"
            ],
            "application/vnd.jupyter.widget-view+json": {
              "version_major": 2,
              "version_minor": 0,
              "model_id": "1349298d5369454bbebb4878a1cf2f79"
            }
          },
          "metadata": {}
        },
        {
          "output_type": "display_data",
          "data": {
            "text/plain": [
              "Validation:   0%|          | 0/39 [00:00<?, ?it/s]"
            ],
            "application/vnd.jupyter.widget-view+json": {
              "version_major": 2,
              "version_minor": 0,
              "model_id": "6caa1a5f461b4441827709bbf9dd136c"
            }
          },
          "metadata": {}
        },
        {
          "output_type": "stream",
          "name": "stdout",
          "text": [
            "Fold 2 | Epoch 3 | Val Loss: 0.7983 | F1: 0.6972 | Acc: 0.7134\n"
          ]
        },
        {
          "output_type": "display_data",
          "data": {
            "text/plain": [
              "Training:   0%|          | 0/39 [00:00<?, ?it/s]"
            ],
            "application/vnd.jupyter.widget-view+json": {
              "version_major": 2,
              "version_minor": 0,
              "model_id": "123fddfa3d484a08bc7d8b6a0682ba37"
            }
          },
          "metadata": {}
        },
        {
          "output_type": "display_data",
          "data": {
            "text/plain": [
              "Validation:   0%|          | 0/39 [00:00<?, ?it/s]"
            ],
            "application/vnd.jupyter.widget-view+json": {
              "version_major": 2,
              "version_minor": 0,
              "model_id": "49d6ee8a15a940909d39f71a076e556d"
            }
          },
          "metadata": {}
        },
        {
          "output_type": "stream",
          "name": "stdout",
          "text": [
            "Fold 2 | Epoch 4 | Val Loss: 0.7168 | F1: 0.7383 | Acc: 0.7439\n"
          ]
        },
        {
          "output_type": "display_data",
          "data": {
            "text/plain": [
              "Training:   0%|          | 0/39 [00:00<?, ?it/s]"
            ],
            "application/vnd.jupyter.widget-view+json": {
              "version_major": 2,
              "version_minor": 0,
              "model_id": "c4f7203a5e8342e5912c1b2f63fd4fc9"
            }
          },
          "metadata": {}
        },
        {
          "output_type": "display_data",
          "data": {
            "text/plain": [
              "Validation:   0%|          | 0/39 [00:00<?, ?it/s]"
            ],
            "application/vnd.jupyter.widget-view+json": {
              "version_major": 2,
              "version_minor": 0,
              "model_id": "50cae780b87d4c2bad45cdeb6a75048a"
            }
          },
          "metadata": {}
        },
        {
          "output_type": "stream",
          "name": "stdout",
          "text": [
            "Fold 2 | Epoch 5 | Val Loss: 0.6958 | F1: 0.7480 | Acc: 0.7520\n",
            "\n",
            "Training completed. Best model saved at: /content/customized_models/best_model.pt\n"
          ]
        }
      ]
    },
    {
      "cell_type": "markdown",
      "source": [
        "# Testing"
      ],
      "metadata": {
        "id": "JW4kg9nwUZw2"
      }
    },
    {
      "cell_type": "code",
      "source": [
        "test_images, test_labels, _ = giq.classification.load_data(\n",
        "    df=DATA[\"test_metadata\"],\n",
        "    img_dir=DATA[\"test_images\"],\n",
        "    label_column=\"garment\",\n",
        "    resize_dim=(60, 92),\n",
        "    normalize_mean=[0.8047, 0.7808, 0.7769],\n",
        "    normalize_std=[0.2957, 0.3077, 0.3081]\n",
        ")"
      ],
      "metadata": {
        "colab": {
          "base_uri": "https://localhost:8080/",
          "height": 49,
          "referenced_widgets": [
            "9527cd0f81034bf2b726c94c22da507c",
            "6602900fdb3649538f8c584bb52d7377",
            "2d759a559df0494aabfc6070957f5e53",
            "d6fd9aec1922425ebb075911c88e0566",
            "45af822331d746df859c976407fc23a0",
            "53ad38f4b28a48a8a47e44f2425ee4b3",
            "201cd87e6828457eb302db86eac48507",
            "d3732953a8434ee9a45078cb5bcab9cd",
            "be9b30e8095e446c8d7153fafee1d90a",
            "639323ae0ed84d4da86d1434e92c25c7",
            "4d74b044851e4a8b905f9c81fb88bbbd"
          ]
        },
        "id": "khNX-H2oULW2",
        "outputId": "1d413505-06d6-44a5-9f4d-167bc41d18ec"
      },
      "execution_count": 18,
      "outputs": [
        {
          "output_type": "display_data",
          "data": {
            "text/plain": [
              "Loading data into memory:   0%|          | 0/3489 [00:00<?, ?it/s]"
            ],
            "application/vnd.jupyter.widget-view+json": {
              "version_major": 2,
              "version_minor": 0,
              "model_id": "9527cd0f81034bf2b726c94c22da507c"
            }
          },
          "metadata": {}
        }
      ]
    },
    {
      "cell_type": "markdown",
      "source": [
        "## Test pre-defined model structure `CNN3`"
      ],
      "metadata": {
        "id": "D1kGBr8XUomf"
      }
    },
    {
      "cell_type": "markdown",
      "source": [
        "### Function `test_pytorch_nn`\n",
        "\n",
        "Source code: https://github.com/lygitdata/GarmentIQ/blob/main/src/garmentiq/classification/test_pytorch_nn.py"
      ],
      "metadata": {
        "id": "81KMswxaU9bi"
      }
    },
    {
      "cell_type": "code",
      "source": [
        "giq.classification.test_pytorch_nn(\n",
        "    model_path=\"/content/cnn3_models/best_model.pt\",\n",
        "    model_class=CNN3,\n",
        "    model_args={\"num_classes\": 9},\n",
        "    dataset_class=CachedDataset,\n",
        "    dataset_args={\n",
        "        \"raw_labels\": DATA[\"test_metadata\"][\"garment\"],\n",
        "        \"cached_images\": test_images,\n",
        "        \"cached_labels\": test_labels,\n",
        "    },\n",
        "    param={\"batch_size\": 64},\n",
        ")"
      ],
      "metadata": {
        "colab": {
          "base_uri": "https://localhost:8080/",
          "height": 413,
          "referenced_widgets": [
            "e2c59222a04145ce89002681fe9933cb",
            "51c2bd6ab5b646cc8aa6cd4be68670c5",
            "490456a33ca446da87ffe16ca9ca1e9a",
            "d93952355dc74b99b1bb8266ed09219d",
            "849923ceda0745b88464f1ce0b9625d6",
            "a38d433cc7194c1b8906e68595417d79",
            "b5ee49cf795c4e39b052e8922c2f3236",
            "257c9f1a49284a6e8c416add76ad77ce",
            "6701ab80fcf0493ab028704a92085fcd",
            "36f5d2a339e146df8698d90873c9eb7a",
            "f3efc5c9819d4393a3282bc8e619e08b"
          ]
        },
        "id": "3IKlw36QUxlA",
        "outputId": "e6a9509b-f798-472e-c842-4aa8525be79c"
      },
      "execution_count": 19,
      "outputs": [
        {
          "output_type": "display_data",
          "data": {
            "text/plain": [
              "Evaluating:   0%|          | 0/55 [00:00<?, ?it/s]"
            ],
            "application/vnd.jupyter.widget-view+json": {
              "version_major": 2,
              "version_minor": 0,
              "model_id": "e2c59222a04145ce89002681fe9933cb"
            }
          },
          "metadata": {}
        },
        {
          "output_type": "stream",
          "name": "stdout",
          "text": [
            "Test Loss: 0.2941\n",
            "Test Accuracy: 0.8980\n",
            "Test F1 Score: 0.8973\n",
            "\n",
            "Classification Report:\n",
            "                    precision    recall  f1-score   support\n",
            "\n",
            " long sleeve dress       0.80      0.91      0.85       384\n",
            "   long sleeve top       0.93      0.96      0.94       442\n",
            "short sleeve dress       0.81      0.86      0.84       382\n",
            "  short sleeve top       0.95      0.93      0.94       523\n",
            "            shorts       0.89      0.97      0.93       485\n",
            "             skirt       0.90      0.73      0.81       281\n",
            "          trousers       0.95      0.98      0.97       320\n",
            "              vest       0.95      0.84      0.89       230\n",
            "        vest dress       0.93      0.82      0.87       442\n",
            "\n",
            "          accuracy                           0.90      3489\n",
            "         macro avg       0.90      0.89      0.89      3489\n",
            "      weighted avg       0.90      0.90      0.90      3489\n",
            "\n"
          ]
        }
      ]
    },
    {
      "cell_type": "markdown",
      "source": [
        "### Function `predict`\n",
        "\n",
        "https://github.com/lygitdata/GarmentIQ/blob/main/src/garmentiq/classification/predict.py"
      ],
      "metadata": {
        "id": "jtLrGTlvVNZo"
      }
    },
    {
      "cell_type": "code",
      "source": [
        "pred_label, pred_prob = giq.classification.predict(\n",
        "    model_path=\"/content/cnn3_models/best_model.pt\",\n",
        "    model_class=CNN3,\n",
        "    model_args={\"num_classes\": 9},\n",
        "    image_path=f\"/content/data/test/images/{DATA['test_metadata']['filename'][1000]}\",\n",
        "    classes=DATA['test_metadata']['garment'].unique().tolist(),\n",
        "    resize_dim=(60, 92),\n",
        "    normalize_mean=[0.8047, 0.7808, 0.7769],\n",
        "    normalize_std=[0.2957, 0.3077, 0.3081]\n",
        ")\n",
        "\n",
        "print(\n",
        "    \"True label: \", DATA['test_metadata']['filename'][1000],\n",
        "    \"\\nPredicted label: \", pred_label,\n",
        "    \"\\nPredicted Probabilities: \", pred_prob\n",
        ")"
      ],
      "metadata": {
        "colab": {
          "base_uri": "https://localhost:8080/"
        },
        "id": "3ZI_fmReVSwc",
        "outputId": "d552c831-fea7-4f3f-c698-1bfe351973b2"
      },
      "execution_count": 20,
      "outputs": [
        {
          "output_type": "stream",
          "name": "stdout",
          "text": [
            "True label:  trousers_347.jpg \n",
            "Predicted label:  trousers \n",
            "Predicted Probabilities:  [3.2946604733297136e-06, 3.7289589727151906e-06, 1.1065539183618966e-05, 7.930570063763298e-06, 0.0008685069042257965, 2.6890760636888444e-05, 0.9990187883377075, 4.816617729375139e-05, 1.1670107596728485e-05]\n"
          ]
        }
      ]
    },
    {
      "cell_type": "markdown",
      "source": [
        "## Test customized model structure `CNN1`"
      ],
      "metadata": {
        "id": "NPmJxUYeVtlU"
      }
    },
    {
      "cell_type": "code",
      "source": [
        "giq.classification.test_pytorch_nn(\n",
        "    model_path=\"/content/customized_models/best_model.pt\",\n",
        "    model_class=CNN1,\n",
        "    model_args={\"num_classes\": 9},\n",
        "    dataset_class=CachedDataset,\n",
        "    dataset_args={\n",
        "        \"raw_labels\": DATA[\"test_metadata\"][\"garment\"],\n",
        "        \"cached_images\": test_images,\n",
        "        \"cached_labels\": test_labels,\n",
        "    },\n",
        "    param={\"batch_size\": 64},\n",
        ")"
      ],
      "metadata": {
        "colab": {
          "base_uri": "https://localhost:8080/",
          "height": 413,
          "referenced_widgets": [
            "5bbcf7c627514e718be2f1de2acdbe48",
            "9aa368b06e05465b88d772dc3f7a0eb0",
            "5e1237dcb9bb4efca2d6aff6c9453d1b",
            "045ec91e1e244d7e991b4e11cc4a7203",
            "dc446c3ffad04288b92dae710643faa2",
            "4b69b48adb8640b1b3a7e468326e97fc",
            "e7f95712032f4021a0b7a93b6d791ad1",
            "2e5b7bb35be142ee885e60d82a6ebbf9",
            "c591ad0fad0440e1a4e79adaf8ebaf99",
            "ea708aad5db041fe80c2583e8904ce34",
            "1d24d768c1e9423aa6f0ae2d36c36eaa"
          ]
        },
        "id": "EcKR96oOV-ub",
        "outputId": "3b3a7551-098e-4737-ce7b-d60b91688b28"
      },
      "execution_count": 21,
      "outputs": [
        {
          "output_type": "display_data",
          "data": {
            "text/plain": [
              "Evaluating:   0%|          | 0/55 [00:00<?, ?it/s]"
            ],
            "application/vnd.jupyter.widget-view+json": {
              "version_major": 2,
              "version_minor": 0,
              "model_id": "5bbcf7c627514e718be2f1de2acdbe48"
            }
          },
          "metadata": {}
        },
        {
          "output_type": "stream",
          "name": "stdout",
          "text": [
            "Test Loss: 0.6944\n",
            "Test Accuracy: 0.7506\n",
            "Test F1 Score: 0.7501\n",
            "\n",
            "Classification Report:\n",
            "                    precision    recall  f1-score   support\n",
            "\n",
            " long sleeve dress       0.66      0.54      0.59       384\n",
            "   long sleeve top       0.90      0.86      0.88       442\n",
            "short sleeve dress       0.49      0.44      0.46       382\n",
            "  short sleeve top       0.88      0.89      0.89       523\n",
            "            shorts       0.90      0.87      0.88       485\n",
            "             skirt       0.76      0.60      0.67       281\n",
            "          trousers       0.79      0.89      0.84       320\n",
            "              vest       0.92      0.73      0.81       230\n",
            "        vest dress       0.55      0.80      0.65       442\n",
            "\n",
            "          accuracy                           0.75      3489\n",
            "         macro avg       0.76      0.74      0.74      3489\n",
            "      weighted avg       0.76      0.75      0.75      3489\n",
            "\n"
          ]
        }
      ]
    },
    {
      "cell_type": "code",
      "source": [
        "pred_label, pred_prob = giq.classification.predict(\n",
        "    model_path=\"/content/customized_models/best_model.pt\",\n",
        "    model_class=CNN1,\n",
        "    model_args={\"num_classes\": 9},\n",
        "    image_path=f\"/content/data/test/images/{DATA['test_metadata']['filename'][1000]}\",\n",
        "    classes=DATA['test_metadata']['garment'].unique().tolist(),\n",
        "    resize_dim=(60, 92),\n",
        "    normalize_mean=[0.8047, 0.7808, 0.7769],\n",
        "    normalize_std=[0.2957, 0.3077, 0.3081]\n",
        ")\n",
        "\n",
        "print(\n",
        "    \"True label: \", DATA['test_metadata']['filename'][1000],\n",
        "    \"\\nPredicted label: \", pred_label,\n",
        "    \"\\nPredicted Probabilities: \", pred_prob\n",
        ")"
      ],
      "metadata": {
        "colab": {
          "base_uri": "https://localhost:8080/"
        },
        "id": "dlFC4LScWRql",
        "outputId": "ed52cb36-5c0f-48c7-8047-baaf22c462c4"
      },
      "execution_count": 22,
      "outputs": [
        {
          "output_type": "stream",
          "name": "stdout",
          "text": [
            "True label:  trousers_347.jpg \n",
            "Predicted label:  trousers \n",
            "Predicted Probabilities:  [6.219950591912493e-06, 3.258124479543767e-06, 3.1806232527742395e-06, 1.4495129789793282e-06, 0.04034010320901871, 0.00028508342802524567, 0.9592325687408447, 0.00012734273332171142, 7.457717856595991e-07]\n"
          ]
        }
      ]
    }
  ]
}
