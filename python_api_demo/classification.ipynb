{
  "nbformat": 4,
  "nbformat_minor": 0,
  "metadata": {
    "colab": {
      "provenance": [],
      "gpuType": "T4",
      "include_colab_link": true
    },
    "kernelspec": {
      "name": "python3",
      "display_name": "Python 3"
    },
    "language_info": {
      "name": "python"
    },
    "accelerator": "GPU",
    "widgets": {
      "application/vnd.jupyter.widget-state+json": {
        "d34a3bbe012e443aa8218b85c3176183": {
          "model_module": "@jupyter-widgets/controls",
          "model_name": "HBoxModel",
          "model_module_version": "1.5.0",
          "state": {
            "_dom_classes": [],
            "_model_module": "@jupyter-widgets/controls",
            "_model_module_version": "1.5.0",
            "_model_name": "HBoxModel",
            "_view_count": null,
            "_view_module": "@jupyter-widgets/controls",
            "_view_module_version": "1.5.0",
            "_view_name": "HBoxView",
            "box_style": "",
            "children": [
              "IPY_MODEL_62fccdd9193042a2834c06846c2a9bca",
              "IPY_MODEL_50b188994acd4260a3d162cc6b60ad12",
              "IPY_MODEL_9054c69a771741fa9f50931d2d7b6539"
            ],
            "layout": "IPY_MODEL_454d90919b7c46bd87bee0dfff038556"
          }
        },
        "62fccdd9193042a2834c06846c2a9bca": {
          "model_module": "@jupyter-widgets/controls",
          "model_name": "HTMLModel",
          "model_module_version": "1.5.0",
          "state": {
            "_dom_classes": [],
            "_model_module": "@jupyter-widgets/controls",
            "_model_module_version": "1.5.0",
            "_model_name": "HTMLModel",
            "_view_count": null,
            "_view_module": "@jupyter-widgets/controls",
            "_view_module_version": "1.5.0",
            "_view_name": "HTMLView",
            "description": "",
            "description_tooltip": null,
            "layout": "IPY_MODEL_2355d98495574eb097ba1c5eaab6e295",
            "placeholder": "​",
            "style": "IPY_MODEL_5550d17963474427a2160ad009df8824",
            "value": "Loading data into memory: 100%"
          }
        },
        "50b188994acd4260a3d162cc6b60ad12": {
          "model_module": "@jupyter-widgets/controls",
          "model_name": "FloatProgressModel",
          "model_module_version": "1.5.0",
          "state": {
            "_dom_classes": [],
            "_model_module": "@jupyter-widgets/controls",
            "_model_module_version": "1.5.0",
            "_model_name": "FloatProgressModel",
            "_view_count": null,
            "_view_module": "@jupyter-widgets/controls",
            "_view_module_version": "1.5.0",
            "_view_name": "ProgressView",
            "bar_style": "success",
            "description": "",
            "description_tooltip": null,
            "layout": "IPY_MODEL_67aa17ce8386445ca24ece9754ad9d3e",
            "max": 3489,
            "min": 0,
            "orientation": "horizontal",
            "style": "IPY_MODEL_5994d56c72ab4168947c8586ca9fc82c",
            "value": 3489
          }
        },
        "9054c69a771741fa9f50931d2d7b6539": {
          "model_module": "@jupyter-widgets/controls",
          "model_name": "HTMLModel",
          "model_module_version": "1.5.0",
          "state": {
            "_dom_classes": [],
            "_model_module": "@jupyter-widgets/controls",
            "_model_module_version": "1.5.0",
            "_model_name": "HTMLModel",
            "_view_count": null,
            "_view_module": "@jupyter-widgets/controls",
            "_view_module_version": "1.5.0",
            "_view_name": "HTMLView",
            "description": "",
            "description_tooltip": null,
            "layout": "IPY_MODEL_0372cc396f384d32a48cfa929ebbda19",
            "placeholder": "​",
            "style": "IPY_MODEL_0ba7481417c54ef2b1eeee2d8fa04c79",
            "value": " 3489/3489 [00:21&lt;00:00, 97.64it/s]"
          }
        },
        "454d90919b7c46bd87bee0dfff038556": {
          "model_module": "@jupyter-widgets/base",
          "model_name": "LayoutModel",
          "model_module_version": "1.2.0",
          "state": {
            "_model_module": "@jupyter-widgets/base",
            "_model_module_version": "1.2.0",
            "_model_name": "LayoutModel",
            "_view_count": null,
            "_view_module": "@jupyter-widgets/base",
            "_view_module_version": "1.2.0",
            "_view_name": "LayoutView",
            "align_content": null,
            "align_items": null,
            "align_self": null,
            "border": null,
            "bottom": null,
            "display": null,
            "flex": null,
            "flex_flow": null,
            "grid_area": null,
            "grid_auto_columns": null,
            "grid_auto_flow": null,
            "grid_auto_rows": null,
            "grid_column": null,
            "grid_gap": null,
            "grid_row": null,
            "grid_template_areas": null,
            "grid_template_columns": null,
            "grid_template_rows": null,
            "height": null,
            "justify_content": null,
            "justify_items": null,
            "left": null,
            "margin": null,
            "max_height": null,
            "max_width": null,
            "min_height": null,
            "min_width": null,
            "object_fit": null,
            "object_position": null,
            "order": null,
            "overflow": null,
            "overflow_x": null,
            "overflow_y": null,
            "padding": null,
            "right": null,
            "top": null,
            "visibility": null,
            "width": null
          }
        },
        "2355d98495574eb097ba1c5eaab6e295": {
          "model_module": "@jupyter-widgets/base",
          "model_name": "LayoutModel",
          "model_module_version": "1.2.0",
          "state": {
            "_model_module": "@jupyter-widgets/base",
            "_model_module_version": "1.2.0",
            "_model_name": "LayoutModel",
            "_view_count": null,
            "_view_module": "@jupyter-widgets/base",
            "_view_module_version": "1.2.0",
            "_view_name": "LayoutView",
            "align_content": null,
            "align_items": null,
            "align_self": null,
            "border": null,
            "bottom": null,
            "display": null,
            "flex": null,
            "flex_flow": null,
            "grid_area": null,
            "grid_auto_columns": null,
            "grid_auto_flow": null,
            "grid_auto_rows": null,
            "grid_column": null,
            "grid_gap": null,
            "grid_row": null,
            "grid_template_areas": null,
            "grid_template_columns": null,
            "grid_template_rows": null,
            "height": null,
            "justify_content": null,
            "justify_items": null,
            "left": null,
            "margin": null,
            "max_height": null,
            "max_width": null,
            "min_height": null,
            "min_width": null,
            "object_fit": null,
            "object_position": null,
            "order": null,
            "overflow": null,
            "overflow_x": null,
            "overflow_y": null,
            "padding": null,
            "right": null,
            "top": null,
            "visibility": null,
            "width": null
          }
        },
        "5550d17963474427a2160ad009df8824": {
          "model_module": "@jupyter-widgets/controls",
          "model_name": "DescriptionStyleModel",
          "model_module_version": "1.5.0",
          "state": {
            "_model_module": "@jupyter-widgets/controls",
            "_model_module_version": "1.5.0",
            "_model_name": "DescriptionStyleModel",
            "_view_count": null,
            "_view_module": "@jupyter-widgets/base",
            "_view_module_version": "1.2.0",
            "_view_name": "StyleView",
            "description_width": ""
          }
        },
        "67aa17ce8386445ca24ece9754ad9d3e": {
          "model_module": "@jupyter-widgets/base",
          "model_name": "LayoutModel",
          "model_module_version": "1.2.0",
          "state": {
            "_model_module": "@jupyter-widgets/base",
            "_model_module_version": "1.2.0",
            "_model_name": "LayoutModel",
            "_view_count": null,
            "_view_module": "@jupyter-widgets/base",
            "_view_module_version": "1.2.0",
            "_view_name": "LayoutView",
            "align_content": null,
            "align_items": null,
            "align_self": null,
            "border": null,
            "bottom": null,
            "display": null,
            "flex": null,
            "flex_flow": null,
            "grid_area": null,
            "grid_auto_columns": null,
            "grid_auto_flow": null,
            "grid_auto_rows": null,
            "grid_column": null,
            "grid_gap": null,
            "grid_row": null,
            "grid_template_areas": null,
            "grid_template_columns": null,
            "grid_template_rows": null,
            "height": null,
            "justify_content": null,
            "justify_items": null,
            "left": null,
            "margin": null,
            "max_height": null,
            "max_width": null,
            "min_height": null,
            "min_width": null,
            "object_fit": null,
            "object_position": null,
            "order": null,
            "overflow": null,
            "overflow_x": null,
            "overflow_y": null,
            "padding": null,
            "right": null,
            "top": null,
            "visibility": null,
            "width": null
          }
        },
        "5994d56c72ab4168947c8586ca9fc82c": {
          "model_module": "@jupyter-widgets/controls",
          "model_name": "ProgressStyleModel",
          "model_module_version": "1.5.0",
          "state": {
            "_model_module": "@jupyter-widgets/controls",
            "_model_module_version": "1.5.0",
            "_model_name": "ProgressStyleModel",
            "_view_count": null,
            "_view_module": "@jupyter-widgets/base",
            "_view_module_version": "1.2.0",
            "_view_name": "StyleView",
            "bar_color": null,
            "description_width": ""
          }
        },
        "0372cc396f384d32a48cfa929ebbda19": {
          "model_module": "@jupyter-widgets/base",
          "model_name": "LayoutModel",
          "model_module_version": "1.2.0",
          "state": {
            "_model_module": "@jupyter-widgets/base",
            "_model_module_version": "1.2.0",
            "_model_name": "LayoutModel",
            "_view_count": null,
            "_view_module": "@jupyter-widgets/base",
            "_view_module_version": "1.2.0",
            "_view_name": "LayoutView",
            "align_content": null,
            "align_items": null,
            "align_self": null,
            "border": null,
            "bottom": null,
            "display": null,
            "flex": null,
            "flex_flow": null,
            "grid_area": null,
            "grid_auto_columns": null,
            "grid_auto_flow": null,
            "grid_auto_rows": null,
            "grid_column": null,
            "grid_gap": null,
            "grid_row": null,
            "grid_template_areas": null,
            "grid_template_columns": null,
            "grid_template_rows": null,
            "height": null,
            "justify_content": null,
            "justify_items": null,
            "left": null,
            "margin": null,
            "max_height": null,
            "max_width": null,
            "min_height": null,
            "min_width": null,
            "object_fit": null,
            "object_position": null,
            "order": null,
            "overflow": null,
            "overflow_x": null,
            "overflow_y": null,
            "padding": null,
            "right": null,
            "top": null,
            "visibility": null,
            "width": null
          }
        },
        "0ba7481417c54ef2b1eeee2d8fa04c79": {
          "model_module": "@jupyter-widgets/controls",
          "model_name": "DescriptionStyleModel",
          "model_module_version": "1.5.0",
          "state": {
            "_model_module": "@jupyter-widgets/controls",
            "_model_module_version": "1.5.0",
            "_model_name": "DescriptionStyleModel",
            "_view_count": null,
            "_view_module": "@jupyter-widgets/base",
            "_view_module_version": "1.2.0",
            "_view_name": "StyleView",
            "description_width": ""
          }
        },
        "bfcf5d53190948439df7e5718d09d10e": {
          "model_module": "@jupyter-widgets/controls",
          "model_name": "HBoxModel",
          "model_module_version": "1.5.0",
          "state": {
            "_dom_classes": [],
            "_model_module": "@jupyter-widgets/controls",
            "_model_module_version": "1.5.0",
            "_model_name": "HBoxModel",
            "_view_count": null,
            "_view_module": "@jupyter-widgets/controls",
            "_view_module_version": "1.5.0",
            "_view_name": "HBoxView",
            "box_style": "",
            "children": [
              "IPY_MODEL_ec617e1cc80a43c9a5a4cb4f6f2bf6a5",
              "IPY_MODEL_62767567196d451da069ca5645ae8b31",
              "IPY_MODEL_5c362e4f1d024c0caf9eedf94bd75477"
            ],
            "layout": "IPY_MODEL_73224558265b43d59b9fbf1ba7e89a4c"
          }
        },
        "ec617e1cc80a43c9a5a4cb4f6f2bf6a5": {
          "model_module": "@jupyter-widgets/controls",
          "model_name": "HTMLModel",
          "model_module_version": "1.5.0",
          "state": {
            "_dom_classes": [],
            "_model_module": "@jupyter-widgets/controls",
            "_model_module_version": "1.5.0",
            "_model_name": "HTMLModel",
            "_view_count": null,
            "_view_module": "@jupyter-widgets/controls",
            "_view_module_version": "1.5.0",
            "_view_name": "HTMLView",
            "description": "",
            "description_tooltip": null,
            "layout": "IPY_MODEL_a6db5551bb3e49e4a9482a2fab6906a8",
            "placeholder": "​",
            "style": "IPY_MODEL_4f27071e1bf44894920a44d25d0196fb",
            "value": "Evaluating: 100%"
          }
        },
        "62767567196d451da069ca5645ae8b31": {
          "model_module": "@jupyter-widgets/controls",
          "model_name": "FloatProgressModel",
          "model_module_version": "1.5.0",
          "state": {
            "_dom_classes": [],
            "_model_module": "@jupyter-widgets/controls",
            "_model_module_version": "1.5.0",
            "_model_name": "FloatProgressModel",
            "_view_count": null,
            "_view_module": "@jupyter-widgets/controls",
            "_view_module_version": "1.5.0",
            "_view_name": "ProgressView",
            "bar_style": "success",
            "description": "",
            "description_tooltip": null,
            "layout": "IPY_MODEL_920549303a2949648c6f454f1bdfa245",
            "max": 55,
            "min": 0,
            "orientation": "horizontal",
            "style": "IPY_MODEL_8dbc058453b44fe6bbff832360fcc845",
            "value": 55
          }
        },
        "5c362e4f1d024c0caf9eedf94bd75477": {
          "model_module": "@jupyter-widgets/controls",
          "model_name": "HTMLModel",
          "model_module_version": "1.5.0",
          "state": {
            "_dom_classes": [],
            "_model_module": "@jupyter-widgets/controls",
            "_model_module_version": "1.5.0",
            "_model_name": "HTMLModel",
            "_view_count": null,
            "_view_module": "@jupyter-widgets/controls",
            "_view_module_version": "1.5.0",
            "_view_name": "HTMLView",
            "description": "",
            "description_tooltip": null,
            "layout": "IPY_MODEL_1ee8feb226284656a52d4c1ab2d9b93a",
            "placeholder": "​",
            "style": "IPY_MODEL_b5f99356ae764addb14c1738f432a270",
            "value": " 55/55 [00:05&lt;00:00,  9.72it/s]"
          }
        },
        "73224558265b43d59b9fbf1ba7e89a4c": {
          "model_module": "@jupyter-widgets/base",
          "model_name": "LayoutModel",
          "model_module_version": "1.2.0",
          "state": {
            "_model_module": "@jupyter-widgets/base",
            "_model_module_version": "1.2.0",
            "_model_name": "LayoutModel",
            "_view_count": null,
            "_view_module": "@jupyter-widgets/base",
            "_view_module_version": "1.2.0",
            "_view_name": "LayoutView",
            "align_content": null,
            "align_items": null,
            "align_self": null,
            "border": null,
            "bottom": null,
            "display": null,
            "flex": null,
            "flex_flow": null,
            "grid_area": null,
            "grid_auto_columns": null,
            "grid_auto_flow": null,
            "grid_auto_rows": null,
            "grid_column": null,
            "grid_gap": null,
            "grid_row": null,
            "grid_template_areas": null,
            "grid_template_columns": null,
            "grid_template_rows": null,
            "height": null,
            "justify_content": null,
            "justify_items": null,
            "left": null,
            "margin": null,
            "max_height": null,
            "max_width": null,
            "min_height": null,
            "min_width": null,
            "object_fit": null,
            "object_position": null,
            "order": null,
            "overflow": null,
            "overflow_x": null,
            "overflow_y": null,
            "padding": null,
            "right": null,
            "top": null,
            "visibility": null,
            "width": null
          }
        },
        "a6db5551bb3e49e4a9482a2fab6906a8": {
          "model_module": "@jupyter-widgets/base",
          "model_name": "LayoutModel",
          "model_module_version": "1.2.0",
          "state": {
            "_model_module": "@jupyter-widgets/base",
            "_model_module_version": "1.2.0",
            "_model_name": "LayoutModel",
            "_view_count": null,
            "_view_module": "@jupyter-widgets/base",
            "_view_module_version": "1.2.0",
            "_view_name": "LayoutView",
            "align_content": null,
            "align_items": null,
            "align_self": null,
            "border": null,
            "bottom": null,
            "display": null,
            "flex": null,
            "flex_flow": null,
            "grid_area": null,
            "grid_auto_columns": null,
            "grid_auto_flow": null,
            "grid_auto_rows": null,
            "grid_column": null,
            "grid_gap": null,
            "grid_row": null,
            "grid_template_areas": null,
            "grid_template_columns": null,
            "grid_template_rows": null,
            "height": null,
            "justify_content": null,
            "justify_items": null,
            "left": null,
            "margin": null,
            "max_height": null,
            "max_width": null,
            "min_height": null,
            "min_width": null,
            "object_fit": null,
            "object_position": null,
            "order": null,
            "overflow": null,
            "overflow_x": null,
            "overflow_y": null,
            "padding": null,
            "right": null,
            "top": null,
            "visibility": null,
            "width": null
          }
        },
        "4f27071e1bf44894920a44d25d0196fb": {
          "model_module": "@jupyter-widgets/controls",
          "model_name": "DescriptionStyleModel",
          "model_module_version": "1.5.0",
          "state": {
            "_model_module": "@jupyter-widgets/controls",
            "_model_module_version": "1.5.0",
            "_model_name": "DescriptionStyleModel",
            "_view_count": null,
            "_view_module": "@jupyter-widgets/base",
            "_view_module_version": "1.2.0",
            "_view_name": "StyleView",
            "description_width": ""
          }
        },
        "920549303a2949648c6f454f1bdfa245": {
          "model_module": "@jupyter-widgets/base",
          "model_name": "LayoutModel",
          "model_module_version": "1.2.0",
          "state": {
            "_model_module": "@jupyter-widgets/base",
            "_model_module_version": "1.2.0",
            "_model_name": "LayoutModel",
            "_view_count": null,
            "_view_module": "@jupyter-widgets/base",
            "_view_module_version": "1.2.0",
            "_view_name": "LayoutView",
            "align_content": null,
            "align_items": null,
            "align_self": null,
            "border": null,
            "bottom": null,
            "display": null,
            "flex": null,
            "flex_flow": null,
            "grid_area": null,
            "grid_auto_columns": null,
            "grid_auto_flow": null,
            "grid_auto_rows": null,
            "grid_column": null,
            "grid_gap": null,
            "grid_row": null,
            "grid_template_areas": null,
            "grid_template_columns": null,
            "grid_template_rows": null,
            "height": null,
            "justify_content": null,
            "justify_items": null,
            "left": null,
            "margin": null,
            "max_height": null,
            "max_width": null,
            "min_height": null,
            "min_width": null,
            "object_fit": null,
            "object_position": null,
            "order": null,
            "overflow": null,
            "overflow_x": null,
            "overflow_y": null,
            "padding": null,
            "right": null,
            "top": null,
            "visibility": null,
            "width": null
          }
        },
        "8dbc058453b44fe6bbff832360fcc845": {
          "model_module": "@jupyter-widgets/controls",
          "model_name": "ProgressStyleModel",
          "model_module_version": "1.5.0",
          "state": {
            "_model_module": "@jupyter-widgets/controls",
            "_model_module_version": "1.5.0",
            "_model_name": "ProgressStyleModel",
            "_view_count": null,
            "_view_module": "@jupyter-widgets/base",
            "_view_module_version": "1.2.0",
            "_view_name": "StyleView",
            "bar_color": null,
            "description_width": ""
          }
        },
        "1ee8feb226284656a52d4c1ab2d9b93a": {
          "model_module": "@jupyter-widgets/base",
          "model_name": "LayoutModel",
          "model_module_version": "1.2.0",
          "state": {
            "_model_module": "@jupyter-widgets/base",
            "_model_module_version": "1.2.0",
            "_model_name": "LayoutModel",
            "_view_count": null,
            "_view_module": "@jupyter-widgets/base",
            "_view_module_version": "1.2.0",
            "_view_name": "LayoutView",
            "align_content": null,
            "align_items": null,
            "align_self": null,
            "border": null,
            "bottom": null,
            "display": null,
            "flex": null,
            "flex_flow": null,
            "grid_area": null,
            "grid_auto_columns": null,
            "grid_auto_flow": null,
            "grid_auto_rows": null,
            "grid_column": null,
            "grid_gap": null,
            "grid_row": null,
            "grid_template_areas": null,
            "grid_template_columns": null,
            "grid_template_rows": null,
            "height": null,
            "justify_content": null,
            "justify_items": null,
            "left": null,
            "margin": null,
            "max_height": null,
            "max_width": null,
            "min_height": null,
            "min_width": null,
            "object_fit": null,
            "object_position": null,
            "order": null,
            "overflow": null,
            "overflow_x": null,
            "overflow_y": null,
            "padding": null,
            "right": null,
            "top": null,
            "visibility": null,
            "width": null
          }
        },
        "b5f99356ae764addb14c1738f432a270": {
          "model_module": "@jupyter-widgets/controls",
          "model_name": "DescriptionStyleModel",
          "model_module_version": "1.5.0",
          "state": {
            "_model_module": "@jupyter-widgets/controls",
            "_model_module_version": "1.5.0",
            "_model_name": "DescriptionStyleModel",
            "_view_count": null,
            "_view_module": "@jupyter-widgets/base",
            "_view_module_version": "1.2.0",
            "_view_name": "StyleView",
            "description_width": ""
          }
        },
        "b4c7b87cc6a14a63ba2ed4bbb98257c8": {
          "model_module": "@jupyter-widgets/controls",
          "model_name": "HBoxModel",
          "model_module_version": "1.5.0",
          "state": {
            "_dom_classes": [],
            "_model_module": "@jupyter-widgets/controls",
            "_model_module_version": "1.5.0",
            "_model_name": "HBoxModel",
            "_view_count": null,
            "_view_module": "@jupyter-widgets/controls",
            "_view_module_version": "1.5.0",
            "_view_name": "HBoxView",
            "box_style": "",
            "children": [
              "IPY_MODEL_0abdac8cfb7b4885bfe8f23114aa82c4",
              "IPY_MODEL_80a4c9673d0f4e4bba4a35c9c7c9d99b",
              "IPY_MODEL_da4addbec3704003a562860d81cd3413"
            ],
            "layout": "IPY_MODEL_ac6f9e3415524c3d8d5931642018128a"
          }
        },
        "0abdac8cfb7b4885bfe8f23114aa82c4": {
          "model_module": "@jupyter-widgets/controls",
          "model_name": "HTMLModel",
          "model_module_version": "1.5.0",
          "state": {
            "_dom_classes": [],
            "_model_module": "@jupyter-widgets/controls",
            "_model_module_version": "1.5.0",
            "_model_name": "HTMLModel",
            "_view_count": null,
            "_view_module": "@jupyter-widgets/controls",
            "_view_module_version": "1.5.0",
            "_view_name": "HTMLView",
            "description": "",
            "description_tooltip": null,
            "layout": "IPY_MODEL_8d98eb9852b6433d81ac276344c9ff14",
            "placeholder": "​",
            "style": "IPY_MODEL_f65a2670b076417c9e0ec80e04b603f4",
            "value": "Evaluating: 100%"
          }
        },
        "80a4c9673d0f4e4bba4a35c9c7c9d99b": {
          "model_module": "@jupyter-widgets/controls",
          "model_name": "FloatProgressModel",
          "model_module_version": "1.5.0",
          "state": {
            "_dom_classes": [],
            "_model_module": "@jupyter-widgets/controls",
            "_model_module_version": "1.5.0",
            "_model_name": "FloatProgressModel",
            "_view_count": null,
            "_view_module": "@jupyter-widgets/controls",
            "_view_module_version": "1.5.0",
            "_view_name": "ProgressView",
            "bar_style": "success",
            "description": "",
            "description_tooltip": null,
            "layout": "IPY_MODEL_9a3afc61f6a24ec1b0c6d2ac152ea8f2",
            "max": 55,
            "min": 0,
            "orientation": "horizontal",
            "style": "IPY_MODEL_2a0719d2d8ff4063aa81eb3d67439571",
            "value": 55
          }
        },
        "da4addbec3704003a562860d81cd3413": {
          "model_module": "@jupyter-widgets/controls",
          "model_name": "HTMLModel",
          "model_module_version": "1.5.0",
          "state": {
            "_dom_classes": [],
            "_model_module": "@jupyter-widgets/controls",
            "_model_module_version": "1.5.0",
            "_model_name": "HTMLModel",
            "_view_count": null,
            "_view_module": "@jupyter-widgets/controls",
            "_view_module_version": "1.5.0",
            "_view_name": "HTMLView",
            "description": "",
            "description_tooltip": null,
            "layout": "IPY_MODEL_7e813df454534971b0f785004a820b5b",
            "placeholder": "​",
            "style": "IPY_MODEL_f1be9e3f5f5e45bea4d383756fb8138b",
            "value": " 55/55 [00:06&lt;00:00,  8.31it/s]"
          }
        },
        "ac6f9e3415524c3d8d5931642018128a": {
          "model_module": "@jupyter-widgets/base",
          "model_name": "LayoutModel",
          "model_module_version": "1.2.0",
          "state": {
            "_model_module": "@jupyter-widgets/base",
            "_model_module_version": "1.2.0",
            "_model_name": "LayoutModel",
            "_view_count": null,
            "_view_module": "@jupyter-widgets/base",
            "_view_module_version": "1.2.0",
            "_view_name": "LayoutView",
            "align_content": null,
            "align_items": null,
            "align_self": null,
            "border": null,
            "bottom": null,
            "display": null,
            "flex": null,
            "flex_flow": null,
            "grid_area": null,
            "grid_auto_columns": null,
            "grid_auto_flow": null,
            "grid_auto_rows": null,
            "grid_column": null,
            "grid_gap": null,
            "grid_row": null,
            "grid_template_areas": null,
            "grid_template_columns": null,
            "grid_template_rows": null,
            "height": null,
            "justify_content": null,
            "justify_items": null,
            "left": null,
            "margin": null,
            "max_height": null,
            "max_width": null,
            "min_height": null,
            "min_width": null,
            "object_fit": null,
            "object_position": null,
            "order": null,
            "overflow": null,
            "overflow_x": null,
            "overflow_y": null,
            "padding": null,
            "right": null,
            "top": null,
            "visibility": null,
            "width": null
          }
        },
        "8d98eb9852b6433d81ac276344c9ff14": {
          "model_module": "@jupyter-widgets/base",
          "model_name": "LayoutModel",
          "model_module_version": "1.2.0",
          "state": {
            "_model_module": "@jupyter-widgets/base",
            "_model_module_version": "1.2.0",
            "_model_name": "LayoutModel",
            "_view_count": null,
            "_view_module": "@jupyter-widgets/base",
            "_view_module_version": "1.2.0",
            "_view_name": "LayoutView",
            "align_content": null,
            "align_items": null,
            "align_self": null,
            "border": null,
            "bottom": null,
            "display": null,
            "flex": null,
            "flex_flow": null,
            "grid_area": null,
            "grid_auto_columns": null,
            "grid_auto_flow": null,
            "grid_auto_rows": null,
            "grid_column": null,
            "grid_gap": null,
            "grid_row": null,
            "grid_template_areas": null,
            "grid_template_columns": null,
            "grid_template_rows": null,
            "height": null,
            "justify_content": null,
            "justify_items": null,
            "left": null,
            "margin": null,
            "max_height": null,
            "max_width": null,
            "min_height": null,
            "min_width": null,
            "object_fit": null,
            "object_position": null,
            "order": null,
            "overflow": null,
            "overflow_x": null,
            "overflow_y": null,
            "padding": null,
            "right": null,
            "top": null,
            "visibility": null,
            "width": null
          }
        },
        "f65a2670b076417c9e0ec80e04b603f4": {
          "model_module": "@jupyter-widgets/controls",
          "model_name": "DescriptionStyleModel",
          "model_module_version": "1.5.0",
          "state": {
            "_model_module": "@jupyter-widgets/controls",
            "_model_module_version": "1.5.0",
            "_model_name": "DescriptionStyleModel",
            "_view_count": null,
            "_view_module": "@jupyter-widgets/base",
            "_view_module_version": "1.2.0",
            "_view_name": "StyleView",
            "description_width": ""
          }
        },
        "9a3afc61f6a24ec1b0c6d2ac152ea8f2": {
          "model_module": "@jupyter-widgets/base",
          "model_name": "LayoutModel",
          "model_module_version": "1.2.0",
          "state": {
            "_model_module": "@jupyter-widgets/base",
            "_model_module_version": "1.2.0",
            "_model_name": "LayoutModel",
            "_view_count": null,
            "_view_module": "@jupyter-widgets/base",
            "_view_module_version": "1.2.0",
            "_view_name": "LayoutView",
            "align_content": null,
            "align_items": null,
            "align_self": null,
            "border": null,
            "bottom": null,
            "display": null,
            "flex": null,
            "flex_flow": null,
            "grid_area": null,
            "grid_auto_columns": null,
            "grid_auto_flow": null,
            "grid_auto_rows": null,
            "grid_column": null,
            "grid_gap": null,
            "grid_row": null,
            "grid_template_areas": null,
            "grid_template_columns": null,
            "grid_template_rows": null,
            "height": null,
            "justify_content": null,
            "justify_items": null,
            "left": null,
            "margin": null,
            "max_height": null,
            "max_width": null,
            "min_height": null,
            "min_width": null,
            "object_fit": null,
            "object_position": null,
            "order": null,
            "overflow": null,
            "overflow_x": null,
            "overflow_y": null,
            "padding": null,
            "right": null,
            "top": null,
            "visibility": null,
            "width": null
          }
        },
        "2a0719d2d8ff4063aa81eb3d67439571": {
          "model_module": "@jupyter-widgets/controls",
          "model_name": "ProgressStyleModel",
          "model_module_version": "1.5.0",
          "state": {
            "_model_module": "@jupyter-widgets/controls",
            "_model_module_version": "1.5.0",
            "_model_name": "ProgressStyleModel",
            "_view_count": null,
            "_view_module": "@jupyter-widgets/base",
            "_view_module_version": "1.2.0",
            "_view_name": "StyleView",
            "bar_color": null,
            "description_width": ""
          }
        },
        "7e813df454534971b0f785004a820b5b": {
          "model_module": "@jupyter-widgets/base",
          "model_name": "LayoutModel",
          "model_module_version": "1.2.0",
          "state": {
            "_model_module": "@jupyter-widgets/base",
            "_model_module_version": "1.2.0",
            "_model_name": "LayoutModel",
            "_view_count": null,
            "_view_module": "@jupyter-widgets/base",
            "_view_module_version": "1.2.0",
            "_view_name": "LayoutView",
            "align_content": null,
            "align_items": null,
            "align_self": null,
            "border": null,
            "bottom": null,
            "display": null,
            "flex": null,
            "flex_flow": null,
            "grid_area": null,
            "grid_auto_columns": null,
            "grid_auto_flow": null,
            "grid_auto_rows": null,
            "grid_column": null,
            "grid_gap": null,
            "grid_row": null,
            "grid_template_areas": null,
            "grid_template_columns": null,
            "grid_template_rows": null,
            "height": null,
            "justify_content": null,
            "justify_items": null,
            "left": null,
            "margin": null,
            "max_height": null,
            "max_width": null,
            "min_height": null,
            "min_width": null,
            "object_fit": null,
            "object_position": null,
            "order": null,
            "overflow": null,
            "overflow_x": null,
            "overflow_y": null,
            "padding": null,
            "right": null,
            "top": null,
            "visibility": null,
            "width": null
          }
        },
        "f1be9e3f5f5e45bea4d383756fb8138b": {
          "model_module": "@jupyter-widgets/controls",
          "model_name": "DescriptionStyleModel",
          "model_module_version": "1.5.0",
          "state": {
            "_model_module": "@jupyter-widgets/controls",
            "_model_module_version": "1.5.0",
            "_model_name": "DescriptionStyleModel",
            "_view_count": null,
            "_view_module": "@jupyter-widgets/base",
            "_view_module_version": "1.2.0",
            "_view_name": "StyleView",
            "description_width": ""
          }
        },
        "4d3ec36438b64102872b75b6509301b0": {
          "model_module": "@jupyter-widgets/controls",
          "model_name": "HBoxModel",
          "model_module_version": "1.5.0",
          "state": {
            "_dom_classes": [],
            "_model_module": "@jupyter-widgets/controls",
            "_model_module_version": "1.5.0",
            "_model_name": "HBoxModel",
            "_view_count": null,
            "_view_module": "@jupyter-widgets/controls",
            "_view_module_version": "1.5.0",
            "_view_name": "HBoxView",
            "box_style": "",
            "children": [
              "IPY_MODEL_fe191585980d43139c881a3b57cf6a15",
              "IPY_MODEL_8d28f98033d34ddbbd1ec82dfd237d62",
              "IPY_MODEL_07a5007dbbef4d3eb45b64d3a98b07eb"
            ],
            "layout": "IPY_MODEL_1f6bc31b0eda4477b2b848eeed0defb0"
          }
        },
        "fe191585980d43139c881a3b57cf6a15": {
          "model_module": "@jupyter-widgets/controls",
          "model_name": "HTMLModel",
          "model_module_version": "1.5.0",
          "state": {
            "_dom_classes": [],
            "_model_module": "@jupyter-widgets/controls",
            "_model_module_version": "1.5.0",
            "_model_name": "HTMLModel",
            "_view_count": null,
            "_view_module": "@jupyter-widgets/controls",
            "_view_module_version": "1.5.0",
            "_view_name": "HTMLView",
            "description": "",
            "description_tooltip": null,
            "layout": "IPY_MODEL_5b04ea833a8d4c63bae885d881a6b22d",
            "placeholder": "​",
            "style": "IPY_MODEL_9371ea6c09c647a5a4306b55a5682dd5",
            "value": "model.safetensors: 100%"
          }
        },
        "8d28f98033d34ddbbd1ec82dfd237d62": {
          "model_module": "@jupyter-widgets/controls",
          "model_name": "FloatProgressModel",
          "model_module_version": "1.5.0",
          "state": {
            "_dom_classes": [],
            "_model_module": "@jupyter-widgets/controls",
            "_model_module_version": "1.5.0",
            "_model_name": "FloatProgressModel",
            "_view_count": null,
            "_view_module": "@jupyter-widgets/controls",
            "_view_module_version": "1.5.0",
            "_view_name": "ProgressView",
            "bar_style": "success",
            "description": "",
            "description_tooltip": null,
            "layout": "IPY_MODEL_c02345cb170b4a828e6c3bac4b0931bd",
            "max": 22883348,
            "min": 0,
            "orientation": "horizontal",
            "style": "IPY_MODEL_0aa263d6bc9f4970bd22dabdf7aaf77a",
            "value": 22883348
          }
        },
        "07a5007dbbef4d3eb45b64d3a98b07eb": {
          "model_module": "@jupyter-widgets/controls",
          "model_name": "HTMLModel",
          "model_module_version": "1.5.0",
          "state": {
            "_dom_classes": [],
            "_model_module": "@jupyter-widgets/controls",
            "_model_module_version": "1.5.0",
            "_model_name": "HTMLModel",
            "_view_count": null,
            "_view_module": "@jupyter-widgets/controls",
            "_view_module_version": "1.5.0",
            "_view_name": "HTMLView",
            "description": "",
            "description_tooltip": null,
            "layout": "IPY_MODEL_f686211736f84a86a37d3fdf8fe05638",
            "placeholder": "​",
            "style": "IPY_MODEL_ca8bdcc3a7304c04b291a8417821a3a9",
            "value": " 22.9M/22.9M [00:00&lt;00:00, 88.4MB/s]"
          }
        },
        "1f6bc31b0eda4477b2b848eeed0defb0": {
          "model_module": "@jupyter-widgets/base",
          "model_name": "LayoutModel",
          "model_module_version": "1.2.0",
          "state": {
            "_model_module": "@jupyter-widgets/base",
            "_model_module_version": "1.2.0",
            "_model_name": "LayoutModel",
            "_view_count": null,
            "_view_module": "@jupyter-widgets/base",
            "_view_module_version": "1.2.0",
            "_view_name": "LayoutView",
            "align_content": null,
            "align_items": null,
            "align_self": null,
            "border": null,
            "bottom": null,
            "display": null,
            "flex": null,
            "flex_flow": null,
            "grid_area": null,
            "grid_auto_columns": null,
            "grid_auto_flow": null,
            "grid_auto_rows": null,
            "grid_column": null,
            "grid_gap": null,
            "grid_row": null,
            "grid_template_areas": null,
            "grid_template_columns": null,
            "grid_template_rows": null,
            "height": null,
            "justify_content": null,
            "justify_items": null,
            "left": null,
            "margin": null,
            "max_height": null,
            "max_width": null,
            "min_height": null,
            "min_width": null,
            "object_fit": null,
            "object_position": null,
            "order": null,
            "overflow": null,
            "overflow_x": null,
            "overflow_y": null,
            "padding": null,
            "right": null,
            "top": null,
            "visibility": null,
            "width": null
          }
        },
        "5b04ea833a8d4c63bae885d881a6b22d": {
          "model_module": "@jupyter-widgets/base",
          "model_name": "LayoutModel",
          "model_module_version": "1.2.0",
          "state": {
            "_model_module": "@jupyter-widgets/base",
            "_model_module_version": "1.2.0",
            "_model_name": "LayoutModel",
            "_view_count": null,
            "_view_module": "@jupyter-widgets/base",
            "_view_module_version": "1.2.0",
            "_view_name": "LayoutView",
            "align_content": null,
            "align_items": null,
            "align_self": null,
            "border": null,
            "bottom": null,
            "display": null,
            "flex": null,
            "flex_flow": null,
            "grid_area": null,
            "grid_auto_columns": null,
            "grid_auto_flow": null,
            "grid_auto_rows": null,
            "grid_column": null,
            "grid_gap": null,
            "grid_row": null,
            "grid_template_areas": null,
            "grid_template_columns": null,
            "grid_template_rows": null,
            "height": null,
            "justify_content": null,
            "justify_items": null,
            "left": null,
            "margin": null,
            "max_height": null,
            "max_width": null,
            "min_height": null,
            "min_width": null,
            "object_fit": null,
            "object_position": null,
            "order": null,
            "overflow": null,
            "overflow_x": null,
            "overflow_y": null,
            "padding": null,
            "right": null,
            "top": null,
            "visibility": null,
            "width": null
          }
        },
        "9371ea6c09c647a5a4306b55a5682dd5": {
          "model_module": "@jupyter-widgets/controls",
          "model_name": "DescriptionStyleModel",
          "model_module_version": "1.5.0",
          "state": {
            "_model_module": "@jupyter-widgets/controls",
            "_model_module_version": "1.5.0",
            "_model_name": "DescriptionStyleModel",
            "_view_count": null,
            "_view_module": "@jupyter-widgets/base",
            "_view_module_version": "1.2.0",
            "_view_name": "StyleView",
            "description_width": ""
          }
        },
        "c02345cb170b4a828e6c3bac4b0931bd": {
          "model_module": "@jupyter-widgets/base",
          "model_name": "LayoutModel",
          "model_module_version": "1.2.0",
          "state": {
            "_model_module": "@jupyter-widgets/base",
            "_model_module_version": "1.2.0",
            "_model_name": "LayoutModel",
            "_view_count": null,
            "_view_module": "@jupyter-widgets/base",
            "_view_module_version": "1.2.0",
            "_view_name": "LayoutView",
            "align_content": null,
            "align_items": null,
            "align_self": null,
            "border": null,
            "bottom": null,
            "display": null,
            "flex": null,
            "flex_flow": null,
            "grid_area": null,
            "grid_auto_columns": null,
            "grid_auto_flow": null,
            "grid_auto_rows": null,
            "grid_column": null,
            "grid_gap": null,
            "grid_row": null,
            "grid_template_areas": null,
            "grid_template_columns": null,
            "grid_template_rows": null,
            "height": null,
            "justify_content": null,
            "justify_items": null,
            "left": null,
            "margin": null,
            "max_height": null,
            "max_width": null,
            "min_height": null,
            "min_width": null,
            "object_fit": null,
            "object_position": null,
            "order": null,
            "overflow": null,
            "overflow_x": null,
            "overflow_y": null,
            "padding": null,
            "right": null,
            "top": null,
            "visibility": null,
            "width": null
          }
        },
        "0aa263d6bc9f4970bd22dabdf7aaf77a": {
          "model_module": "@jupyter-widgets/controls",
          "model_name": "ProgressStyleModel",
          "model_module_version": "1.5.0",
          "state": {
            "_model_module": "@jupyter-widgets/controls",
            "_model_module_version": "1.5.0",
            "_model_name": "ProgressStyleModel",
            "_view_count": null,
            "_view_module": "@jupyter-widgets/base",
            "_view_module_version": "1.2.0",
            "_view_name": "StyleView",
            "bar_color": null,
            "description_width": ""
          }
        },
        "f686211736f84a86a37d3fdf8fe05638": {
          "model_module": "@jupyter-widgets/base",
          "model_name": "LayoutModel",
          "model_module_version": "1.2.0",
          "state": {
            "_model_module": "@jupyter-widgets/base",
            "_model_module_version": "1.2.0",
            "_model_name": "LayoutModel",
            "_view_count": null,
            "_view_module": "@jupyter-widgets/base",
            "_view_module_version": "1.2.0",
            "_view_name": "LayoutView",
            "align_content": null,
            "align_items": null,
            "align_self": null,
            "border": null,
            "bottom": null,
            "display": null,
            "flex": null,
            "flex_flow": null,
            "grid_area": null,
            "grid_auto_columns": null,
            "grid_auto_flow": null,
            "grid_auto_rows": null,
            "grid_column": null,
            "grid_gap": null,
            "grid_row": null,
            "grid_template_areas": null,
            "grid_template_columns": null,
            "grid_template_rows": null,
            "height": null,
            "justify_content": null,
            "justify_items": null,
            "left": null,
            "margin": null,
            "max_height": null,
            "max_width": null,
            "min_height": null,
            "min_width": null,
            "object_fit": null,
            "object_position": null,
            "order": null,
            "overflow": null,
            "overflow_x": null,
            "overflow_y": null,
            "padding": null,
            "right": null,
            "top": null,
            "visibility": null,
            "width": null
          }
        },
        "ca8bdcc3a7304c04b291a8417821a3a9": {
          "model_module": "@jupyter-widgets/controls",
          "model_name": "DescriptionStyleModel",
          "model_module_version": "1.5.0",
          "state": {
            "_model_module": "@jupyter-widgets/controls",
            "_model_module_version": "1.5.0",
            "_model_name": "DescriptionStyleModel",
            "_view_count": null,
            "_view_module": "@jupyter-widgets/base",
            "_view_module_version": "1.2.0",
            "_view_name": "StyleView",
            "description_width": ""
          }
        },
        "b9c628aa0c31437da442664a9f670c9c": {
          "model_module": "@jupyter-widgets/controls",
          "model_name": "HBoxModel",
          "model_module_version": "1.5.0",
          "state": {
            "_dom_classes": [],
            "_model_module": "@jupyter-widgets/controls",
            "_model_module_version": "1.5.0",
            "_model_name": "HBoxModel",
            "_view_count": null,
            "_view_module": "@jupyter-widgets/controls",
            "_view_module_version": "1.5.0",
            "_view_name": "HBoxView",
            "box_style": "",
            "children": [
              "IPY_MODEL_c488029728484492b04fa04714c45550",
              "IPY_MODEL_4fa20e59368f454bb90f3c266292eff4",
              "IPY_MODEL_da811f689a954b84a13b452fd57e50db"
            ],
            "layout": "IPY_MODEL_d5f41831410a4005ae09240e8650a8d7"
          }
        },
        "c488029728484492b04fa04714c45550": {
          "model_module": "@jupyter-widgets/controls",
          "model_name": "HTMLModel",
          "model_module_version": "1.5.0",
          "state": {
            "_dom_classes": [],
            "_model_module": "@jupyter-widgets/controls",
            "_model_module_version": "1.5.0",
            "_model_name": "HTMLModel",
            "_view_count": null,
            "_view_module": "@jupyter-widgets/controls",
            "_view_module_version": "1.5.0",
            "_view_name": "HTMLView",
            "description": "",
            "description_tooltip": null,
            "layout": "IPY_MODEL_990592d4d60c4cc0b88f4f6e99cb4fc2",
            "placeholder": "​",
            "style": "IPY_MODEL_aa7bcc30ed5c442fa17ded3c90cbdd89",
            "value": "Evaluating: 100%"
          }
        },
        "4fa20e59368f454bb90f3c266292eff4": {
          "model_module": "@jupyter-widgets/controls",
          "model_name": "FloatProgressModel",
          "model_module_version": "1.5.0",
          "state": {
            "_dom_classes": [],
            "_model_module": "@jupyter-widgets/controls",
            "_model_module_version": "1.5.0",
            "_model_name": "FloatProgressModel",
            "_view_count": null,
            "_view_module": "@jupyter-widgets/controls",
            "_view_module_version": "1.5.0",
            "_view_name": "ProgressView",
            "bar_style": "success",
            "description": "",
            "description_tooltip": null,
            "layout": "IPY_MODEL_325459ff4c5448faaa3915b884c1c117",
            "max": 55,
            "min": 0,
            "orientation": "horizontal",
            "style": "IPY_MODEL_cccf7a38528c4e75a1b67fba11ec87e0",
            "value": 55
          }
        },
        "da811f689a954b84a13b452fd57e50db": {
          "model_module": "@jupyter-widgets/controls",
          "model_name": "HTMLModel",
          "model_module_version": "1.5.0",
          "state": {
            "_dom_classes": [],
            "_model_module": "@jupyter-widgets/controls",
            "_model_module_version": "1.5.0",
            "_model_name": "HTMLModel",
            "_view_count": null,
            "_view_module": "@jupyter-widgets/controls",
            "_view_module_version": "1.5.0",
            "_view_name": "HTMLView",
            "description": "",
            "description_tooltip": null,
            "layout": "IPY_MODEL_b73c6afbad5c4fb9a8c3af2accbe1284",
            "placeholder": "​",
            "style": "IPY_MODEL_a909436f627e47089b2eeefd783d5f96",
            "value": " 55/55 [00:13&lt;00:00,  4.62it/s]"
          }
        },
        "d5f41831410a4005ae09240e8650a8d7": {
          "model_module": "@jupyter-widgets/base",
          "model_name": "LayoutModel",
          "model_module_version": "1.2.0",
          "state": {
            "_model_module": "@jupyter-widgets/base",
            "_model_module_version": "1.2.0",
            "_model_name": "LayoutModel",
            "_view_count": null,
            "_view_module": "@jupyter-widgets/base",
            "_view_module_version": "1.2.0",
            "_view_name": "LayoutView",
            "align_content": null,
            "align_items": null,
            "align_self": null,
            "border": null,
            "bottom": null,
            "display": null,
            "flex": null,
            "flex_flow": null,
            "grid_area": null,
            "grid_auto_columns": null,
            "grid_auto_flow": null,
            "grid_auto_rows": null,
            "grid_column": null,
            "grid_gap": null,
            "grid_row": null,
            "grid_template_areas": null,
            "grid_template_columns": null,
            "grid_template_rows": null,
            "height": null,
            "justify_content": null,
            "justify_items": null,
            "left": null,
            "margin": null,
            "max_height": null,
            "max_width": null,
            "min_height": null,
            "min_width": null,
            "object_fit": null,
            "object_position": null,
            "order": null,
            "overflow": null,
            "overflow_x": null,
            "overflow_y": null,
            "padding": null,
            "right": null,
            "top": null,
            "visibility": null,
            "width": null
          }
        },
        "990592d4d60c4cc0b88f4f6e99cb4fc2": {
          "model_module": "@jupyter-widgets/base",
          "model_name": "LayoutModel",
          "model_module_version": "1.2.0",
          "state": {
            "_model_module": "@jupyter-widgets/base",
            "_model_module_version": "1.2.0",
            "_model_name": "LayoutModel",
            "_view_count": null,
            "_view_module": "@jupyter-widgets/base",
            "_view_module_version": "1.2.0",
            "_view_name": "LayoutView",
            "align_content": null,
            "align_items": null,
            "align_self": null,
            "border": null,
            "bottom": null,
            "display": null,
            "flex": null,
            "flex_flow": null,
            "grid_area": null,
            "grid_auto_columns": null,
            "grid_auto_flow": null,
            "grid_auto_rows": null,
            "grid_column": null,
            "grid_gap": null,
            "grid_row": null,
            "grid_template_areas": null,
            "grid_template_columns": null,
            "grid_template_rows": null,
            "height": null,
            "justify_content": null,
            "justify_items": null,
            "left": null,
            "margin": null,
            "max_height": null,
            "max_width": null,
            "min_height": null,
            "min_width": null,
            "object_fit": null,
            "object_position": null,
            "order": null,
            "overflow": null,
            "overflow_x": null,
            "overflow_y": null,
            "padding": null,
            "right": null,
            "top": null,
            "visibility": null,
            "width": null
          }
        },
        "aa7bcc30ed5c442fa17ded3c90cbdd89": {
          "model_module": "@jupyter-widgets/controls",
          "model_name": "DescriptionStyleModel",
          "model_module_version": "1.5.0",
          "state": {
            "_model_module": "@jupyter-widgets/controls",
            "_model_module_version": "1.5.0",
            "_model_name": "DescriptionStyleModel",
            "_view_count": null,
            "_view_module": "@jupyter-widgets/base",
            "_view_module_version": "1.2.0",
            "_view_name": "StyleView",
            "description_width": ""
          }
        },
        "325459ff4c5448faaa3915b884c1c117": {
          "model_module": "@jupyter-widgets/base",
          "model_name": "LayoutModel",
          "model_module_version": "1.2.0",
          "state": {
            "_model_module": "@jupyter-widgets/base",
            "_model_module_version": "1.2.0",
            "_model_name": "LayoutModel",
            "_view_count": null,
            "_view_module": "@jupyter-widgets/base",
            "_view_module_version": "1.2.0",
            "_view_name": "LayoutView",
            "align_content": null,
            "align_items": null,
            "align_self": null,
            "border": null,
            "bottom": null,
            "display": null,
            "flex": null,
            "flex_flow": null,
            "grid_area": null,
            "grid_auto_columns": null,
            "grid_auto_flow": null,
            "grid_auto_rows": null,
            "grid_column": null,
            "grid_gap": null,
            "grid_row": null,
            "grid_template_areas": null,
            "grid_template_columns": null,
            "grid_template_rows": null,
            "height": null,
            "justify_content": null,
            "justify_items": null,
            "left": null,
            "margin": null,
            "max_height": null,
            "max_width": null,
            "min_height": null,
            "min_width": null,
            "object_fit": null,
            "object_position": null,
            "order": null,
            "overflow": null,
            "overflow_x": null,
            "overflow_y": null,
            "padding": null,
            "right": null,
            "top": null,
            "visibility": null,
            "width": null
          }
        },
        "cccf7a38528c4e75a1b67fba11ec87e0": {
          "model_module": "@jupyter-widgets/controls",
          "model_name": "ProgressStyleModel",
          "model_module_version": "1.5.0",
          "state": {
            "_model_module": "@jupyter-widgets/controls",
            "_model_module_version": "1.5.0",
            "_model_name": "ProgressStyleModel",
            "_view_count": null,
            "_view_module": "@jupyter-widgets/base",
            "_view_module_version": "1.2.0",
            "_view_name": "StyleView",
            "bar_color": null,
            "description_width": ""
          }
        },
        "b73c6afbad5c4fb9a8c3af2accbe1284": {
          "model_module": "@jupyter-widgets/base",
          "model_name": "LayoutModel",
          "model_module_version": "1.2.0",
          "state": {
            "_model_module": "@jupyter-widgets/base",
            "_model_module_version": "1.2.0",
            "_model_name": "LayoutModel",
            "_view_count": null,
            "_view_module": "@jupyter-widgets/base",
            "_view_module_version": "1.2.0",
            "_view_name": "LayoutView",
            "align_content": null,
            "align_items": null,
            "align_self": null,
            "border": null,
            "bottom": null,
            "display": null,
            "flex": null,
            "flex_flow": null,
            "grid_area": null,
            "grid_auto_columns": null,
            "grid_auto_flow": null,
            "grid_auto_rows": null,
            "grid_column": null,
            "grid_gap": null,
            "grid_row": null,
            "grid_template_areas": null,
            "grid_template_columns": null,
            "grid_template_rows": null,
            "height": null,
            "justify_content": null,
            "justify_items": null,
            "left": null,
            "margin": null,
            "max_height": null,
            "max_width": null,
            "min_height": null,
            "min_width": null,
            "object_fit": null,
            "object_position": null,
            "order": null,
            "overflow": null,
            "overflow_x": null,
            "overflow_y": null,
            "padding": null,
            "right": null,
            "top": null,
            "visibility": null,
            "width": null
          }
        },
        "a909436f627e47089b2eeefd783d5f96": {
          "model_module": "@jupyter-widgets/controls",
          "model_name": "DescriptionStyleModel",
          "model_module_version": "1.5.0",
          "state": {
            "_model_module": "@jupyter-widgets/controls",
            "_model_module_version": "1.5.0",
            "_model_name": "DescriptionStyleModel",
            "_view_count": null,
            "_view_module": "@jupyter-widgets/base",
            "_view_module_version": "1.2.0",
            "_view_name": "StyleView",
            "description_width": ""
          }
        }
      }
    }
  },
  "cells": [
    {
      "cell_type": "markdown",
      "metadata": {
        "id": "view-in-github",
        "colab_type": "text"
      },
      "source": [
        "<a href=\"https://colab.research.google.com/github/lygitdata/GarmentIQ/blob/main/python_api_demo/classification.ipynb\" target=\"_parent\"><img src=\"https://colab.research.google.com/assets/colab-badge.svg\" alt=\"Open In Colab\"/></a>"
      ]
    },
    {
      "cell_type": "markdown",
      "source": [
        "# Import `garmentiq`, install dependencies, and download data"
      ],
      "metadata": {
        "id": "5fo6MpKJQHCd"
      }
    },
    {
      "cell_type": "code",
      "execution_count": 1,
      "metadata": {
        "colab": {
          "base_uri": "https://localhost:8080/"
        },
        "id": "Q_WovdxwQBYD",
        "outputId": "37702ded-b6b9-4a02-a671-6403576e976f"
      },
      "outputs": [
        {
          "output_type": "stream",
          "name": "stdout",
          "text": [
            "Cloning into 'GarmentIQ'...\n",
            "remote: Enumerating objects: 1216, done.\u001b[K\n",
            "remote: Counting objects: 100% (96/96), done.\u001b[K\n",
            "remote: Compressing objects: 100% (79/79), done.\u001b[K\n",
            "remote: Total 1216 (delta 52), reused 9 (delta 9), pack-reused 1120 (from 3)\u001b[K\n",
            "Receiving objects: 100% (1216/1216), 255.23 MiB | 15.87 MiB/s, done.\n",
            "Resolving deltas: 100% (594/594), done.\n",
            "\u001b[2K     \u001b[90m━━━━━━━━━━━━━━━━━━━━━━━━━━━━━━━━━━━━━━━━\u001b[0m \u001b[32m89.9/89.9 kB\u001b[0m \u001b[31m5.2 MB/s\u001b[0m eta \u001b[36m0:00:00\u001b[0m\n",
            "\u001b[2K   \u001b[90m━━━━━━━━━━━━━━━━━━━━━━━━━━━━━━━━━━━━━━━━\u001b[0m \u001b[32m13.1/13.1 MB\u001b[0m \u001b[31m47.6 MB/s\u001b[0m eta \u001b[36m0:00:00\u001b[0m\n",
            "\u001b[2K   \u001b[90m━━━━━━━━━━━━━━━━━━━━━━━━━━━━━━━━━━━━━━━━\u001b[0m \u001b[32m10.2/10.2 MB\u001b[0m \u001b[31m102.4 MB/s\u001b[0m eta \u001b[36m0:00:00\u001b[0m\n",
            "\u001b[2K   \u001b[90m━━━━━━━━━━━━━━━━━━━━━━━━━━━━━━━━━━━━━━━━\u001b[0m \u001b[32m1.1/1.1 MB\u001b[0m \u001b[31m60.6 MB/s\u001b[0m eta \u001b[36m0:00:00\u001b[0m\n",
            "\u001b[2K   \u001b[90m━━━━━━━━━━━━━━━━━━━━━━━━━━━━━━━━━━━━━━━━\u001b[0m \u001b[32m363.4/363.4 MB\u001b[0m \u001b[31m4.1 MB/s\u001b[0m eta \u001b[36m0:00:00\u001b[0m\n",
            "\u001b[2K   \u001b[90m━━━━━━━━━━━━━━━━━━━━━━━━━━━━━━━━━━━━━━━━\u001b[0m \u001b[32m13.8/13.8 MB\u001b[0m \u001b[31m110.9 MB/s\u001b[0m eta \u001b[36m0:00:00\u001b[0m\n",
            "\u001b[2K   \u001b[90m━━━━━━━━━━━━━━━━━━━━━━━━━━━━━━━━━━━━━━━━\u001b[0m \u001b[32m24.6/24.6 MB\u001b[0m \u001b[31m76.9 MB/s\u001b[0m eta \u001b[36m0:00:00\u001b[0m\n",
            "\u001b[2K   \u001b[90m━━━━━━━━━━━━━━━━━━━━━━━━━━━━━━━━━━━━━━━━\u001b[0m \u001b[32m883.7/883.7 kB\u001b[0m \u001b[31m48.5 MB/s\u001b[0m eta \u001b[36m0:00:00\u001b[0m\n",
            "\u001b[2K   \u001b[90m━━━━━━━━━━━━━━━━━━━━━━━━━━━━━━━━━━━━━━━━\u001b[0m \u001b[32m664.8/664.8 MB\u001b[0m \u001b[31m3.1 MB/s\u001b[0m eta \u001b[36m0:00:00\u001b[0m\n",
            "\u001b[2K   \u001b[90m━━━━━━━━━━━━━━━━━━━━━━━━━━━━━━━━━━━━━━━━\u001b[0m \u001b[32m211.5/211.5 MB\u001b[0m \u001b[31m5.5 MB/s\u001b[0m eta \u001b[36m0:00:00\u001b[0m\n",
            "\u001b[2K   \u001b[90m━━━━━━━━━━━━━━━━━━━━━━━━━━━━━━━━━━━━━━━━\u001b[0m \u001b[32m56.3/56.3 MB\u001b[0m \u001b[31m14.4 MB/s\u001b[0m eta \u001b[36m0:00:00\u001b[0m\n",
            "\u001b[2K   \u001b[90m━━━━━━━━━━━━━━━━━━━━━━━━━━━━━━━━━━━━━━━━\u001b[0m \u001b[32m127.9/127.9 MB\u001b[0m \u001b[31m7.3 MB/s\u001b[0m eta \u001b[36m0:00:00\u001b[0m\n",
            "\u001b[2K   \u001b[90m━━━━━━━━━━━━━━━━━━━━━━━━━━━━━━━━━━━━━━━━\u001b[0m \u001b[32m207.5/207.5 MB\u001b[0m \u001b[31m5.8 MB/s\u001b[0m eta \u001b[36m0:00:00\u001b[0m\n",
            "\u001b[2K   \u001b[90m━━━━━━━━━━━━━━━━━━━━━━━━━━━━━━━━━━━━━━━━\u001b[0m \u001b[32m21.1/21.1 MB\u001b[0m \u001b[31m85.4 MB/s\u001b[0m eta \u001b[36m0:00:00\u001b[0m\n",
            "\u001b[2K   \u001b[90m━━━━━━━━━━━━━━━━━━━━━━━━━━━━━━━━━━━━━━━━\u001b[0m \u001b[32m2.1/2.1 MB\u001b[0m \u001b[31m81.7 MB/s\u001b[0m eta \u001b[36m0:00:00\u001b[0m\n",
            "\u001b[?25h\u001b[31mERROR: pip's dependency resolver does not currently take into account all the packages that are installed. This behaviour is the source of the following dependency conflicts.\n",
            "google-colab 1.0.0 requires pandas==2.2.2, but you have pandas 2.2.3 which is incompatible.\u001b[0m\u001b[31m\n",
            "\u001b[0m"
          ]
        }
      ],
      "source": [
        "import sys\n",
        "\n",
        "!git clone https://github.com/lygitdata/GarmentIQ.git\n",
        "!pip install -r /content/GarmentIQ/src/requirements.txt -q\n",
        "\n",
        "sys.path.insert(0, './GarmentIQ/src')"
      ]
    },
    {
      "cell_type": "code",
      "source": [
        "import garmentiq as giq\n",
        "from garmentiq.classification.model_definition import CNN3, CNN4, tinyViT\n",
        "from garmentiq.classification.utils import CachedDataset\n",
        "import torch.optim as optim\n",
        "import torch.nn as nn"
      ],
      "metadata": {
        "id": "iV7pn3hvQKaN"
      },
      "execution_count": 2,
      "outputs": []
    },
    {
      "cell_type": "code",
      "source": [
        "# Download data\n",
        "!curl -L -o /content/garmentiq-classification-set-nordstrom-and-myntra.zip\\\n",
        "  https://www.kaggle.com/api/v1/datasets/download/lygitdata/garmentiq-classification-set-nordstrom-and-myntra"
      ],
      "metadata": {
        "colab": {
          "base_uri": "https://localhost:8080/"
        },
        "id": "UAdS02QnQPUd",
        "outputId": "5c602f0f-28a3-426e-93f5-8d13afdd4fa1"
      },
      "execution_count": 3,
      "outputs": [
        {
          "output_type": "stream",
          "name": "stdout",
          "text": [
            "  % Total    % Received % Xferd  Average Speed   Time    Time     Time  Current\n",
            "                                 Dload  Upload   Total   Spent    Left  Speed\n",
            "  0     0    0     0    0     0      0      0 --:--:-- --:--:-- --:--:--     0\n",
            "100 1391M  100 1391M    0     0  18.8M      0  0:01:13  0:01:13 --:--:-- 22.6M\n"
          ]
        }
      ]
    },
    {
      "cell_type": "markdown",
      "source": [
        "# Function `train_test_split`\n",
        "\n",
        "Source code: https://github.com/lygitdata/GarmentIQ/blob/main/src/garmentiq/classification/train_test_split.py"
      ],
      "metadata": {
        "id": "5pXPUL5ZQ70k"
      }
    },
    {
      "cell_type": "code",
      "source": [
        "DATA = giq.classification.train_test_split(\n",
        "    output_dir=\"/content/data\",\n",
        "    train_zip_dir=\"/content/garmentiq-classification-set-nordstrom-and-myntra.zip\",\n",
        "    test_size=0.15\n",
        ")"
      ],
      "metadata": {
        "colab": {
          "base_uri": "https://localhost:8080/"
        },
        "id": "EDJIuJZ3RKIx",
        "outputId": "fd4227eb-97e8-4f68-ae88-90b8d1d9ea73"
      },
      "execution_count": 4,
      "outputs": [
        {
          "output_type": "stream",
          "name": "stderr",
          "text": [
            "Extracting: 100%|██████████| 23267/23267 [00:17<00:00, 1355.49it/s]\n"
          ]
        },
        {
          "output_type": "stream",
          "name": "stdout",
          "text": [
            "\n",
            "\n",
            "Splitting train data into train/test sets...\n",
            "\n",
            "All filenames in /content/data/train/images match the metadata.\n",
            "\n",
            "\n",
            "All filenames in /content/data/test/images match the metadata.\n",
            "\n"
          ]
        }
      ]
    },
    {
      "cell_type": "markdown",
      "source": [
        "# Apply pretrained models"
      ],
      "metadata": {
        "id": "kV6fLrPgVRw6"
      }
    },
    {
      "cell_type": "code",
      "source": [
        "# Download CNN-3, CNN-4, and Tiny ViT pretrained models\n",
        "!mkdir -p /content/pretrained_models\n",
        "\n",
        "!wget -q -O /content/pretrained_models/cnn_3.pt https://raw.githubusercontent.com/lygitdata/GarmentIQ/refs/heads/gh-pages/application/demo/image-classification/models/cnn_3.pt\n",
        "!wget -q -O /content/pretrained_models/cnn_4.pt https://raw.githubusercontent.com/lygitdata/GarmentIQ/refs/heads/gh-pages/application/demo/image-classification/models/cnn_4.pt\n",
        "!wget -q -O /content/pretrained_models/tiny_vit.pt https://raw.githubusercontent.com/lygitdata/GarmentIQ/refs/heads/gh-pages/application/demo/image-classification/models/tiny_vit.pt"
      ],
      "metadata": {
        "id": "F0hLfeuuVWJE"
      },
      "execution_count": 9,
      "outputs": []
    },
    {
      "cell_type": "markdown",
      "source": [
        "## Function `load_data`\n",
        "\n",
        "Source code: https://github.com/lygitdata/GarmentIQ/blob/main/src/garmentiq/classification/load_data.py"
      ],
      "metadata": {
        "id": "_UVcYi5QV8xx"
      }
    },
    {
      "cell_type": "code",
      "source": [
        "test_images, test_labels, _ = giq.classification.load_data(\n",
        "    df=DATA[\"test_metadata\"],\n",
        "    img_dir=DATA[\"test_images\"],\n",
        "    label_column=\"garment\",\n",
        "    resize_dim=(120, 184),\n",
        "    normalize_mean=[0.8047, 0.7808, 0.7769],\n",
        "    normalize_std=[0.2957, 0.3077, 0.3081]\n",
        ")"
      ],
      "metadata": {
        "colab": {
          "base_uri": "https://localhost:8080/",
          "height": 49,
          "referenced_widgets": [
            "d34a3bbe012e443aa8218b85c3176183",
            "62fccdd9193042a2834c06846c2a9bca",
            "50b188994acd4260a3d162cc6b60ad12",
            "9054c69a771741fa9f50931d2d7b6539",
            "454d90919b7c46bd87bee0dfff038556",
            "2355d98495574eb097ba1c5eaab6e295",
            "5550d17963474427a2160ad009df8824",
            "67aa17ce8386445ca24ece9754ad9d3e",
            "5994d56c72ab4168947c8586ca9fc82c",
            "0372cc396f384d32a48cfa929ebbda19",
            "0ba7481417c54ef2b1eeee2d8fa04c79"
          ]
        },
        "id": "TXvBnLEKV79h",
        "outputId": "4240eece-9f8f-43ef-fcd7-b8778e569ded"
      },
      "execution_count": 6,
      "outputs": [
        {
          "output_type": "display_data",
          "data": {
            "text/plain": [
              "Loading data into memory:   0%|          | 0/3489 [00:00<?, ?it/s]"
            ],
            "application/vnd.jupyter.widget-view+json": {
              "version_major": 2,
              "version_minor": 0,
              "model_id": "d34a3bbe012e443aa8218b85c3176183"
            }
          },
          "metadata": {}
        }
      ]
    },
    {
      "cell_type": "markdown",
      "source": [
        "## Start testing models using the test set"
      ],
      "metadata": {
        "id": "Nsfb80yRWIAD"
      }
    },
    {
      "cell_type": "markdown",
      "source": [
        "Function `test_pytorch_nn` source code: https://github.com/lygitdata/GarmentIQ/blob/main/src/garmentiq/classification/test_pytorch_nn.py"
      ],
      "metadata": {
        "id": "aMaFxQW_Xl9v"
      }
    },
    {
      "cell_type": "markdown",
      "source": [
        "### Test `CNN-3` on the test set"
      ],
      "metadata": {
        "id": "mJbiXIMdWLqU"
      }
    },
    {
      "cell_type": "code",
      "source": [
        "giq.classification.test_pytorch_nn(\n",
        "    model_path=\"/content/pretrained_models/cnn_3.pt\",\n",
        "    model_class=CNN3,\n",
        "    model_args={\"num_classes\": 9},\n",
        "    dataset_class=CachedDataset,\n",
        "    dataset_args={\n",
        "        \"raw_labels\": DATA[\"test_metadata\"][\"garment\"],\n",
        "        \"cached_images\": test_images,\n",
        "        \"cached_labels\": test_labels,\n",
        "    },\n",
        "    param={\"batch_size\": 64},\n",
        ")"
      ],
      "metadata": {
        "colab": {
          "base_uri": "https://localhost:8080/",
          "height": 413,
          "referenced_widgets": [
            "bfcf5d53190948439df7e5718d09d10e",
            "ec617e1cc80a43c9a5a4cb4f6f2bf6a5",
            "62767567196d451da069ca5645ae8b31",
            "5c362e4f1d024c0caf9eedf94bd75477",
            "73224558265b43d59b9fbf1ba7e89a4c",
            "a6db5551bb3e49e4a9482a2fab6906a8",
            "4f27071e1bf44894920a44d25d0196fb",
            "920549303a2949648c6f454f1bdfa245",
            "8dbc058453b44fe6bbff832360fcc845",
            "1ee8feb226284656a52d4c1ab2d9b93a",
            "b5f99356ae764addb14c1738f432a270"
          ]
        },
        "id": "8FWMOpXmWOp0",
        "outputId": "0c75fd6a-d90c-4a65-b28f-0d95ba0849cb"
      },
      "execution_count": 11,
      "outputs": [
        {
          "output_type": "display_data",
          "data": {
            "text/plain": [
              "Evaluating:   0%|          | 0/55 [00:00<?, ?it/s]"
            ],
            "application/vnd.jupyter.widget-view+json": {
              "version_major": 2,
              "version_minor": 0,
              "model_id": "bfcf5d53190948439df7e5718d09d10e"
            }
          },
          "metadata": {}
        },
        {
          "output_type": "stream",
          "name": "stdout",
          "text": [
            "Test Loss: 0.1678\n",
            "Test Accuracy: 0.9458\n",
            "Test F1 Score: 0.9459\n",
            "\n",
            "Classification Report:\n",
            "                    precision    recall  f1-score   support\n",
            "\n",
            " long sleeve dress       0.93      0.89      0.91       384\n",
            "   long sleeve top       0.99      0.97      0.98       442\n",
            "short sleeve dress       0.85      0.93      0.89       382\n",
            "  short sleeve top       0.97      0.98      0.98       523\n",
            "            shorts       0.97      0.98      0.98       485\n",
            "             skirt       0.92      0.91      0.92       281\n",
            "          trousers       0.98      0.98      0.98       320\n",
            "              vest       0.94      0.93      0.93       230\n",
            "        vest dress       0.94      0.90      0.92       442\n",
            "\n",
            "          accuracy                           0.95      3489\n",
            "         macro avg       0.94      0.94      0.94      3489\n",
            "      weighted avg       0.95      0.95      0.95      3489\n",
            "\n"
          ]
        }
      ]
    },
    {
      "cell_type": "markdown",
      "source": [
        "### Test `CNN-4` on the test set"
      ],
      "metadata": {
        "id": "dO17E4ETWdtl"
      }
    },
    {
      "cell_type": "code",
      "source": [
        "giq.classification.test_pytorch_nn(\n",
        "    model_path=\"/content/pretrained_models/cnn_4.pt\",\n",
        "    model_class=CNN4,\n",
        "    model_args={\"num_classes\": 9},\n",
        "    dataset_class=CachedDataset,\n",
        "    dataset_args={\n",
        "        \"raw_labels\": DATA[\"test_metadata\"][\"garment\"],\n",
        "        \"cached_images\": test_images,\n",
        "        \"cached_labels\": test_labels,\n",
        "    },\n",
        "    param={\"batch_size\": 64},\n",
        ")"
      ],
      "metadata": {
        "colab": {
          "base_uri": "https://localhost:8080/",
          "height": 413,
          "referenced_widgets": [
            "b4c7b87cc6a14a63ba2ed4bbb98257c8",
            "0abdac8cfb7b4885bfe8f23114aa82c4",
            "80a4c9673d0f4e4bba4a35c9c7c9d99b",
            "da4addbec3704003a562860d81cd3413",
            "ac6f9e3415524c3d8d5931642018128a",
            "8d98eb9852b6433d81ac276344c9ff14",
            "f65a2670b076417c9e0ec80e04b603f4",
            "9a3afc61f6a24ec1b0c6d2ac152ea8f2",
            "2a0719d2d8ff4063aa81eb3d67439571",
            "7e813df454534971b0f785004a820b5b",
            "f1be9e3f5f5e45bea4d383756fb8138b"
          ]
        },
        "id": "04YkyJOoWg-N",
        "outputId": "e2f8cd0a-0cfd-4913-9458-3db0058e79a2"
      },
      "execution_count": 12,
      "outputs": [
        {
          "output_type": "display_data",
          "data": {
            "text/plain": [
              "Evaluating:   0%|          | 0/55 [00:00<?, ?it/s]"
            ],
            "application/vnd.jupyter.widget-view+json": {
              "version_major": 2,
              "version_minor": 0,
              "model_id": "b4c7b87cc6a14a63ba2ed4bbb98257c8"
            }
          },
          "metadata": {}
        },
        {
          "output_type": "stream",
          "name": "stdout",
          "text": [
            "Test Loss: 0.1611\n",
            "Test Accuracy: 0.9533\n",
            "Test F1 Score: 0.9533\n",
            "\n",
            "Classification Report:\n",
            "                    precision    recall  f1-score   support\n",
            "\n",
            " long sleeve dress       0.94      0.88      0.91       384\n",
            "   long sleeve top       0.99      0.98      0.99       442\n",
            "short sleeve dress       0.87      0.95      0.91       382\n",
            "  short sleeve top       0.98      0.99      0.99       523\n",
            "            shorts       0.98      0.99      0.98       485\n",
            "             skirt       0.93      0.91      0.92       281\n",
            "          trousers       0.97      0.99      0.98       320\n",
            "              vest       0.97      0.94      0.96       230\n",
            "        vest dress       0.94      0.92      0.93       442\n",
            "\n",
            "          accuracy                           0.95      3489\n",
            "         macro avg       0.95      0.95      0.95      3489\n",
            "      weighted avg       0.95      0.95      0.95      3489\n",
            "\n"
          ]
        }
      ]
    },
    {
      "cell_type": "markdown",
      "source": [
        "### Test `Tiny ViT` on the test set"
      ],
      "metadata": {
        "id": "m3_mdhSKWmCe"
      }
    },
    {
      "cell_type": "code",
      "source": [
        "giq.classification.test_pytorch_nn(\n",
        "    model_path=\"/content/pretrained_models/tiny_vit.pt\",\n",
        "    model_class=tinyViT,\n",
        "    model_args={\"num_classes\": 9, \"img_size\": (120, 184), \"patch_size\": 6},\n",
        "    dataset_class=CachedDataset,\n",
        "    dataset_args={\n",
        "        \"raw_labels\": DATA[\"test_metadata\"][\"garment\"],\n",
        "        \"cached_images\": test_images,\n",
        "        \"cached_labels\": test_labels,\n",
        "    },\n",
        "    param={\"batch_size\": 64},\n",
        ")"
      ],
      "metadata": {
        "colab": {
          "base_uri": "https://localhost:8080/",
          "height": 445,
          "referenced_widgets": [
            "4d3ec36438b64102872b75b6509301b0",
            "fe191585980d43139c881a3b57cf6a15",
            "8d28f98033d34ddbbd1ec82dfd237d62",
            "07a5007dbbef4d3eb45b64d3a98b07eb",
            "1f6bc31b0eda4477b2b848eeed0defb0",
            "5b04ea833a8d4c63bae885d881a6b22d",
            "9371ea6c09c647a5a4306b55a5682dd5",
            "c02345cb170b4a828e6c3bac4b0931bd",
            "0aa263d6bc9f4970bd22dabdf7aaf77a",
            "f686211736f84a86a37d3fdf8fe05638",
            "ca8bdcc3a7304c04b291a8417821a3a9",
            "b9c628aa0c31437da442664a9f670c9c",
            "c488029728484492b04fa04714c45550",
            "4fa20e59368f454bb90f3c266292eff4",
            "da811f689a954b84a13b452fd57e50db",
            "d5f41831410a4005ae09240e8650a8d7",
            "990592d4d60c4cc0b88f4f6e99cb4fc2",
            "aa7bcc30ed5c442fa17ded3c90cbdd89",
            "325459ff4c5448faaa3915b884c1c117",
            "cccf7a38528c4e75a1b67fba11ec87e0",
            "b73c6afbad5c4fb9a8c3af2accbe1284",
            "a909436f627e47089b2eeefd783d5f96"
          ]
        },
        "id": "G0urvDDxWs93",
        "outputId": "27b6d0f9-1c79-4e0a-e2cf-d22cff41ac6b"
      },
      "execution_count": 13,
      "outputs": [
        {
          "output_type": "display_data",
          "data": {
            "text/plain": [
              "model.safetensors:   0%|          | 0.00/22.9M [00:00<?, ?B/s]"
            ],
            "application/vnd.jupyter.widget-view+json": {
              "version_major": 2,
              "version_minor": 0,
              "model_id": "4d3ec36438b64102872b75b6509301b0"
            }
          },
          "metadata": {}
        },
        {
          "output_type": "display_data",
          "data": {
            "text/plain": [
              "Evaluating:   0%|          | 0/55 [00:00<?, ?it/s]"
            ],
            "application/vnd.jupyter.widget-view+json": {
              "version_major": 2,
              "version_minor": 0,
              "model_id": "b9c628aa0c31437da442664a9f670c9c"
            }
          },
          "metadata": {}
        },
        {
          "output_type": "stream",
          "name": "stdout",
          "text": [
            "Test Loss: 0.1347\n",
            "Test Accuracy: 0.9576\n",
            "Test F1 Score: 0.9576\n",
            "\n",
            "Classification Report:\n",
            "                    precision    recall  f1-score   support\n",
            "\n",
            " long sleeve dress       0.94      0.92      0.93       384\n",
            "   long sleeve top       0.98      1.00      0.99       442\n",
            "short sleeve dress       0.89      0.91      0.90       382\n",
            "  short sleeve top       0.99      0.99      0.99       523\n",
            "            shorts       0.99      0.99      0.99       485\n",
            "             skirt       0.95      0.93      0.94       281\n",
            "          trousers       0.99      0.98      0.99       320\n",
            "              vest       0.92      0.95      0.94       230\n",
            "        vest dress       0.94      0.92      0.93       442\n",
            "\n",
            "          accuracy                           0.96      3489\n",
            "         macro avg       0.95      0.95      0.95      3489\n",
            "      weighted avg       0.96      0.96      0.96      3489\n",
            "\n"
          ]
        }
      ]
    },
    {
      "cell_type": "markdown",
      "source": [
        "# Training"
      ],
      "metadata": {
        "id": "8o0oZkP0RlyI"
      }
    },
    {
      "cell_type": "markdown",
      "source": [
        "## Use pre-defined model structure `CNN3`\n",
        "\n",
        "To see all pre-defined model structures: https://github.com/lygitdata/GarmentIQ/blob/main/src/garmentiq/classification/model_definition.py"
      ],
      "metadata": {
        "id": "tJ_oe4i_R8pq"
      }
    },
    {
      "cell_type": "code",
      "source": [
        "CNN3"
      ],
      "metadata": {
        "colab": {
          "base_uri": "https://localhost:8080/",
          "height": 186
        },
        "id": "pS64jrXMSPr1",
        "outputId": "d61349ad-2a4f-47bd-a310-bedcbf929c3c"
      },
      "execution_count": null,
      "outputs": [
        {
          "output_type": "execute_result",
          "data": {
            "text/plain": [
              "garmentiq.classification.model_definition.CNN3"
            ],
            "text/html": [
              "<div style=\"max-width:800px; border: 1px solid var(--colab-border-color);\"><style>\n",
              "      pre.function-repr-contents {\n",
              "        overflow-x: auto;\n",
              "        padding: 8px 12px;\n",
              "        max-height: 500px;\n",
              "      }\n",
              "\n",
              "      pre.function-repr-contents.function-repr-contents-collapsed {\n",
              "        cursor: pointer;\n",
              "        max-height: 100px;\n",
              "      }\n",
              "    </style>\n",
              "    <pre style=\"white-space: initial; background:\n",
              "         var(--colab-secondary-surface-color); padding: 8px 12px;\n",
              "         border-bottom: 1px solid var(--colab-border-color);\"><b>garmentiq.classification.model_definition.CNN3</b><br/>def _wrapped_call_impl(*args, **kwargs)</pre><pre class=\"function-repr-contents function-repr-contents-collapsed\" style=\"\"><a class=\"filepath\" style=\"display:none\" href=\"#\">/content/GarmentIQ/src/garmentiq/classification/model_definition.py</a>Base class for all neural network modules.\n",
              "\n",
              "Your models should also subclass this class.\n",
              "\n",
              "Modules can also contain other Modules, allowing them to be nested in\n",
              "a tree structure. You can assign the submodules as regular attributes::\n",
              "\n",
              "    import torch.nn as nn\n",
              "    import torch.nn.functional as F\n",
              "\n",
              "    class Model(nn.Module):\n",
              "        def __init__(self) -&gt; None:\n",
              "            super().__init__()\n",
              "            self.conv1 = nn.Conv2d(1, 20, 5)\n",
              "            self.conv2 = nn.Conv2d(20, 20, 5)\n",
              "\n",
              "        def forward(self, x):\n",
              "            x = F.relu(self.conv1(x))\n",
              "            return F.relu(self.conv2(x))\n",
              "\n",
              "Submodules assigned in this way will be registered, and will also have their\n",
              "parameters converted when you call :meth:`to`, etc.\n",
              "\n",
              ".. note::\n",
              "    As per the example above, an ``__init__()`` call to the parent class\n",
              "    must be made before assignment on the child.\n",
              "\n",
              ":ivar training: Boolean represents whether this module is in training or\n",
              "                evaluation mode.\n",
              ":vartype training: bool</pre>\n",
              "      <script>\n",
              "      if (google.colab.kernel.accessAllowed && google.colab.files && google.colab.files.view) {\n",
              "        for (const element of document.querySelectorAll('.filepath')) {\n",
              "          element.style.display = 'block'\n",
              "          element.onclick = (event) => {\n",
              "            event.preventDefault();\n",
              "            event.stopPropagation();\n",
              "            google.colab.files.view(element.textContent, 5);\n",
              "          };\n",
              "        }\n",
              "      }\n",
              "      for (const element of document.querySelectorAll('.function-repr-contents')) {\n",
              "        element.onclick = (event) => {\n",
              "          event.preventDefault();\n",
              "          event.stopPropagation();\n",
              "          element.classList.toggle('function-repr-contents-collapsed');\n",
              "        };\n",
              "      }\n",
              "      </script>\n",
              "      </div>"
            ]
          },
          "metadata": {},
          "execution_count": 6
        }
      ]
    },
    {
      "cell_type": "code",
      "source": [
        "train_images, train_labels, _ = giq.classification.load_data(\n",
        "    df=DATA[\"train_metadata\"],\n",
        "    img_dir=DATA[\"train_images\"],\n",
        "    label_column=\"garment\",\n",
        "    resize_dim=(60,  92),\n",
        "    normalize_mean=[0.8047, 0.7808, 0.7769],\n",
        "    normalize_std=[0.2957, 0.3077, 0.3081]\n",
        ")"
      ],
      "metadata": {
        "colab": {
          "base_uri": "https://localhost:8080/",
          "height": 49,
          "referenced_widgets": [
            "e73bc356ae4c43d480c7a4ec7bd1157e",
            "8d436a2c8bdc4178aacbc8785a5ca370",
            "51c124a1355c4c55ad6c512153360811",
            "12b1e62666754d97be40509bed74c0e2",
            "70f58ae2fa9d48cba35f85df1ee4d43f",
            "4b4077b74ae4448da310903eb3446474",
            "42d780a1783542799ac460bf91caba7d",
            "818b234eb21346d48240f3cee8f20e19",
            "2b4036f6b6e94a94a905b35f96edd0b3",
            "f60045868a1a4c798e691d6db90bd9a8",
            "2b9de60b585748aab2ef3860f1ee5fb0"
          ]
        },
        "id": "3lBakn6XRnqw",
        "outputId": "58eca4ea-8b6d-429d-f6a3-41276d3449d4"
      },
      "execution_count": null,
      "outputs": [
        {
          "output_type": "display_data",
          "data": {
            "text/plain": [
              "Loading data into memory:   0%|          | 0/19777 [00:00<?, ?it/s]"
            ],
            "application/vnd.jupyter.widget-view+json": {
              "version_major": 2,
              "version_minor": 0,
              "model_id": "e73bc356ae4c43d480c7a4ec7bd1157e"
            }
          },
          "metadata": {}
        }
      ]
    },
    {
      "cell_type": "markdown",
      "source": [
        "### Function `train_pytorch_nn`\n",
        "\n",
        "Source code: https://github.com/lygitdata/GarmentIQ/blob/main/src/garmentiq/classification/train_pytorch_nn.py"
      ],
      "metadata": {
        "id": "aDTGtty2SXPX"
      }
    },
    {
      "cell_type": "code",
      "source": [
        "giq.classification.train_pytorch_nn(\n",
        "    model_class=CNN3,\n",
        "    model_args={\"num_classes\": 9},\n",
        "    dataset_class=CachedDataset,\n",
        "    dataset_args={\n",
        "        \"metadata_df\": DATA[\"train_metadata\"],\n",
        "        \"raw_labels\": DATA[\"train_metadata\"][\"garment\"],\n",
        "        \"cached_images\": train_images,\n",
        "        \"cached_labels\": train_labels,\n",
        "    },\n",
        "    param={\n",
        "        \"optimizer_class\": optim.AdamW,\n",
        "        \"optimizer_args\": {\"lr\": 0.001, \"weight_decay\": 1e-4},\n",
        "        \"n_fold\": 2,\n",
        "        \"n_epoch\": 5,\n",
        "        \"patience\": 2,\n",
        "        \"batch_size\": 256,\n",
        "        \"model_save_dir\": \"/content/cnn3_models\",\n",
        "        \"best_model_name\": \"best_model.pt\",\n",
        "    },\n",
        ")"
      ],
      "metadata": {
        "id": "ZjVRH0XbSjBv"
      },
      "execution_count": null,
      "outputs": []
    },
    {
      "cell_type": "markdown",
      "source": [
        "## Use a customized model structure `CNN1`"
      ],
      "metadata": {
        "id": "egY0UhX6TCl7"
      }
    },
    {
      "cell_type": "code",
      "source": [
        "class CNN1(nn.Module):\n",
        "    def __init__(self, num_classes):\n",
        "        super(CNN1, self).__init__()\n",
        "        self.features = nn.Sequential(\n",
        "            nn.Conv2d(3, 32, kernel_size=3, padding=1),\n",
        "            nn.BatchNorm2d(32),\n",
        "            nn.ReLU(inplace=True),\n",
        "            nn.MaxPool2d(2, 2),\n",
        "            nn.Dropout(0.2),\n",
        "            nn.Conv2d(32, 64, kernel_size=3, padding=1),\n",
        "            nn.BatchNorm2d(64),\n",
        "            nn.ReLU(inplace=True),\n",
        "            nn.MaxPool2d(2, 2),\n",
        "            nn.Dropout(0.25),\n",
        "            nn.AdaptiveAvgPool2d((4, 4)),\n",
        "        )\n",
        "        self.classifier = nn.Sequential(\n",
        "            nn.Linear(64 * 4 * 4, 128),\n",
        "            nn.ReLU(inplace=True),\n",
        "            nn.Dropout(0.3),\n",
        "            nn.Linear(128, num_classes),\n",
        "        )\n",
        "    def forward(self, x):\n",
        "        x = self.features(x)\n",
        "        x = x.view(x.size(0), -1)\n",
        "        x = self.classifier(x)\n",
        "        return x"
      ],
      "metadata": {
        "id": "pUpyroD2TJhU"
      },
      "execution_count": null,
      "outputs": []
    },
    {
      "cell_type": "code",
      "source": [
        "giq.classification.train_pytorch_nn(\n",
        "    model_class=CNN1,\n",
        "    model_args={\"num_classes\": 9},\n",
        "    dataset_class=CachedDataset,\n",
        "    dataset_args={\n",
        "        \"metadata_df\": DATA[\"train_metadata\"],\n",
        "        \"raw_labels\": DATA[\"train_metadata\"][\"garment\"],\n",
        "        \"cached_images\": train_images,\n",
        "        \"cached_labels\": train_labels,\n",
        "    },\n",
        "    param={\n",
        "        \"optimizer_class\": optim.AdamW,\n",
        "        \"optimizer_args\": {\"lr\": 0.001, \"weight_decay\": 1e-4},\n",
        "        \"n_fold\": 2,\n",
        "        \"n_epoch\": 5,\n",
        "        \"patience\": 2,\n",
        "        \"batch_size\": 256,\n",
        "        \"model_save_dir\": \"/content/customized_models\",\n",
        "        \"best_model_name\": \"best_model.pt\",\n",
        "    },\n",
        ")"
      ],
      "metadata": {
        "id": "B-6ipBGUTyEU"
      },
      "execution_count": null,
      "outputs": []
    },
    {
      "cell_type": "markdown",
      "source": [
        "# Testing"
      ],
      "metadata": {
        "id": "JW4kg9nwUZw2"
      }
    },
    {
      "cell_type": "code",
      "source": [
        "test_images, test_labels, _ = giq.classification.load_data(\n",
        "    df=DATA[\"test_metadata\"],\n",
        "    img_dir=DATA[\"test_images\"],\n",
        "    label_column=\"garment\",\n",
        "    resize_dim=(60, 92),\n",
        "    normalize_mean=[0.8047, 0.7808, 0.7769],\n",
        "    normalize_std=[0.2957, 0.3077, 0.3081]\n",
        ")"
      ],
      "metadata": {
        "colab": {
          "base_uri": "https://localhost:8080/",
          "height": 49,
          "referenced_widgets": [
            "09d1c8d701a4401f8f7e9661500c3471",
            "2bf38454879340999a04e012e802ab4b",
            "a8c95e658f04403fba4c8871dc20d4b4",
            "1857bfa75871464599edb0a21dc16e5a",
            "02a60ae4b4d242b5901ea9adc3a3cc75",
            "307cfac51e4f4941882875695b683484",
            "51138f68eed542fab3d8d870029875eb",
            "fee99490576d4903b4c5871d3aabe193",
            "def290f9a3d2490cb33dba7e17cc993d",
            "4b4e0496b20546c39413c85240ab5381",
            "90e9725424d249e0b589afd7e1e57b33"
          ]
        },
        "id": "khNX-H2oULW2",
        "outputId": "efb8bd0c-4a9a-4d92-80c6-92787a0cc2d4"
      },
      "execution_count": null,
      "outputs": [
        {
          "output_type": "display_data",
          "data": {
            "text/plain": [
              "Loading data into memory:   0%|          | 0/3489 [00:00<?, ?it/s]"
            ],
            "application/vnd.jupyter.widget-view+json": {
              "version_major": 2,
              "version_minor": 0,
              "model_id": "09d1c8d701a4401f8f7e9661500c3471"
            }
          },
          "metadata": {}
        }
      ]
    },
    {
      "cell_type": "markdown",
      "source": [
        "## Test pre-defined model structure `CNN3`"
      ],
      "metadata": {
        "id": "D1kGBr8XUomf"
      }
    },
    {
      "cell_type": "markdown",
      "source": [
        "### Function `test_pytorch_nn`\n",
        "\n",
        "Source code: https://github.com/lygitdata/GarmentIQ/blob/main/src/garmentiq/classification/test_pytorch_nn.py"
      ],
      "metadata": {
        "id": "81KMswxaU9bi"
      }
    },
    {
      "cell_type": "code",
      "source": [
        "giq.classification.test_pytorch_nn(\n",
        "    model_path=\"/content/cnn3_models/best_model.pt\",\n",
        "    model_class=CNN3,\n",
        "    model_args={\"num_classes\": 9},\n",
        "    dataset_class=CachedDataset,\n",
        "    dataset_args={\n",
        "        \"raw_labels\": DATA[\"test_metadata\"][\"garment\"],\n",
        "        \"cached_images\": test_images,\n",
        "        \"cached_labels\": test_labels,\n",
        "    },\n",
        "    param={\"batch_size\": 64},\n",
        ")"
      ],
      "metadata": {
        "colab": {
          "base_uri": "https://localhost:8080/",
          "height": 413,
          "referenced_widgets": [
            "64e2edb8ca9d4d19a04bd46173d905ab",
            "63cb4f3b62d54f5194161b495905b282",
            "e98605687f534a33ae21f78a2df2a140",
            "7cae92a5cab14fbaba978912dcea3346",
            "1c91d1ef48874fb0bdcf986bc99c05f4",
            "140b3aaf5f234fea921c3475673508d9",
            "f742518689e14dcd9afe00e469ec6fde",
            "31b7a14ba1cc401686d896097a8a81b3",
            "262794ec92584be09cc2029680a212e3",
            "784612d88d854b00904d78375902cd9c",
            "b1441d5bb3c84d02a3b1fde0a7859f23"
          ]
        },
        "id": "3IKlw36QUxlA",
        "outputId": "a722eb53-b22c-47f2-ff04-1479ef4c8f89"
      },
      "execution_count": null,
      "outputs": [
        {
          "output_type": "display_data",
          "data": {
            "text/plain": [
              "Evaluating:   0%|          | 0/55 [00:00<?, ?it/s]"
            ],
            "application/vnd.jupyter.widget-view+json": {
              "version_major": 2,
              "version_minor": 0,
              "model_id": "64e2edb8ca9d4d19a04bd46173d905ab"
            }
          },
          "metadata": {}
        },
        {
          "output_type": "stream",
          "name": "stdout",
          "text": [
            "Test Loss: 0.2930\n",
            "Test Accuracy: 0.8968\n",
            "Test F1 Score: 0.8968\n",
            "\n",
            "Classification Report:\n",
            "                    precision    recall  f1-score   support\n",
            "\n",
            " long sleeve dress       0.87      0.81      0.84       384\n",
            "   long sleeve top       0.98      0.87      0.92       442\n",
            "short sleeve dress       0.78      0.87      0.82       382\n",
            "  short sleeve top       0.87      0.98      0.92       523\n",
            "            shorts       0.96      0.94      0.95       485\n",
            "             skirt       0.87      0.84      0.86       281\n",
            "          trousers       0.95      0.97      0.96       320\n",
            "              vest       0.93      0.83      0.88       230\n",
            "        vest dress       0.89      0.88      0.88       442\n",
            "\n",
            "          accuracy                           0.90      3489\n",
            "         macro avg       0.90      0.89      0.89      3489\n",
            "      weighted avg       0.90      0.90      0.90      3489\n",
            "\n"
          ]
        }
      ]
    },
    {
      "cell_type": "markdown",
      "source": [
        "### Function `predict`\n",
        "\n",
        "https://github.com/lygitdata/GarmentIQ/blob/main/src/garmentiq/classification/predict.py"
      ],
      "metadata": {
        "id": "jtLrGTlvVNZo"
      }
    },
    {
      "cell_type": "code",
      "source": [
        "pred_label, pred_prob = giq.classification.predict(\n",
        "    model_path=\"/content/cnn3_models/best_model.pt\",\n",
        "    model_class=CNN3,\n",
        "    model_args={\"num_classes\": 9},\n",
        "    image_path=f\"/content/data/test/images/{DATA['test_metadata']['filename'][1000]}\",\n",
        "    classes=DATA['test_metadata']['garment'].unique().tolist(),\n",
        "    resize_dim=(60, 92),\n",
        "    normalize_mean=[0.8047, 0.7808, 0.7769],\n",
        "    normalize_std=[0.2957, 0.3077, 0.3081]\n",
        ")\n",
        "\n",
        "print(\n",
        "    \"True label: \", DATA['test_metadata']['filename'][1000],\n",
        "    \"\\nPredicted label: \", pred_label,\n",
        "    \"\\nPredicted Probabilities: \", pred_prob\n",
        ")"
      ],
      "metadata": {
        "colab": {
          "base_uri": "https://localhost:8080/"
        },
        "id": "3ZI_fmReVSwc",
        "outputId": "41f53c23-ac22-4b65-d117-3ca6956cdd33"
      },
      "execution_count": null,
      "outputs": [
        {
          "output_type": "stream",
          "name": "stdout",
          "text": [
            "True label:  trousers_347.jpg \n",
            "Predicted label:  trousers \n",
            "Predicted Probabilities:  [4.082682607986499e-06, 7.1354088504449464e-06, 6.2376966525334865e-06, 8.394850738113746e-06, 0.0012580862967297435, 5.4195937991607934e-05, 0.9985495209693909, 0.00010102804662892595, 1.1451444152044132e-05]\n"
          ]
        }
      ]
    },
    {
      "cell_type": "markdown",
      "source": [
        "## Test customized model structure `CNN1`"
      ],
      "metadata": {
        "id": "NPmJxUYeVtlU"
      }
    },
    {
      "cell_type": "code",
      "source": [
        "giq.classification.test_pytorch_nn(\n",
        "    model_path=\"/content/customized_models/best_model.pt\",\n",
        "    model_class=CNN1,\n",
        "    model_args={\"num_classes\": 9},\n",
        "    dataset_class=CachedDataset,\n",
        "    dataset_args={\n",
        "        \"raw_labels\": DATA[\"test_metadata\"][\"garment\"],\n",
        "        \"cached_images\": test_images,\n",
        "        \"cached_labels\": test_labels,\n",
        "    },\n",
        "    param={\"batch_size\": 64},\n",
        ")"
      ],
      "metadata": {
        "colab": {
          "base_uri": "https://localhost:8080/",
          "height": 413,
          "referenced_widgets": [
            "af64088653c14be595f2799639e6fa9b",
            "a6e8779b7f3c44119b15b4e1cfecaa76",
            "feaaade3d2a6413e9b0920c897b00b8c",
            "ce0a61c53cf843108077ce6ff316a2b8",
            "091b9e73a18c447c9e14b4e6453e7309",
            "195f8a57128c4640897738b1c31be443",
            "f0270bcddd9e486c8cb342ccad923716",
            "04319f2d46b041ef868b2e6e946d445c",
            "5a9cc85c3abe4f9699530049235a99bb",
            "94110519d4ac4a88bd851e0accd27c86",
            "f02fb2fb15de432abb58366044fa6a0f"
          ]
        },
        "id": "EcKR96oOV-ub",
        "outputId": "aca33f23-f017-4ba7-fae8-bdf64a500a93"
      },
      "execution_count": null,
      "outputs": [
        {
          "output_type": "display_data",
          "data": {
            "text/plain": [
              "Evaluating:   0%|          | 0/55 [00:00<?, ?it/s]"
            ],
            "application/vnd.jupyter.widget-view+json": {
              "version_major": 2,
              "version_minor": 0,
              "model_id": "af64088653c14be595f2799639e6fa9b"
            }
          },
          "metadata": {}
        },
        {
          "output_type": "stream",
          "name": "stdout",
          "text": [
            "Test Loss: 0.6809\n",
            "Test Accuracy: 0.7423\n",
            "Test F1 Score: 0.7236\n",
            "\n",
            "Classification Report:\n",
            "                    precision    recall  f1-score   support\n",
            "\n",
            " long sleeve dress       0.64      0.52      0.58       384\n",
            "   long sleeve top       0.83      0.92      0.87       442\n",
            "short sleeve dress       0.50      0.13      0.20       382\n",
            "  short sleeve top       0.88      0.88      0.88       523\n",
            "            shorts       0.85      0.89      0.87       485\n",
            "             skirt       0.73      0.69      0.71       281\n",
            "          trousers       0.92      0.87      0.90       320\n",
            "              vest       0.92      0.74      0.82       230\n",
            "        vest dress       0.50      0.90      0.64       442\n",
            "\n",
            "          accuracy                           0.74      3489\n",
            "         macro avg       0.75      0.73      0.72      3489\n",
            "      weighted avg       0.75      0.74      0.72      3489\n",
            "\n"
          ]
        }
      ]
    },
    {
      "cell_type": "code",
      "source": [
        "pred_label, pred_prob = giq.classification.predict(\n",
        "    model_path=\"/content/customized_models/best_model.pt\",\n",
        "    model_class=CNN1,\n",
        "    model_args={\"num_classes\": 9},\n",
        "    image_path=f\"/content/data/test/images/{DATA['test_metadata']['filename'][1000]}\",\n",
        "    classes=DATA['test_metadata']['garment'].unique().tolist(),\n",
        "    resize_dim=(60, 92),\n",
        "    normalize_mean=[0.8047, 0.7808, 0.7769],\n",
        "    normalize_std=[0.2957, 0.3077, 0.3081]\n",
        ")\n",
        "\n",
        "print(\n",
        "    \"True label: \", DATA['test_metadata']['filename'][1000],\n",
        "    \"\\nPredicted label: \", pred_label,\n",
        "    \"\\nPredicted Probabilities: \", pred_prob\n",
        ")"
      ],
      "metadata": {
        "colab": {
          "base_uri": "https://localhost:8080/"
        },
        "id": "dlFC4LScWRql",
        "outputId": "398b18e7-981f-40f8-e527-d3d8a6fbb586"
      },
      "execution_count": null,
      "outputs": [
        {
          "output_type": "stream",
          "name": "stdout",
          "text": [
            "True label:  trousers_347.jpg \n",
            "Predicted label:  trousers \n",
            "Predicted Probabilities:  [2.1105310224811547e-05, 1.2697221791313495e-05, 5.83124619879527e-06, 3.6388353237271076e-06, 0.33395445346832275, 0.0075272442772984505, 0.6571474671363831, 0.0013236853992566466, 4.0134750634024385e-06]\n"
          ]
        }
      ]
    }
  ]
}