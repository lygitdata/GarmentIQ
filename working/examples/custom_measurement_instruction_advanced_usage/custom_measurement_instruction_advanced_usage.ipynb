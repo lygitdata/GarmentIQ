{
 "cells": [
  {
   "cell_type": "markdown",
   "metadata": {
    "id": "uTYHtjS_NzhK"
   },
   "source": [
    "# GarmentIQ Custom Measurement Instruction - Advanced Usage"
   ]
  },
  {
   "cell_type": "code",
   "execution_count": null,
   "metadata": {
    "id": "L7eOzqrGPvLp"
   },
   "outputs": [],
   "source": [
    "import json\n",
    "import copy"
   ]
  },
  {
   "cell_type": "code",
   "execution_count": null,
   "metadata": {
    "id": "col7KU5vOFt6"
   },
   "outputs": [],
   "source": [
    "# See our predefined garments and measurement instructions\n",
    "#\n",
    "# - `num_predefeined_points` and `index_range` are determined by training data -\n",
    "# DeepFashion2, change them if it is indeed necessary.\n",
    "#\n",
    "# - `instruction` is the path to a .json file, GarmentQI has predefined\n",
    "# instructions.\n",
    "#\n",
    "# Generate or see predefined instructions at:\n",
    "# https://garmentiq.ly.gd.edu.kg/application/demo/instruction-generation/\n",
    "from garmentiq.garment_classes import garment_classes\n",
    "print(json.dumps(garment_classes, indent=4))"
   ]
  },
  {
   "cell_type": "code",
   "execution_count": null,
   "metadata": {
    "id": "CcS54pI1QrJx"
   },
   "outputs": [],
   "source": [
    "# Let us change the measurement instruction of skirt\n",
    "# See the predefined instruction\n",
    "# There are `waist`, `full length`, and `hips` as measurements in GarmentIQ's\n",
    "# default measurement instruction of a skirt. What if we only want `waist` and\n",
    "# `hips`? Simply create one! Recommend to use GarmentIQ instruction generation\n",
    "# tool to generate the instruciton:\n",
    "# https://garmentiq.ly.gd.edu.kg/application/demo/instruction-generation/\n",
    "with open(garment_classes['skirt']['instruction'], 'r') as file:\n",
    "    data = json.load(file)\n",
    "print(json.dumps(data, indent=4))"
   ]
  },
  {
   "cell_type": "code",
   "execution_count": null,
   "metadata": {
    "id": "gB1AxdinRqvR"
   },
   "outputs": [],
   "source": [
    "# Let us create a simple instruction in python here and convert it to json\n",
    "skirt_new = {\n",
    "    \"skirt\": {\n",
    "        \"landmarks\": {\n",
    "            \"1\": {\n",
    "                \"predefined\": True,\n",
    "                \"description\": \"waist_left\",\n",
    "                \"x\": 60,\n",
    "                \"y\": 40\n",
    "            },\n",
    "            \"3\": {\n",
    "                \"predefined\": True,\n",
    "                \"description\": \"waist_right\",\n",
    "                \"x\": 140,\n",
    "                \"y\": 40\n",
    "            },\n",
    "            \"4\": {\n",
    "                \"predefined\": True,\n",
    "                \"description\": \"side_seam_left\",\n",
    "                \"x\": 50,\n",
    "                \"y\": 80\n",
    "            },\n",
    "            \"8\": {\n",
    "                \"predefined\": True,\n",
    "                \"description\": \"side_seam_right\",\n",
    "                \"x\": 150,\n",
    "                \"y\": 80\n",
    "            }\n",
    "        },\n",
    "        \"measurements\": {\n",
    "            \"waist\": {\n",
    "                \"landmarks\": {\n",
    "                    \"start\": \"1\",\n",
    "                    \"end\": \"3\"\n",
    "                },\n",
    "                \"description\": \"/\"\n",
    "            },\n",
    "            \"hips\": {\n",
    "                \"landmarks\": {\n",
    "                    \"start\": \"4\",\n",
    "                    \"end\": \"8\"\n",
    "                },\n",
    "                \"description\": \"/\"\n",
    "            }\n",
    "        }\n",
    "    }\n",
    "}\n",
    "\n",
    "# Save it to a JSON file with indentation\n",
    "with open('skirt_new.json', 'w') as file:\n",
    "    json.dump(skirt_new, file, indent=4)"
   ]
  },
  {
   "cell_type": "code",
   "execution_count": null,
   "metadata": {
    "id": "lb1wL06USdzn"
   },
   "outputs": [],
   "source": [
    "# Create a new garment class metadata dictionary\n",
    "new_garment_classes = copy.deepcopy(garment_classes)\n",
    "new_garment_classes['skirt']['instruction'] = 'skirt_new.json'\n",
    "print(new_garment_classes['skirt'])"
   ]
  },
  {
   "cell_type": "code",
   "execution_count": null,
   "metadata": {
    "id": "XiAh-4I6TNXl"
   },
   "outputs": [],
   "source": [
    "# Okay now we have the new instruction, let us try the detection model to see\n",
    "# the difference\n",
    "# Import necessary modules\n",
    "import garmentiq as giq\n",
    "from garmentiq.landmark.detection.model_definition import PoseHighResolutionNet\n",
    "\n",
    "# Download a skirt image and a pretrained model\n",
    "!mkdir -p /app/working/examples/custom_measurement_instruction_advanced_usage/test_image\n",
    "!wget -q -O /app/working/examples/custom_measurement_instruction_advanced_usage/test_image/cloth_4.jpg \\\n",
    "    https://raw.githubusercontent.com/lygitdata/GarmentIQ/refs/heads/gh-pages/asset/img/cloth_4.jpg\n",
    "\n",
    "!mkdir -p /app/working/examples/custom_measurement_instruction_advanced_usage/models\n",
    "!wget -q -O /app/working/examples/custom_measurement_instruction_advanced_usage/models/hrnet.pth \\\n",
    "    https://huggingface.co/lygitdata/garmentiq/resolve/main/hrnet.pth"
   ]
  },
  {
   "cell_type": "code",
   "execution_count": null,
   "metadata": {
    "id": "aN_ikAdETn5J"
   },
   "outputs": [],
   "source": [
    "# Plot the image\n",
    "giq.landmark.plot(image_path=\"/app/working/examples/custom_measurement_instruction_advanced_usage/test_image/cloth_4.jpg\", figsize=(3, 3))"
   ]
  },
  {
   "cell_type": "code",
   "execution_count": null,
   "metadata": {
    "id": "sMKutxcVTrLw"
   },
   "outputs": [],
   "source": [
    "# Load the pretrained model from Hugging Face\n",
    "HRNet = giq.landmark.detection.load_model(\n",
    "    model_path=\"/app/working/examples/custom_measurement_instruction_advanced_usage/models/hrnet.pth\",\n",
    "    model_class=PoseHighResolutionNet()\n",
    ")"
   ]
  },
  {
   "cell_type": "code",
   "execution_count": null,
   "metadata": {
    "id": "Frx1SAxVTu1J"
   },
   "outputs": [],
   "source": [
    "# Detect landmarks (DEFAULT instruction)\n",
    "_, _, detection_dict = giq.landmark.detect(\n",
    "    class_name=\"skirt\",\n",
    "    class_dict=garment_classes,\n",
    "    image_path=\"/app/working/examples/custom_measurement_instruction_advanced_usage/test_image/cloth_4.jpg\",\n",
    "    model=HRNet,\n",
    "    scale_std=200.0,\n",
    "    resize_dim=[288, 384],\n",
    "    normalize_mean=[0.485, 0.456, 0.406],\n",
    "    normalize_std=[0.229, 0.224, 0.225]\n",
    ")\n",
    "\n",
    "# Clean the detection dictionary\n",
    "# See that we have all the three measurements\n",
    "detection_dict_cleaned = giq.utils.clean_detection_dict(\n",
    "    class_name='skirt',\n",
    "    image_name='cloth_4.jpg',\n",
    "    detection_dict=detection_dict\n",
    ")\n",
    "detection_dict_cleaned"
   ]
  },
  {
   "cell_type": "code",
   "execution_count": null,
   "metadata": {
    "id": "R34QuDmYT_X0"
   },
   "outputs": [],
   "source": [
    "# Detect landmarks (NEW instruction)\n",
    "# Note that we use `class_dict=new_garment_classes` here\n",
    "_, _, detection_dict_new = giq.landmark.detect(\n",
    "    class_name=\"skirt\",\n",
    "    class_dict=new_garment_classes,\n",
    "    image_path=\"/app/working/examples/custom_measurement_instruction_advanced_usage/test_image/cloth_4.jpg\",\n",
    "    model=HRNet,\n",
    "    scale_std=200.0,\n",
    "    resize_dim=[288, 384],\n",
    "    normalize_mean=[0.485, 0.456, 0.406],\n",
    "    normalize_std=[0.229, 0.224, 0.225]\n",
    ")\n",
    "\n",
    "# Clean the detection dictionary\n",
    "# See that we only have two measurements we want\n",
    "detection_dict_new_cleaned = giq.utils.clean_detection_dict(\n",
    "    class_name='skirt',\n",
    "    image_name='cloth_4.jpg',\n",
    "    detection_dict=detection_dict_new\n",
    ")\n",
    "detection_dict_new_cleaned"
   ]
  }
 ],
 "metadata": {
  "colab": {
   "provenance": []
  },
  "kernelspec": {
   "display_name": "Python 3 (ipykernel)",
   "language": "python",
   "name": "python3"
  },
  "language_info": {
   "codemirror_mode": {
    "name": "ipython",
    "version": 3
   },
   "file_extension": ".py",
   "mimetype": "text/x-python",
   "name": "python",
   "nbconvert_exporter": "python",
   "pygments_lexer": "ipython3",
   "version": "3.11.12"
  }
 },
 "nbformat": 4,
 "nbformat_minor": 4
}
