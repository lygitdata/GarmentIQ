{
 "cells": [
  {
   "cell_type": "markdown",
   "metadata": {
    "id": "PZd-1ouo8T2u"
   },
   "source": [
    "# Import `garmentiq`, other dependencies, and download test images"
   ]
  },
  {
   "cell_type": "code",
   "execution_count": null,
   "metadata": {
    "id": "fvt71b7O6vUg"
   },
   "outputs": [],
   "source": [
    "import garmentiq as giq\n",
    "import matplotlib.pyplot as plt\n",
    "import matplotlib.image as mpimg"
   ]
  },
  {
   "cell_type": "code",
   "execution_count": null,
   "metadata": {
    "id": "lqVXgKe78ilG"
   },
   "outputs": [],
   "source": [
    "!mkdir -p test_images\n",
    "\n",
    "!wget -q -O test_images/cloth_1.jpg https://garmentiq.ly.gd.edu.kg/asset/img/cloth_1.jpg\n",
    "!wget -q -O test_images/cloth_2.jpg https://garmentiq.ly.gd.edu.kg/asset/img/cloth_2.jpg\n",
    "!wget -q -O test_images/cloth_3.jpg https://garmentiq.ly.gd.edu.kg/asset/img/cloth_3.jpg\n",
    "!wget -q -O test_images/cloth_4.jpg https://garmentiq.ly.gd.edu.kg/asset/img/cloth_4.jpg"
   ]
  },
  {
   "cell_type": "markdown",
   "metadata": {
    "id": "rol9YRD06rYJ"
   },
   "source": [
    "# Function `load_model`\n",
    "\n",
    "Source code: https://github.com/lygitdata/GarmentIQ/blob/main/src/garmentiq/segmentation/load_model.py"
   ]
  },
  {
   "cell_type": "code",
   "execution_count": null,
   "metadata": {
    "colab": {
     "base_uri": "https://localhost:8080/",
     "height": 405,
     "referenced_widgets": [
      "3234301612264b9fa8bf0d720554efb4",
      "5fe782a904674677b6da15171da36434",
      "332d8a0e1c5844a19ce4f8ccdaf103f4",
      "987aa6798e624652b8aa6c5c248950fd",
      "aad7e27147ee4a70bdd9b75cd9552341",
      "01cf729cb9994eccae52c8761886cd57",
      "5ff2c699cd79420c86614b03369bfa01",
      "0b64a1cbe3a0459a81d895008658d3f9",
      "5313ec071c7544e782780ef616b3669d",
      "6c9c12bb786845878ed25d4684921554",
      "e1aeb2a5c0584096aa616c919ac4e42b",
      "40c33cd766f649bc863359d906bbcee7",
      "94f797dfe9ce414d99f53f378d908e3f",
      "dd9dfea9e49c4142a64933ff13a94590",
      "0dc30f65a0cb43528c46231bebb7eb8e",
      "1d5cc513837747058fbdbcdf70c9d1a6",
      "5a09b88ae30c4ee9a753281dd9cd0114",
      "78f78b06b0684d82a55a73e9b305e4fe",
      "3c6a908198984621b32fa959d7863691",
      "1b58c42597d24437a5b8e22f3a7f318e",
      "d265163f42ff42729947528259deafd9",
      "21d40fbb993e43388923feb0943b67f9",
      "a18ccdf497bb487da91ba4d8286ae97c",
      "21dc14e7908947cdbecaa016c9455174",
      "f5d8989bf2c34a7091eee96fb921f813",
      "384213153393458b81d7ed7a867ef4d2",
      "0547f99cb2064800b6666c012800677c",
      "b420b7949a30469fa7e422db0492cce0",
      "5b8fcabccf754ae8b586d3ac09ca33e0",
      "863cc87f5afb42b5bd4952491f63616c",
      "d46815dd9e994cf991da44015a367272",
      "a883e75f321b4c6b82686b25b3bc4346",
      "ba52336e8fc04b40abcd6d5bd9ea329f",
      "228085ec1447454d9c308413e5d7aafb",
      "c660e67cc27b476e915cc2d2d71740d4",
      "64b0360ae7034d3a85949a7127a0375d",
      "f030b59564814ab380702f4ad8634070",
      "b8801829e8f34e30990bfbba4ada055c",
      "ab8145121b2446e698c00d30b57de575",
      "0a21ff5fc338485fb85240d2413fa23d",
      "782b7f35f1dd41a38f9986131a473db7",
      "4400649ee7ef454c838353ef84369c0e",
      "732ddb8294b74e13bcc46c681d09b0de",
      "f77dbe72c09444269ce00cc716ea27a8"
     ]
    },
    "id": "oR9aU3HQ7vPY",
    "outputId": "5292db68-e270-4695-b0c7-e355ec7feef0"
   },
   "outputs": [],
   "source": [
    "BiRefNet = giq.segmentation.load_model(\n",
    "    pretrained_model='ZhengPeng7/BiRefNet',\n",
    "    pretrained_model_args={'trust_remote_code': True},\n",
    "    high_precision=True\n",
    ")"
   ]
  },
  {
   "cell_type": "markdown",
   "metadata": {
    "id": "GvKbin7271tj"
   },
   "source": [
    "# Function `extract`\n",
    "\n",
    "Source code: https://github.com/lygitdata/GarmentIQ/blob/main/src/garmentiq/segmentation/extract.py"
   ]
  },
  {
   "cell_type": "code",
   "execution_count": null,
   "metadata": {
    "id": "gpZMQ4IE8Es7"
   },
   "outputs": [],
   "source": [
    "original_img, mask = giq.segmentation.extract(\n",
    "    model=BiRefNet,\n",
    "    image_path='test_images/cloth_1.jpg',\n",
    "    resize_dim=(1024, 1024),\n",
    "    normalize_mean=[0.485, 0.456, 0.406],\n",
    "    normalize_std=[0.229, 0.224, 0.225],\n",
    "    high_precision=True\n",
    ")"
   ]
  },
  {
   "cell_type": "code",
   "execution_count": null,
   "metadata": {
    "colab": {
     "base_uri": "https://localhost:8080/"
    },
    "id": "kYhRdKDuAi7f",
    "outputId": "e7448261-ada6-4e90-81ea-e54963a9cfc2"
   },
   "outputs": [],
   "source": [
    "print(original_img.shape)\n",
    "print(mask.shape)"
   ]
  },
  {
   "cell_type": "markdown",
   "metadata": {
    "id": "JLtqruKE9vPo"
   },
   "source": [
    "# Function `plot`\n",
    "\n",
    "Source code: https://github.com/lygitdata/GarmentIQ/blob/main/src/garmentiq/segmentation/plot.py"
   ]
  },
  {
   "cell_type": "code",
   "execution_count": null,
   "metadata": {
    "colab": {
     "base_uri": "https://localhost:8080/",
     "height": 337
    },
    "id": "NHcoWPXQ9w_R",
    "outputId": "085d50be-3567-4370-833b-e37c5a7bf074"
   },
   "outputs": [],
   "source": [
    "giq.segmentation.plot(image_np=original_img, figsize=(3, 3))"
   ]
  },
  {
   "cell_type": "code",
   "execution_count": null,
   "metadata": {
    "colab": {
     "base_uri": "https://localhost:8080/",
     "height": 337
    },
    "id": "y4-rjh5k99u1",
    "outputId": "cabe03a4-173b-414c-f8af-0cc6648192de"
   },
   "outputs": [],
   "source": [
    "giq.segmentation.plot(image_np=mask, figsize=(3, 3))"
   ]
  },
  {
   "cell_type": "markdown",
   "metadata": {
    "id": "QtXr_bzK-CKr"
   },
   "source": [
    "# Function `change_background_color`\n",
    "\n",
    "Source code: https://github.com/lygitdata/GarmentIQ/blob/main/src/garmentiq/segmentation/change_background_color.py"
   ]
  },
  {
   "cell_type": "code",
   "execution_count": null,
   "metadata": {
    "id": "KhxfDsqe-BP7"
   },
   "outputs": [],
   "source": [
    "bg_modified_img = giq.segmentation.change_background_color(\n",
    "    image_np=original_img,\n",
    "    mask_np=mask,\n",
    "    background_color=[102, 255, 102]\n",
    ")"
   ]
  },
  {
   "cell_type": "code",
   "execution_count": null,
   "metadata": {
    "colab": {
     "base_uri": "https://localhost:8080/",
     "height": 337
    },
    "id": "PjefuiYa-psh",
    "outputId": "b2006f4d-579a-4787-8279-d760d4ba949d"
   },
   "outputs": [],
   "source": [
    "giq.segmentation.plot(image_np=bg_modified_img, figsize=(3, 3))"
   ]
  },
  {
   "cell_type": "markdown",
   "metadata": {
    "id": "sojsLPUL-v5Z"
   },
   "source": [
    "# Function `process_and_save_images`\n",
    "\n",
    "Source code: https://github.com/lygitdata/GarmentIQ/blob/main/src/garmentiq/segmentation/process_and_save_images.py"
   ]
  },
  {
   "cell_type": "markdown",
   "metadata": {
    "id": "vL9cTaGfAOAN"
   },
   "source": [
    "## Mask only\n",
    "\n",
    "You can also check out the folder `output_mask_only` to see the processed images."
   ]
  },
  {
   "cell_type": "code",
   "execution_count": null,
   "metadata": {
    "colab": {
     "base_uri": "https://localhost:8080/"
    },
    "id": "PGqmYmwk-2PB",
    "outputId": "0e69508e-d2c5-498c-de1c-3328bc1fe395"
   },
   "outputs": [],
   "source": [
    "giq.segmentation.process_and_save_images(\n",
    "    image_dir=\"test_images\",\n",
    "    output_dir=\"output_mask_only\",\n",
    "    model=BiRefNet,\n",
    "    resize_dim=(1024, 1024),\n",
    "    normalize_mean=[0.485, 0.456, 0.406],\n",
    "    normalize_std=[0.229, 0.224, 0.225],\n",
    "    high_precision=True\n",
    ")"
   ]
  },
  {
   "cell_type": "code",
   "execution_count": null,
   "metadata": {
    "colab": {
     "base_uri": "https://localhost:8080/",
     "height": 1000
    },
    "id": "XHHMGFduAP71",
    "outputId": "a16807ef-9009-4f54-97d1-c1fdd5a57f61",
    "scrolled": true
   },
   "outputs": [],
   "source": [
    "# See masks\n",
    "for i in range(1, 5):\n",
    "  img = mpimg.imread(f\"output_mask_only/masks/mask_cloth_{i}.png\")\n",
    "  plt.imshow(img)\n",
    "  plt.axis('off')\n",
    "  plt.show()"
   ]
  },
  {
   "cell_type": "markdown",
   "metadata": {
    "id": "yiTGWsd7AWum"
   },
   "source": [
    "## Mask and background modification\n",
    "\n",
    "You can also check out the folder `output_all` to see the processed images."
   ]
  },
  {
   "cell_type": "code",
   "execution_count": null,
   "metadata": {
    "colab": {
     "base_uri": "https://localhost:8080/"
    },
    "id": "S6W6-l1LAb5H",
    "outputId": "4726f569-3ae7-4a5e-a229-d200683eb721"
   },
   "outputs": [],
   "source": [
    "giq.segmentation.process_and_save_images(\n",
    "    image_dir=\"test_images\",\n",
    "    output_dir=\"output_all\",\n",
    "    model=BiRefNet,\n",
    "    resize_dim=(1024, 1024),\n",
    "    normalize_mean=[0.485, 0.456, 0.406],\n",
    "    normalize_std=[0.229, 0.224, 0.225],\n",
    "    background_color=[102, 255, 102],\n",
    "    high_precision=True\n",
    ")"
   ]
  },
  {
   "cell_type": "code",
   "execution_count": null,
   "metadata": {
    "colab": {
     "base_uri": "https://localhost:8080/",
     "height": 1000
    },
    "id": "HrvaRFbE_HiE",
    "outputId": "34111df7-da59-4ffb-f8c1-ab320cd8818c"
   },
   "outputs": [],
   "source": [
    "for i in range(1, 5):\n",
    "  mask = mpimg.imread(f\"output_all/masks/mask_cloth_{i}.png\")\n",
    "  plt.imshow(mask)\n",
    "  plt.axis('off')\n",
    "  plt.show()\n",
    "\n",
    "  bg_modified = mpimg.imread(f\"output_all/bg_modified/bg_modified_cloth_{i}.png\")\n",
    "  plt.imshow(bg_modified)\n",
    "  plt.axis('off')\n",
    "  plt.show()"
   ]
  }
 ],
 "metadata": {
  "accelerator": "GPU",
  "colab": {
   "gpuType": "T4",
   "include_colab_link": true,
   "provenance": []
  },
  "kernelspec": {
   "display_name": "Python 3 (ipykernel)",
   "language": "python",
   "name": "python3"
  },
  "language_info": {
   "codemirror_mode": {
    "name": "ipython",
    "version": 3
   },
   "file_extension": ".py",
   "mimetype": "text/x-python",
   "name": "python",
   "nbconvert_exporter": "python",
   "pygments_lexer": "ipython3",
   "version": "3.11.12"
  }
 },
 "nbformat": 4,
 "nbformat_minor": 4
}
