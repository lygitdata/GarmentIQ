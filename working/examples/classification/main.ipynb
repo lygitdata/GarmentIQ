{
 "cells": [
  {
   "cell_type": "markdown",
   "metadata": {
    "id": "5fo6MpKJQHCd"
   },
   "source": [
    "# Import `garmentiq`, other dependencies, and download data"
   ]
  },
  {
   "cell_type": "code",
   "execution_count": null,
   "metadata": {
    "id": "iV7pn3hvQKaN"
   },
   "outputs": [],
   "source": [
    "import garmentiq as giq\n",
    "from garmentiq.classification.model_definition import CNN3, CNN4, tinyViT\n",
    "from garmentiq.classification.utils import CachedDataset\n",
    "import torch.optim as optim\n",
    "import torch.nn as nn"
   ]
  },
  {
   "cell_type": "code",
   "execution_count": null,
   "metadata": {
    "colab": {
     "base_uri": "https://localhost:8080/"
    },
    "id": "UAdS02QnQPUd",
    "outputId": "20749fdc-f2c8-447c-aa64-43e3d0ebfa92"
   },
   "outputs": [],
   "source": [
    "# Download data\n",
    "!curl -L -o garmentiq-classification-set-nordstrom-and-myntra.zip \\\n",
    "  https://www.kaggle.com/api/v1/datasets/download/lygitdata/garmentiq-classification-set-nordstrom-and-myntra"
   ]
  },
  {
   "cell_type": "markdown",
   "metadata": {
    "id": "5pXPUL5ZQ70k"
   },
   "source": [
    "# Function `train_test_split`\n",
    "\n",
    "Source code: https://github.com/lygitdata/GarmentIQ/blob/main/src/garmentiq/classification/train_test_split.py"
   ]
  },
  {
   "cell_type": "code",
   "execution_count": null,
   "metadata": {
    "colab": {
     "base_uri": "https://localhost:8080/",
     "height": 205,
     "referenced_widgets": [
      "5b2829598a824e47b4e98560ef727885",
      "1ca65780a152409998dc5a602f16c15e",
      "710b1acd3a56444b8d88cdccc0b2c109",
      "571c753fcc7449808c4eccf296ea078e",
      "c49905c2b399402b8b9cbae6173c872b",
      "325eea67a1404bbbb3cfbb6537319494",
      "01c6fe8255e141c9b62f517d64325559",
      "e8df1c7021fb46b0a84bf83cd05b0268",
      "da782cd66fce47b38c91b6061d6c3985",
      "61b0c59f1464433c9eef5b7cf5c407ac",
      "28c98fbeba094eeca6e5243ee3b5ed7c"
     ]
    },
    "id": "EDJIuJZ3RKIx",
    "outputId": "18e394a3-ffcd-4ada-88e0-3ea9f12eab6f"
   },
   "outputs": [],
   "source": [
    "DATA = giq.classification.train_test_split(\n",
    "    output_dir=\"data\",\n",
    "    train_zip_dir=\"garmentiq-classification-set-nordstrom-and-myntra.zip\",\n",
    "    test_size=0.15,\n",
    "    verbose=True\n",
    ")"
   ]
  },
  {
   "cell_type": "markdown",
   "metadata": {
    "id": "kV6fLrPgVRw6"
   },
   "source": [
    "# Apply pretrained models"
   ]
  },
  {
   "cell_type": "code",
   "execution_count": null,
   "metadata": {
    "id": "F0hLfeuuVWJE"
   },
   "outputs": [],
   "source": [
    "# Download CNN-3, CNN-4, and Tiny ViT pretrained models\n",
    "!mkdir -p pretrained_models\n",
    "\n",
    "!wget -q -O pretrained_models/cnn_3.pt \\\n",
    "    https://raw.githubusercontent.com/lygitdata/GarmentIQ/refs/heads/gh-pages/application/demo/image-classification/models/cnn_3.pt\n",
    "!wget -q -O pretrained_models/cnn_4.pt \\\n",
    "    https://raw.githubusercontent.com/lygitdata/GarmentIQ/refs/heads/gh-pages/application/demo/image-classification/models/cnn_4.pt\n",
    "!wget -q -O pretrained_models/tiny_vit.pt \\\n",
    "    https://raw.githubusercontent.com/lygitdata/GarmentIQ/refs/heads/gh-pages/application/demo/image-classification/models/tiny_vit.pt"
   ]
  },
  {
   "cell_type": "markdown",
   "metadata": {
    "id": "_UVcYi5QV8xx"
   },
   "source": [
    "## Function `load_data`\n",
    "\n",
    "Source code: https://github.com/lygitdata/GarmentIQ/blob/main/src/garmentiq/classification/load_data.py"
   ]
  },
  {
   "cell_type": "code",
   "execution_count": null,
   "metadata": {
    "colab": {
     "base_uri": "https://localhost:8080/",
     "height": 49,
     "referenced_widgets": [
      "58fb9b6d54494807b7eec96b6308c70f",
      "dba2986f540641b5bf6e6dc961a709da",
      "3dc4f1fe8e7b43608f7f036b5f36daf9",
      "8d72ebbd403341f897df8abf6a0db9f0",
      "1a3a7ef1ae6e4ade9c06ad76eafe0683",
      "b7cbf5854a2148d9a66eb342fd95115d",
      "ef263db163d44047b8b795237a7fd0fd",
      "56aecbfa97454f15bef0316b3ca2f9b6",
      "8a07f899adeb4100b29f9ffdef0c6fe6",
      "d02b4c404ea94bb59de59c91e6280a45",
      "20cc6038673f4ac9b46d0d3785edb4e1"
     ]
    },
    "id": "TXvBnLEKV79h",
    "outputId": "a7d079be-400a-4b51-a6b2-86a555175261"
   },
   "outputs": [],
   "source": [
    "test_images, test_labels, _ = giq.classification.load_data(\n",
    "    df=DATA[\"test_metadata\"],\n",
    "    img_dir=DATA[\"test_images\"],\n",
    "    label_column=\"garment\",\n",
    "    resize_dim=(120, 184),\n",
    "    normalize_mean=[0.8047, 0.7808, 0.7769],\n",
    "    normalize_std=[0.2957, 0.3077, 0.3081]\n",
    ")"
   ]
  },
  {
   "cell_type": "markdown",
   "metadata": {
    "id": "Nsfb80yRWIAD"
   },
   "source": [
    "## Start testing models using the test set"
   ]
  },
  {
   "cell_type": "markdown",
   "metadata": {
    "id": "aMaFxQW_Xl9v"
   },
   "source": [
    "Function `test_pytorch_nn` source code: https://github.com/lygitdata/GarmentIQ/blob/main/src/garmentiq/classification/test_pytorch_nn.py"
   ]
  },
  {
   "cell_type": "markdown",
   "metadata": {
    "id": "mJbiXIMdWLqU"
   },
   "source": [
    "### Test `CNN-3` on the test set"
   ]
  },
  {
   "cell_type": "code",
   "execution_count": null,
   "metadata": {
    "colab": {
     "base_uri": "https://localhost:8080/",
     "height": 413,
     "referenced_widgets": [
      "067482f67ddf41abad6b513fbba8aebb",
      "8ebd12344cf74d2f9abfe79fd695a3ae",
      "f352ca817feb41549b83ce9c93d2516e",
      "26fabb1419a34570add42cc6d43289da",
      "80efe813d7424388969fed368746a4cc",
      "025ee5015819440bbfeb0d909c099882",
      "acef6456f6a647f0ae6147a8a6899d35",
      "104e2ed9100a4eb48bcf3a7ad187692a",
      "5f6792f91276405d96b2100371a08830",
      "8fd3a9fdcfb34baea4aa2c553bf3425d",
      "c9d35a8cdd77448a8b6fef1a449b83a8"
     ]
    },
    "id": "8FWMOpXmWOp0",
    "outputId": "480656ec-0927-4a6d-9b00-303b15d0cd61"
   },
   "outputs": [],
   "source": [
    "giq.classification.test_pytorch_nn(\n",
    "    model_path=\"pretrained_models/cnn_3.pt\",\n",
    "    model_class=CNN3,\n",
    "    model_args={\"num_classes\": 9},\n",
    "    dataset_class=CachedDataset,\n",
    "    dataset_args={\n",
    "        \"raw_labels\": DATA[\"test_metadata\"][\"garment\"],\n",
    "        \"cached_images\": test_images,\n",
    "        \"cached_labels\": test_labels,\n",
    "    },\n",
    "    param={\"batch_size\": 64},\n",
    ")"
   ]
  },
  {
   "cell_type": "code",
   "execution_count": null,
   "metadata": {
    "colab": {
     "base_uri": "https://localhost:8080/"
    },
    "id": "d68YEHgHGH07",
    "outputId": "740d8951-50c0-461c-d216-fa82b52b2920"
   },
   "outputs": [],
   "source": [
    "img_to_test = DATA['test_metadata']['filename'][963]\n",
    "\n",
    "pred_label, pred_prob = giq.classification.predict(\n",
    "    model_path=\"pretrained_models/cnn_3.pt\",\n",
    "    model_class=CNN3,\n",
    "    model_args={\"num_classes\": 9},\n",
    "    image_path=f\"data/test/images/{img_to_test}\",\n",
    "    classes=DATA['test_metadata']['garment'].unique().tolist(),\n",
    "    resize_dim=(120, 184),\n",
    "    normalize_mean=[0.8047, 0.7808, 0.7769],\n",
    "    normalize_std=[0.2957, 0.3077, 0.3081]\n",
    ")\n",
    "\n",
    "print(\n",
    "    \"True label: \", img_to_test,\n",
    "    \"\\nPredicted label: \", pred_label,\n",
    "    \"\\nPredicted Probabilities: \", pred_prob\n",
    ")"
   ]
  },
  {
   "cell_type": "markdown",
   "metadata": {
    "id": "dO17E4ETWdtl"
   },
   "source": [
    "### Test `CNN-4` on the test set"
   ]
  },
  {
   "cell_type": "code",
   "execution_count": null,
   "metadata": {
    "colab": {
     "base_uri": "https://localhost:8080/",
     "height": 413,
     "referenced_widgets": [
      "030c57ba42e941c7a2d64d36e651ab64",
      "3e02a2ead3b4452199736b2ab3c9f02e",
      "c4728f167fa54ba1bc415771aa8072a7",
      "3834e7a3cc514ccb8f3df05c92b9de45",
      "81d6f43c777440e78a88cc869224ca21",
      "a63af9fff061421185a73946b0715529",
      "2883f1c4b0af4155a290fa8e90d5c3f9",
      "7684becb1cb54a92b314511ba4e5d7bc",
      "ef1fd9d3ed4946fd80201cf3a7021caa",
      "cdc13548c4f343899ae63cd70299c95b",
      "1cb799082daa4967b833b56d45c03e4d"
     ]
    },
    "id": "04YkyJOoWg-N",
    "outputId": "bac6dc36-847f-4f0b-971c-e7b119c1a2a5"
   },
   "outputs": [],
   "source": [
    "giq.classification.test_pytorch_nn(\n",
    "    model_path=\"pretrained_models/cnn_4.pt\",\n",
    "    model_class=CNN4,\n",
    "    model_args={\"num_classes\": 9},\n",
    "    dataset_class=CachedDataset,\n",
    "    dataset_args={\n",
    "        \"raw_labels\": DATA[\"test_metadata\"][\"garment\"],\n",
    "        \"cached_images\": test_images,\n",
    "        \"cached_labels\": test_labels,\n",
    "    },\n",
    "    param={\"batch_size\": 64},\n",
    ")"
   ]
  },
  {
   "cell_type": "code",
   "execution_count": null,
   "metadata": {
    "colab": {
     "base_uri": "https://localhost:8080/"
    },
    "id": "TE4mkUCKGTkE",
    "outputId": "de588e45-93e2-4edb-b09f-c702cb376899"
   },
   "outputs": [],
   "source": [
    "pred_label, pred_prob = giq.classification.predict(\n",
    "    model_path=\"pretrained_models/cnn_4.pt\",\n",
    "    model_class=CNN4,\n",
    "    model_args={\"num_classes\": 9},\n",
    "    image_path=f\"data/test/images/{img_to_test}\",\n",
    "    classes=DATA['test_metadata']['garment'].unique().tolist(),\n",
    "    resize_dim=(120, 184),\n",
    "    normalize_mean=[0.8047, 0.7808, 0.7769],\n",
    "    normalize_std=[0.2957, 0.3077, 0.3081]\n",
    ")\n",
    "\n",
    "print(\n",
    "    \"True label: \", img_to_test,\n",
    "    \"\\nPredicted label: \", pred_label,\n",
    "    \"\\nPredicted Probabilities: \", pred_prob\n",
    ")"
   ]
  },
  {
   "cell_type": "markdown",
   "metadata": {
    "id": "m3_mdhSKWmCe"
   },
   "source": [
    "### Test `Tiny ViT` on the test set"
   ]
  },
  {
   "cell_type": "code",
   "execution_count": null,
   "metadata": {
    "colab": {
     "base_uri": "https://localhost:8080/",
     "height": 445,
     "referenced_widgets": [
      "26f79ef4590a4195b3f3149613d8dd08",
      "9483c154bb804532bd9a37d61e099908",
      "5bda15c97dfb4217bd6d5baed387aaf5",
      "14a741dc74964c14bf3bef14711b408e",
      "cc1441475f2e4772962e2104ed8824f9",
      "2f1651854d3a4b6290343001349a4e17",
      "baa15aef522c4d30be9e23fd7421d443",
      "8a42249cd28f4176a943d9adfd56cd2c",
      "12c563832f9140a9bdd1a6b40a83eb91",
      "59fde8e4059340f6bd266ce147ba821c",
      "74988fca32fd4579b56b065d85f91182",
      "0aaff39642ea44c89e32b8ab4b8db73f",
      "c144abd11d0742bebba48bb5b64c3061",
      "013b18b233ae462eb5a8794c32c577fc",
      "8a654a7b81524b31b91ca4a8fc9305b6",
      "08192f157c6743d78e5907d4e12e4c42",
      "577affca6c9040e7aea30fb91e7c0a74",
      "ffd0c01fdc344543ad85a290c5c2ef79",
      "fef1b831dad046598bff67ca49ec3f3e",
      "0b6aa722f93a451bb2ed02929749043e",
      "0596eee61f5e457b88b0803d295be583",
      "31ed187c8dde4606953503b5b58d8203"
     ]
    },
    "id": "G0urvDDxWs93",
    "outputId": "6e96d711-1f0d-4acc-d932-cfb3d2cf465c"
   },
   "outputs": [],
   "source": [
    "giq.classification.test_pytorch_nn(\n",
    "    model_path=\"pretrained_models/tiny_vit.pt\",\n",
    "    model_class=tinyViT,\n",
    "    model_args={\"num_classes\": 9, \"img_size\": (120, 184), \"patch_size\": 6},\n",
    "    dataset_class=CachedDataset,\n",
    "    dataset_args={\n",
    "        \"raw_labels\": DATA[\"test_metadata\"][\"garment\"],\n",
    "        \"cached_images\": test_images,\n",
    "        \"cached_labels\": test_labels,\n",
    "    },\n",
    "    param={\"batch_size\": 64},\n",
    ")"
   ]
  },
  {
   "cell_type": "code",
   "execution_count": null,
   "metadata": {
    "colab": {
     "base_uri": "https://localhost:8080/"
    },
    "id": "6vZNX2htEjoa",
    "outputId": "e1d8d35b-b6a4-48c8-dc9b-b6c78199a333"
   },
   "outputs": [],
   "source": [
    "pred_label, pred_prob = giq.classification.predict(\n",
    "    model_path=\"pretrained_models/tiny_vit.pt\",\n",
    "    model_class=tinyViT,\n",
    "    model_args={\"num_classes\": 9, \"img_size\": (120, 184), \"patch_size\": 6},\n",
    "    image_path=f\"data/test/images/{img_to_test}\",\n",
    "    classes=DATA['test_metadata']['garment'].unique().tolist(),\n",
    "    resize_dim=(120, 184),\n",
    "    normalize_mean=[0.8047, 0.7808, 0.7769],\n",
    "    normalize_std=[0.2957, 0.3077, 0.3081]\n",
    ")\n",
    "\n",
    "print(\n",
    "    \"True label: \", img_to_test,\n",
    "    \"\\nPredicted label: \", pred_label,\n",
    "    \"\\nPredicted Probabilities: \", pred_prob\n",
    ")"
   ]
  },
  {
   "cell_type": "markdown",
   "metadata": {
    "id": "8o0oZkP0RlyI"
   },
   "source": [
    "# Training"
   ]
  },
  {
   "cell_type": "markdown",
   "metadata": {
    "id": "tJ_oe4i_R8pq"
   },
   "source": [
    "## Use pre-defined model structure `CNN3`\n",
    "\n",
    "To see all pre-defined model structures: https://github.com/lygitdata/GarmentIQ/blob/main/src/garmentiq/classification/model_definition.py"
   ]
  },
  {
   "cell_type": "code",
   "execution_count": null,
   "metadata": {
    "colab": {
     "base_uri": "https://localhost:8080/",
     "height": 186
    },
    "id": "pS64jrXMSPr1",
    "outputId": "6eb45fa3-0ee1-43db-c5c6-a50ed54a5891"
   },
   "outputs": [],
   "source": [
    "CNN3"
   ]
  },
  {
   "cell_type": "code",
   "execution_count": null,
   "metadata": {
    "colab": {
     "base_uri": "https://localhost:8080/",
     "height": 49,
     "referenced_widgets": [
      "d9162c26c8b6439fadf1cecc76e8c943",
      "f25940c1b0a74cd4b69dd1641be53d2a",
      "fde20a7698e04e59ab969dc01e3035f0",
      "40a33b06f62240e7b5d39d5532564a9b",
      "7621182c172b4a33ada53af0c9a07c7c",
      "8fe3ffa27fd14698bbb9cc87b660860b",
      "6b37798304914a1fa8018119b0ad772d",
      "5bb344c0d2ae46408cf4e4c22f1b6451",
      "3bb90c65527c49e088467ddb44c33110",
      "6d4f18758988455bac8e24590e3137f1",
      "43d0f480b2bd4995bbcc788d40ae0c49"
     ]
    },
    "id": "3lBakn6XRnqw",
    "outputId": "e53dd5c8-ec83-43f3-b6c0-bf894234306a"
   },
   "outputs": [],
   "source": [
    "train_images, train_labels, _ = giq.classification.load_data(\n",
    "    df=DATA[\"train_metadata\"],\n",
    "    img_dir=DATA[\"train_images\"],\n",
    "    label_column=\"garment\",\n",
    "    resize_dim=(60, 92),\n",
    "    normalize_mean=[0.8047, 0.7808, 0.7769],\n",
    "    normalize_std=[0.2957, 0.3077, 0.3081]\n",
    ")"
   ]
  },
  {
   "cell_type": "markdown",
   "metadata": {
    "id": "aDTGtty2SXPX"
   },
   "source": [
    "### Function `train_pytorch_nn`\n",
    "\n",
    "Source code: https://github.com/lygitdata/GarmentIQ/blob/main/src/garmentiq/classification/train_pytorch_nn.py"
   ]
  },
  {
   "cell_type": "code",
   "execution_count": null,
   "metadata": {
    "colab": {
     "base_uri": "https://localhost:8080/",
     "height": 295,
     "referenced_widgets": [
      "902ae022bb1e47faba26517e3c17f936",
      "87df29381e454d93954243d8577f5209",
      "a8c0196fc0fe45a095dc7dadd4d94fa9",
      "30189cfee74f47a1bb58989e3ff5481b",
      "a961040a749e4d43b03f8b9ca13e3f26",
      "2b30e3d77bb2499e873e20a6504b090f",
      "759d714b0d55497dbb25b9474e509211",
      "1340217acfd74f7e9e551514973f06a7",
      "db7a3d6dc02b4fa0b93e469d2787e6a3",
      "3b11cd75b5a9498683f7b5c357c0fa48",
      "d4450e9afa35452daf97c3798ccf390d",
      "fb01a96aa3c948dd81a719145fee3c6e",
      "98475f72560c4142bb0a1a8ac16c27f3",
      "ee4d2cdcb71943ac97d209837c5205ec",
      "88c7f3f7a35e4cbabc26da47333c16b7",
      "a5ea104c7a604b3aa4eb9ceebedddd06",
      "f03a3b3463054ea1aa4a9cedd3c638fc",
      "b74d1790c6e44b72b792eac19448aca9",
      "30886fd82333437d96c1c4294c703e74",
      "7cd02574167347259a40cead2bcafe20",
      "6b047a0df22d4c25a9fe952a5aa65054",
      "7b5ff8cab4e745f7adfaef36e4b720d3",
      "ad228c51b60d4f559cb2b6d5dc63ce4c",
      "afc62406b77a4662979a004ff88ff5ef",
      "65cf2e58c44d495e9ecd6a90622c7f82",
      "c457ae21052049ea9191b9751eb7e857",
      "62615a208fca4d19a5083f4a3a3a3b9f",
      "7dd87fd32ab1458ca443d9380719de1b",
      "3ad33f7d448b43539b9a2a0bfc09da52",
      "cb65a44126da48afa86e7b44e674965d",
      "2666c75e099b49e089cb627ea9c9e044",
      "28014d72eaf14d618a7957f8eaa9de22",
      "1196c05c6a7c4abc90547c03901944e0",
      "c7237df8657444f4959ee6dfa3b9bbca",
      "595181f948d948459f699191db17c9b6",
      "1365625cca774bbba3d60033bd236216",
      "5be6788fdc6846d98dc9386ef22cb32c",
      "1dffcde243434a058d6a125f603e152e",
      "22d3da66797f4e84b6136e8b6aaf1ec0",
      "97eea33384494dc3bee3ec6adcee3d9c",
      "1c79f4279f1d46cb8befd6776508cd28",
      "202f1d63550b43c2aa92533ffaa8ee02",
      "4311166375a441f9b1f5730a11ca71e3",
      "1c7530e942c147258ac04933d7a88069",
      "ebfea8ab91184e9f91e6470d23aa8c05",
      "70f23d59f67b4df19e48fb0658081c21",
      "c0d327e7d048496ea7d7eefd758d3c00",
      "9bfe9e63ce7241c381eab8fc8b51bc8d",
      "700dd3188fcb4619be94f6d43b2114ae",
      "9a424bd1a7e743fb9caad2219dcb9b68",
      "8865efd3a6524b0180e73ffdb921fbeb",
      "64c906c2d0aa4b3180772947a0774c54",
      "7f9b4460d5f848619f4ed93ee7bf8e5c",
      "042c2300270947d9aec7379f4f524873",
      "ddde5a3b738e4feebd14e52a92c2f765",
      "1cf297c48f2e446ebec0e9e0d94ea1fc",
      "1aa38454569e43a284ccddf04eb6f5bc",
      "d9257ca56d074c2584cbe5c8d3c3837f",
      "b4e144b027b4434d8fbcbb5be94383b8",
      "78ead669cac24dbe951fb5cf7863876e",
      "e2d7b97545df4636b2b64fe1569b35bf",
      "e0b58846c26042dfbcd7bb629d345ed0",
      "0c69436e5ef649569e252999bbd16801",
      "f1d5ffad15ba44759831238e6d69b687",
      "5735ca68fff24c1899c1297a6ea1e2c2",
      "d979be34b2a14799bf60449f68048bc5",
      "9e60c910135d4567a1b8c3c48e58902a",
      "eec86b6452784ccb8e9773a57a1a20b1",
      "2a6fc13df1a14021a30d729c0ac95c86",
      "ffe40cf1d4e549afb7e0de5b96d53fa6",
      "d967803e47c84e8da945e8a249704459",
      "134dc231a4064817a4112e8529f5f68a",
      "2d8da765402949a49e13974251334a93",
      "eef710ceefe74ea6aeff91fb470b21ed",
      "558836460abb4768966251e724db48d2",
      "d5c971c383544e368d38b95530c5c12b",
      "288708cb960746278c926df3d8105ff2",
      "2933563e60ec42bfbcd8cdf541d9456b",
      "44bf829b5f5c4b4eae955caa8c23a880",
      "e491acfd59c144678b40fa87490bc297",
      "5f145f64850f40299a3539ac32790621",
      "d9e6e268ef7146169eec22d572fae987",
      "0390b275801a446ba236b754f18e6349",
      "2a17420393fa4b339e5f8ed707fd6493",
      "6817dab1c61742cca7d458bdb274ccc3",
      "8ec9eabc487d4803b782d4d383d7c673",
      "1cfeb859ba6f4607888b1e24d466c75e",
      "55e88474ea7e4ac2a13f378704dbd296",
      "f7c6cc629ce74b5aaf463c9a9dc4dc3a",
      "8ba28b815674411c9231177113731099",
      "e6f3af9fa624431990155596359f5cc7",
      "ad7faf2f1bff4dd8a794f4c22b0018e2",
      "b9c373b806d845209a55e95631d68bd6",
      "32064772caa54662a185ecb7cc23f6da",
      "d9af7443443e4bd29468dda52ef4e780",
      "7ce5ba1591964a0fb3dc27149be56fa2",
      "1aaffec7e5aa45d785ebd8c912061a6a",
      "1be8563fffe84879a5d3534308ea256c",
      "18db6f815e244f489cd77001fb472081",
      "3f0e8543c6164544a6044b99e516349e",
      "33b119e6621d4cd993a4d718525a35f6",
      "d5d49c47ad80462bab4e2b40b8c7e0e7",
      "db27db884a3d421a81ad9e48cf3aa8a9",
      "8857c767b3ce4683868deaab02dde549",
      "7bdf27aacfbb43fc92e1287b91290998",
      "8a279feb7e074546b081a59fd27a7947",
      "7b677a709aac48ce879360c3a4bbdbb3",
      "079622d10d914f909ec9c41bea93cb39",
      "e3389b52018b4fc39ecfa3b35c594fae",
      "cb3ea3abad004f14bff74278bffce1b9",
      "cc9a92d2a6154938a4114c87c3436576",
      "2e57ee9139c54f7ebc168039bbc89d87",
      "405f797365444683b5493549be779495",
      "60c9bb81a44447bfb4c30fcbdde5017a",
      "9f5532076f0a44bb9f60e40e849aae66",
      "f2c3ef4b4f72438792c47ce0b48d6119",
      "551d6a1cce894cfa893ac2623e134f75",
      "1e5ffeeb68914f83b25fda3df5111caa",
      "91ee322839744a9ebfbca27d8c56cd87",
      "840295d2c6ed46c884d2a12e42fcadd3",
      "83aa539d3a8445fba52b20bf9f60eef4",
      "8dff6c280ad844779c7b3d935ccf2fb1",
      "80c71600a50b449cb3afa1ed78d6a274",
      "65e0e79445cf4dea88cf88a3017306dd",
      "ce8093a696dd49d3a0a87f77164d033c",
      "584f0dce0fa4477290d0dcd6de4aa0bb",
      "ea3d0188414b4c688b1dc9951f3ad661",
      "a0fd637b5e544fb8ab13a85e69a0ac83",
      "1b1112b188b8479aa05a5d87d8f3a280",
      "619626e41a37454b93de8e7a2a4c6b0d",
      "8ee0a9f579434523a877c3c4ca53a0ec",
      "ca6a715a40524b92932d84ea94a6e0bf",
      "bdc67a9796df4d2ab3c644b556bb6668",
      "a4a3d369eb1a47018f4f76efa8694d56",
      "9baea4bb3bdf43358a97371b41800749",
      "506880f973714de7be0bddfbde7a72fc",
      "df30d288b755489e964b95ac4c930e7a",
      "a8d178f0c78c46fea3ca95ec75f47d89",
      "d350f3770ab44713ae55394a89d35f96",
      "249b8b9e79a74b53b42c94f70bd78d4f",
      "2233c40a5d744ea6a07599d259b888fc",
      "001e92f048c7486ab1bc86ffcc68492f",
      "255a400ce78a4c58a7a0346358abd7c9",
      "3df0153f5eaa4889a1abfbfb543efa6f",
      "3a1bcdbc195c408fa272a0d1d01ea6d5",
      "e9548410c54f4f5bb2491e2bcef35860",
      "bfd9c8be52c74c42a5cd724eabd62e8b",
      "a06ec2b21b8a4786ad607296482e8058",
      "364ad915d8dc4c8daf6ea7cbc23005d0",
      "99cda3069fae4dfdbaa4552a79272e82",
      "4b68ab1814e54a04bbbddda3b173885e",
      "858c74501e8745658c47840780263153",
      "27577214bbea48f08043054ff28e82c0",
      "c161e0af43194feca4d545254098f922",
      "da27cb3ed5d448d48e11011f842028a2",
      "ebc6ab382ba24c3fac806db968fcdcb0",
      "5700f6b772424677a7b7db90cd5935f6",
      "d2c1561347c840fc89387c07f9fb5dd4",
      "5ba37a66335b4557a6c0aeb5e24af52c",
      "360ba6fae53640549510d799c199ee4b",
      "9fed9aa124f540bfa923ede1131ff011",
      "f0cfa8d64629438f8cd9d7eed90617b3",
      "8797ff52a66641108a443021f30cf212",
      "22d73fa8051443feab2c2afea2d1838e",
      "d883eff9d82a43ac8dbc371b6703ae93",
      "87cdd7b3f2de4db78ecb310f90e5f6ff",
      "c6b7c0e4c80e4f1cb903d82c038053df",
      "00ff6b28a2e1440db2e50198544d5376",
      "b93c0bb249594861a180b45d039607fd",
      "622e12e0824d453e85f4ae84c993c6b6",
      "5474e17ae0d849518e627e71a0cd0f16",
      "3c853e0bffa04385a2cd6b18b8d73e90",
      "15462b1953034770bebd1f868e1cf09d",
      "0815a8ab9833488c95a1f7919ef20285",
      "830032d6370d4ae8aec98a4cd896a713",
      "b72f1dc91d9d4180947e80f47ac68af6",
      "0517142cd7404343b93daf94bcdc3c52",
      "323ebe354a2740cdb93dd95c2bcc28de",
      "c426259da4da445ea104230cdd1e6dc5",
      "38bc6acf62394ce7810de8fad82a7c31",
      "1b9c5eb63f6b4fba90b53a743a4fae31",
      "d487152aa51a4778a43e55bf6f8e3c43",
      "c3a43eff0bb24b10aacbdfdcad7e88d7",
      "39d6a17bda414df2b928ea1c5b705296",
      "48b3a02d3af341d3bcaa72bb86219197",
      "eeb811462ce44b68abcc854ac2dba00b",
      "4444de42e92144559e7d669703a260d9",
      "9a25f90f5629441581aaf445a3f14cce",
      "7d75575108eb4ec28f7e012918437ef2",
      "3ab1d8b6ebfa46c3bec70b0965a049e8",
      "fd502d76f680457eb67f6397bcd9bb1c",
      "5e7711df2e9b448da8a320f481562415",
      "5caacb1f63c148ff877fc586b8593249",
      "9f8ba55e7c214de197239e428eed5f42",
      "5767d26d65384b4db43431cc872972f8",
      "cf3c112593034431bcb24e27f49472fc",
      "76cc9daa27c648dfa101bedad2b035e2",
      "f2e5d9c73db0487aa515835843dd3683",
      "917283b7fecd49df953f8db103fe6d3e",
      "3cd08db54f414f649fa2da509efc3a21",
      "02a13b79cfef424ab62c7d0aa57d125b",
      "f8b8ac1417ba4c5f8aac49fffa0350a3",
      "821080e843604db7821af9a32f8d0ec6",
      "9f4fdf63f7524844a176f7443e36f355",
      "bb4a8cecd221445db48b04e21860ee0b",
      "94ea3fda001242b3830b72ed00f2c66e",
      "8a3626fabe2a431dbd72e8405fcd62ce",
      "85c51cf746a74dacb2ac7c284244772a",
      "46364af1a2114d9f9218fb80192d5014",
      "3b85afdb1bbf4e43a07f5de363d45670",
      "a223e0d7546345a296f974b13379f631",
      "ca5cd4fac68c4e7b95ada7d6dae72d1a",
      "915d24df23364cb39432fcd1a151e907",
      "c402ab1c7c524f079db0d2334c52e7e6",
      "01b6abe5e87a42b5a704211754560e7f",
      "cdf9bfebc86043d4a3e19062e2355ce0",
      "f43730ad61e94bc88939968eb37a9d34",
      "f2f08450db6a42e0bf635c777af6b180",
      "888fe4bf857f4ac38b7a1360e445114e",
      "1406b2303d9c4d17b4c7d088c4d0c56f",
      "718bf5fe6bf24584b9cf113385a36285",
      "0598babff1274beb880ee898b368a732",
      "031a2913cde74fd58346b937d25b268f",
      "64c9cf3e31454ca98cc1cdc9845fb9cf",
      "cd1129fcf1da42f89cfb36d93a89ac91",
      "1ad39caf92914c5c8410de88aa0af04e",
      "38dd8bc0f2ab4a34b1fdcb992e6e88b4",
      "e5e3d777bd8e412987966d8e691ea403",
      "c794dee5770548eaa786f163048a6889",
      "ea47de0915014821a071f8490508f888",
      "9bb0539a50044a978a18b3310d9fa4a9",
      "9242b0081cd945f18b9380fb07093e74",
      "d94ac84b198948b8851c1c3de08ab16c",
      "a2a4d48277134266b011f862d393319a",
      "7531355350fa462ebb353440480d4e24",
      "41570fe4ffc649ed94e14e0ce76d5ec8",
      "353a2bbb24b845f2be5a7b809aceee52",
      "26a7bd5a15614a37969c38e8d94457ac",
      "90e2dc8580984c508160b05926ab07de",
      "848fb05ba8d44a44926ae101117b92bb",
      "d94d6455273a43228074a2d2c9e55951",
      "59760cc292154438af49992ae999f74c"
     ]
    },
    "id": "ZjVRH0XbSjBv",
    "outputId": "3af01473-7a1f-4c7c-da45-9fe92720e524"
   },
   "outputs": [],
   "source": [
    "giq.classification.train_pytorch_nn(\n",
    "    model_class=CNN3,\n",
    "    model_args={\"num_classes\": 9},\n",
    "    dataset_class=CachedDataset,\n",
    "    dataset_args={\n",
    "        \"metadata_df\": DATA[\"train_metadata\"],\n",
    "        \"raw_labels\": DATA[\"train_metadata\"][\"garment\"],\n",
    "        \"cached_images\": train_images,\n",
    "        \"cached_labels\": train_labels,\n",
    "    },\n",
    "    param={\n",
    "        \"optimizer_class\": optim.AdamW,\n",
    "        \"optimizer_args\": {\"lr\": 0.001, \"weight_decay\": 1e-4},\n",
    "        \"n_fold\": 2,\n",
    "        \"n_epoch\": 5,\n",
    "        \"patience\": 2,\n",
    "        \"batch_size\": 256,\n",
    "        \"model_save_dir\": \"cnn3_models\",\n",
    "        \"best_model_name\": \"best_model.pt\",\n",
    "    },\n",
    ")"
   ]
  },
  {
   "cell_type": "markdown",
   "metadata": {
    "id": "egY0UhX6TCl7"
   },
   "source": [
    "## Use a customized model structure `CNN1`"
   ]
  },
  {
   "cell_type": "code",
   "execution_count": null,
   "metadata": {
    "id": "pUpyroD2TJhU"
   },
   "outputs": [],
   "source": [
    "class CNN1(nn.Module):\n",
    "    def __init__(self, num_classes):\n",
    "        super(CNN1, self).__init__()\n",
    "        self.features = nn.Sequential(\n",
    "            nn.Conv2d(3, 32, kernel_size=3, padding=1),\n",
    "            nn.BatchNorm2d(32),\n",
    "            nn.ReLU(inplace=True),\n",
    "            nn.MaxPool2d(2, 2),\n",
    "            nn.Dropout(0.2),\n",
    "            nn.Conv2d(32, 64, kernel_size=3, padding=1),\n",
    "            nn.BatchNorm2d(64),\n",
    "            nn.ReLU(inplace=True),\n",
    "            nn.MaxPool2d(2, 2),\n",
    "            nn.Dropout(0.25),\n",
    "            nn.AdaptiveAvgPool2d((4, 4)),\n",
    "        )\n",
    "        self.classifier = nn.Sequential(\n",
    "            nn.Linear(64 * 4 * 4, 128),\n",
    "            nn.ReLU(inplace=True),\n",
    "            nn.Dropout(0.3),\n",
    "            nn.Linear(128, num_classes),\n",
    "        )\n",
    "    def forward(self, x):\n",
    "        x = self.features(x)\n",
    "        x = x.view(x.size(0), -1)\n",
    "        x = self.classifier(x)\n",
    "        return x"
   ]
  },
  {
   "cell_type": "code",
   "execution_count": null,
   "metadata": {
    "colab": {
     "base_uri": "https://localhost:8080/",
     "height": 295,
     "referenced_widgets": [
      "1a174f444544478598ea5e13bb9f11f8",
      "5fdfc420ecee430e8291c58ef508cd98",
      "7d0b894e84ad4ff29a52ca9f63e7c2e9",
      "b8c79b4b101a460c893bc620fdbf03e0",
      "1b2c73b46f34425f87531cae2aa5a895",
      "3df30e8b3c1e4896b75d624f02112143",
      "63f6bcab257b4d8f8bf008be908aeaf3",
      "abe1abbee9fb4fcbb82cfb8c4dce36fa",
      "2ca693676fa747be8df5b7bd8250d152",
      "73970d977f5041a6b526e352134dec3f",
      "2a02db7e62284bf4a40f96d6e6bae25a",
      "d7c7da70ad6a460da1615c36434dc752",
      "c2efd493ad6741aa9a9888527644f4dd",
      "0d1345ce218949a59b89d7edbc363072",
      "576b4072982442959fb53d66850cf6a9",
      "1224f83ccb8640f787cf0b76c53d4320",
      "302ef48be9124250a8c78a7abaf8c478",
      "937e01de43454fae8f6b6ed1c9101068",
      "f9fae44e33234a40bb7c524ea30d1037",
      "d8e8fc18e3d642ac95bb60c027e035de",
      "3e720402b31b4f3aa5183eefc5e53003",
      "772f32ed065447149181368c1df09961",
      "c955570cd59740389f7dde5e307b6356",
      "94e9bac3fd994a9e894c1217b5becc56",
      "3edf323474b7430e8c14f9f3253e8176",
      "c10989a9e2d84c998afab411f4f0ce17",
      "8042273091bc4df0a6a1195d89b37084",
      "bca96b57ee0a4b2aadcd1f567d498971",
      "de40e17d30294722b9f970087fab5b84",
      "5c5b944356fa4ddb84699a70dff7b158",
      "5474811278ee4f849f2862edc0b2868a",
      "5ddfb92ec5284b30bc46117c58d91070",
      "bd6f96d50c844c70bd588e237489551a",
      "4702d37a277e4cbdbbcffe75b067b64c",
      "1c822783a6c146eeb0b54e34b58c161c",
      "09e279281886493fa00b063f9d4af46f",
      "78c584fe05d94d248d89610d643cea86",
      "1ce05c7e54c647d1979153ca11a2ab5a",
      "591569223e0a47ecaa79cea0a389db97",
      "6d5a9e2544f743609de6cc0328a74d4a",
      "cff32c2cdd2246fb9b42f58b9c59b6b6",
      "f1ae77ce05eb4cc78922404312861813",
      "2da1aa293d4d457891f5bd81bb622252",
      "2211c1926d0047838d8f9b34df0ad1c9",
      "e7979bf1d3704450954df6ccbc104681",
      "11525aad540b4900ab41f0117e258322",
      "fd9fb820b9db4e6484ae83b16b30a25b",
      "ab43deefb93d4c6cb24a937cb278d365",
      "55012e256dfd4c038e9f56fa1ee8e970",
      "f43fb5fcccd541b283740716a0bf9681",
      "16677eca88fe474a906f58345de80570",
      "5d413df828c049cf81b73ddfa1a81a96",
      "c05c0ca2161c4919877aad722fe916a6",
      "66ab83c92428421ba694542819fc301d",
      "cca2018649de44a9a74798d7eda31f13",
      "369b694187c942deafafa3b50294974b",
      "d5b765f0cb8646d689e509afebfa3536",
      "34bd9db1513f4dbfa1b72bf2e7bb137a",
      "186b541e8ad74ccbabcf7400cf0f863e",
      "c877352e7595415ba50f4d338af9f9b6",
      "5a7d2cbb0215440698304c19067145f4",
      "04475a07d7224598a6bc532826c9ce55",
      "6d70c8971fa2492eb02ff57f5da8a86e",
      "33b45870ed9842d6a8bf9a9cf634e873",
      "0111b4b3c9934c40a4e5c288116be3af",
      "ea1bacb282ee474498a17882e01d9d50",
      "f6c697c265fb449b85b178db6a3c9f43",
      "ab395f42f9f54c3c90fa5a8eded6e21a",
      "962061ad494c458bb66b3772b0377fd3",
      "68f5fb6e6daa4aaf86b3bf18eafab5a8",
      "88e5ce70afe94f8b8fcbe3849f83755d",
      "962a00143f4e4de6982909bc5fc25818",
      "ed0b06a50258471981619511d5dc66cc",
      "51bd7c0d81c04204a0c8ac7675a09f57",
      "dc35ee6eea954a2db51aa59663b87241",
      "14c4ef37434d400d827c8a22b58c9983",
      "2eba1d866488458db33c63846d34ba1c",
      "47d866ede6124cff9954121b4b50e8f5",
      "50cff84369f640e79ce9742b1144faa3",
      "492f791480344ffaaa7adaacc87b89b5",
      "63af990b8ed346f2b84d1148946f7de1",
      "4318eae3ea57468e97fca422edee189c",
      "fec8a70c5e304dbdb9437beaea12cb6e",
      "4592b5563b9145fa992755d4115aa503",
      "f86d705d0f604e32a110fc2331641a88",
      "53f760d921494f52b1693345a5c9f8da",
      "6a1ff34190ce48dca13ecd2b2dd4541f",
      "f5caeed9d5234be68210b3b1394af181",
      "dc88af56b16c4574b06695b88c3bb3a4",
      "4e363224b6684d70be0705a09a422ca6",
      "8c962da3f7124f6eb6c39111c38902b5",
      "81b0e45246c34290b749cedcd33cf42b",
      "9941ecf91dc8408b848ca7c30a43c4bf",
      "7a0bdc7572184a97a42da7c4ff374df6",
      "81686d5cfe334f45be5abfc1a41ab9ff",
      "3a5e948e459e4a31b51fb8346aac6301",
      "ac92d74e1e924d2a9363fef4474c7b79",
      "6a124397d1984a10b0f18c27c290513e",
      "b7292a489a30452199167ac7a7238bf9",
      "c24a51f5fda7474abd5f3323421834e7",
      "6feea698532644dc9112fe2542384582",
      "ec8b6b1d275d48fd993497bb31d6f289",
      "ccd9e868c00e4a069d4ba0862209d7d9",
      "e9258bdb64a44088bd02faf69fd49a2a",
      "5986cf4857ff4026bcc7709c50494d08",
      "d477834399814e2d8ec6d0c131f1adfa",
      "3ec811d78c2d43e49dfda15ac9694c4f",
      "1dd24e4e81274765a4395cb3b8bdb3e2",
      "8aca5c52b55e4eacae44ef333c8549ab",
      "ca79cedad7d641949197c64712ce8257",
      "80f8fdeeef2e49309121d3709bb77bfd",
      "2492550e941e46ee9209b1d1537371c3",
      "e9b6daedf77d4fb2ad129ad69ad28999",
      "c45435240db74877aa0adc58726e58b4",
      "ee53a2f14df84fbe957ad1345b3ebe25",
      "f8ea7571504c4207bbeab36766daa6ec",
      "810d7dde2314491cb56e5dc2f28b39c6",
      "cfd58038a9ee4f229c0956b29a0ec115",
      "9eb97cef450b4e9eb0703f1b91652f53",
      "5ead19aaff644add842452f6643ef714",
      "c9537ac45ab841a69af30e76b63cd541",
      "72c3d3cea19245ffb6ec3d560fdb5325",
      "d82ca69a51cb46eb8e635e02129ea4da",
      "9970fd79db92468b9fb749e1af72669d",
      "81b2bbc1ae574aafacc4a610284821d1",
      "9957da9c33ae43c88c5337c123c58fa6",
      "09009d5c1a6d4106ba7cdae6b6b1b849",
      "03169bec5ad04c19a8c7e7d0e52588a6",
      "7d3053a9f89348ae8b4d451e4481a8e4",
      "39aa667dfcdc4e45b9bda932e8d58203",
      "2f6229c5230b435a8895f688ac0b7576",
      "4edf9ebe2a9c4dc6af6c595b66d4e858",
      "ad0fe2f88054458087a00e1b017f7678",
      "0895d4021cd748328694b22471feec70",
      "1bbd83012e464fa3b681ea5502ee1e3a",
      "4bbb98a9815f443fb9eba832e6ccb238",
      "b07eb7b453c3471586dc90c44bd146ac",
      "ee3e7bd6b12440f88f89ef5ea55d2532",
      "c6668c48494e4f92affe6569897f3136",
      "88430908c031494fad5c1c4fe3e0f9bd",
      "57cdd8414d6a424ea44b4be73ba4a09c",
      "8f6a4e23ff5944ec970831048ec50428",
      "a9a577b9b6c0489cb933a3b7c897a257",
      "05510baeeb7c4dddbd452684f4870b1c",
      "4333c9b3af554b84b4b79122b6bf5e30",
      "053c6b52f17d4b228292326bf841ac40",
      "47b8c1902ad34bf3aa086761c94069ff",
      "b3e8f0fc814c46a59a43173c2ef09248",
      "4ba5fde7610d4699a2f9201b4338f563",
      "522ab3512f134e579019138f4d73c100",
      "c7a5c5d039474d5c849150599eb8ceb9",
      "318acaf8a13447348a97cb1e1b3c7c0d",
      "9fdd3bb0d2b046b4b5e3547114966aef",
      "c8da280c50444b59aac318a01a7d325e",
      "decb8fa4e79e4eddaf23fb85cf09dff1",
      "dbc3c4c03403430980cb47b25273c03a",
      "e63a4cbff7eb4fdb96d86bb3ad308131",
      "bca4e2b53c004d3499d5c47507898081",
      "fcabe36336ba4b23a7c147e9c94fa332",
      "4f7cf54d62b94ae1a589255bb4821750",
      "6b63cc23998445e5a570b67351062464",
      "bc0efa419e82476ab2ef16d054c03580",
      "f18d0ce80c274967a1da2609effef384",
      "0f38efa5cc6641cb8d3803456d62f4dd",
      "48eeaed8443f455cb812c914b19adf80",
      "e0a825245bc54795ac3422c1275af7a9",
      "8b79461d56a249cd8e000b9862a1cc94",
      "00b07fc45f304caf914fb018c372a387",
      "42ffb5e3a51e40809f5bc19421ca815a",
      "deeea1768f0e4b18a729a0012358a4cb",
      "9deed2c68bd845f0b0e5d899317531aa",
      "204fce4e20c641e4ad1de58bd1c50af5",
      "1f9ffaf4df044a8a9d2c64c31204deb7",
      "ce27e51b5e5f4c879e1d46987aaaa5ad",
      "a3ad09ec1d3c4342980fb3c9981927fb",
      "97ff50c3795942e79891f52309fb8672",
      "b71ce574d8244530993505d4757dc7a6",
      "96e23236006a4920aa30b830f50add29",
      "7f02810d72f04015824bb91fac7443a6",
      "9aa7976cbf934ec9bd80c89a770b30df",
      "dc0c7ba1a9dc4abb82b0a8fdd3fd29e5",
      "28c368eb4b4b477bbbacfb3d06235076",
      "f5c6c6dc300d4789b97da50980377d21",
      "7a96b6d9b4da48c4a694a0809220f809",
      "d0b54144c17b46bda3725f1675ab682b",
      "de2ef68e3868486ea0998885843d50d8",
      "600bed7327e749b68eec19bbb2785043",
      "d3f7c167c16b46bc9ded72c7ce9faa8b",
      "900700b35eb74eb3ab5d45cac369b5ad",
      "1461fde8992845b180a8807d5aa9818b",
      "a9cf0fced1b849108dde640268f2bbe7",
      "ead71d190f9e4f068bfabe72ed4622c3",
      "2ace348272804b1bb257af8b3ae7fa1a",
      "e33edc3342db4b4783562d9c81bd9890",
      "d16fb03995c74994a70e912141c92512",
      "209d33cd5bc04f3f8e5376897801f566",
      "92a6914fc2a142d6a75d8b0606e2c8a0",
      "fdf7ebae143e4cec983a87292697e9db",
      "6d26768e3b9e48c4a9e130e3bf140940",
      "36e87c56c8d24567a63715c6870040e9",
      "655c8ec1a83b4221b7cf15684c63c1e7",
      "6b046ca7e566491db44e89fafb41a234",
      "7c93f1b5dfc34751a99913d054c0636a",
      "d096c2ce917443ec8170f4ae64567e22",
      "01049774725b48708875417a6e6b671e",
      "4675b9a26bef432fa200f8314457192c",
      "fa0db88150a140d0a5f12d4e0beac60c",
      "243583f5006540d6ab138c16b07b7dd3",
      "417798b8e14547519e43688f9b2d5971",
      "cb401d3695b94c8d85a24c2d1d41e2d2",
      "e8ef23dda27f41a3b22b68488e50433c",
      "18f52e2feff94a04af51c59e9b73a8ce",
      "a7ccd8881e5547e5a7694b1e45eb7600",
      "f3dc6abaf3f34e048d349105cc9d7f5a",
      "694abc3cf1af4a0e9cf16925defc692f",
      "c007ae11bcaf42a1aa3dc2937cad987f",
      "ae42619605e5409da42fef8653dbc96e",
      "25a2341ee6e54f02a7fd1f9c89cbe2f2",
      "839d20370b804447b8be716c834533af",
      "826d2cd3c6724f84b736babbcc403ec6",
      "6f9299331890437a87dcc12ba38f76db",
      "a3d0b4ef02c2484e98adab8478221cda",
      "f4b4ba4d77a94b9bacce824f96aaa879",
      "68280a868f154c77bc0c9bbb68d2d90b",
      "ba7cc965ceb44864918b862b480ce568",
      "6e59487fd8494269a82b84b8841b7099",
      "0e4d253fc0bf4677bfb4f06f06c0e427",
      "ae1927f2d53647dbb86207088bc44b83",
      "f082d8b1f7344912a7b60f66d2d26a7d",
      "8f2d9fed0ea04d70b17966189975c293",
      "764ed306ac9d4cc1a483afcb78071785",
      "8db5045fb08641e78ad4bb4fa7103b83",
      "a6f444ce12c84fcb9040c6643ff915a1",
      "5e270c6711e34d889510843d627d4428",
      "d44ec94baf1f441aa8b08b30829d7b1c",
      "bb68191e4aa643d0b11c87014afc7828",
      "6588858673f94f958929544f60138162",
      "1cfc172ccc9d49c88e620d5295677545",
      "23c48b74a8b9435cba3f1c9f8b138bcc",
      "8945db94cf134483aefd07da3874046f",
      "10dcaa0b1ff04984a8a3eacab5863ad0",
      "48823be62f0641f49a393ca1d9f65dc9"
     ]
    },
    "id": "B-6ipBGUTyEU",
    "outputId": "a97824c6-17ca-4357-89f7-fe4f347a8da2"
   },
   "outputs": [],
   "source": [
    "giq.classification.train_pytorch_nn(\n",
    "    model_class=CNN1,\n",
    "    model_args={\"num_classes\": 9},\n",
    "    dataset_class=CachedDataset,\n",
    "    dataset_args={\n",
    "        \"metadata_df\": DATA[\"train_metadata\"],\n",
    "        \"raw_labels\": DATA[\"train_metadata\"][\"garment\"],\n",
    "        \"cached_images\": train_images,\n",
    "        \"cached_labels\": train_labels,\n",
    "    },\n",
    "    param={\n",
    "        \"optimizer_class\": optim.AdamW,\n",
    "        \"optimizer_args\": {\"lr\": 0.001, \"weight_decay\": 1e-4},\n",
    "        \"n_fold\": 2,\n",
    "        \"n_epoch\": 5,\n",
    "        \"patience\": 2,\n",
    "        \"batch_size\": 256,\n",
    "        \"max_workers\": 1,\n",
    "        \"model_save_dir\": \"customized_models\",\n",
    "        \"best_model_name\": \"best_model.pt\",\n",
    "    },\n",
    ")"
   ]
  },
  {
   "cell_type": "markdown",
   "metadata": {
    "id": "JW4kg9nwUZw2"
   },
   "source": [
    "# Testing"
   ]
  },
  {
   "cell_type": "code",
   "execution_count": null,
   "metadata": {
    "colab": {
     "base_uri": "https://localhost:8080/",
     "height": 49,
     "referenced_widgets": [
      "257afcebc88b4f458af704d24a6c7325",
      "e1ce789d601a48bba9df9245280dacff",
      "5211defb879b44e5b894f76b77b04a77",
      "485e40e75f5b4b70912327b15ecf6495",
      "9c97fe937bb149ec8d743c9da1f200ce",
      "ca954558be59451c861878cb21d5dce6",
      "784f40466f21491bad00e76af51e6ab4",
      "5b8b4f83b89a4b1298650ae6195c1bb2",
      "d9e254bf17fb47918480c6d54c0059b7",
      "ea67b8cfd91d45eaad0f391e1c317e63",
      "10864a9c8ff140fca4f5ac8cd46f510a"
     ]
    },
    "id": "khNX-H2oULW2",
    "outputId": "025744ff-6c17-403c-c552-de2984996343"
   },
   "outputs": [],
   "source": [
    "test_images, test_labels, _ = giq.classification.load_data(\n",
    "    df=DATA[\"test_metadata\"],\n",
    "    img_dir=DATA[\"test_images\"],\n",
    "    label_column=\"garment\",\n",
    "    resize_dim=(60, 92),\n",
    "    normalize_mean=[0.8047, 0.7808, 0.7769],\n",
    "    normalize_std=[0.2957, 0.3077, 0.3081]\n",
    ")"
   ]
  },
  {
   "cell_type": "markdown",
   "metadata": {
    "id": "D1kGBr8XUomf"
   },
   "source": [
    "## Test pre-defined model structure `CNN3`"
   ]
  },
  {
   "cell_type": "markdown",
   "metadata": {
    "id": "81KMswxaU9bi"
   },
   "source": [
    "### Function `test_pytorch_nn`\n",
    "\n",
    "Source code: https://github.com/lygitdata/GarmentIQ/blob/main/src/garmentiq/classification/test_pytorch_nn.py"
   ]
  },
  {
   "cell_type": "code",
   "execution_count": null,
   "metadata": {
    "colab": {
     "base_uri": "https://localhost:8080/",
     "height": 413,
     "referenced_widgets": [
      "b1b36aca5c114e1585ef3dec458ec310",
      "067d415804a0467595aa4a07ee3149de",
      "9d804ecf98a24da0a3bec44d953df3fc",
      "08d87ba6a1284521904248f4b3827986",
      "fbfef70140be4ece837445ed226a3b61",
      "a55f5fbd8aa847e19e6a93bfb1885f6a",
      "a00b9754c01d448dbda09f9aa670c90d",
      "758ae90e0b1847bc9be63c847904f24e",
      "8bed8344bb324475a42ba33e087069f9",
      "9c2e3e4a4d104fb5b4f46ca870014fd5",
      "a9be28073b6640d58bdf04d4a8fe49a5"
     ]
    },
    "id": "3IKlw36QUxlA",
    "outputId": "23348456-d207-413a-ce6d-170f7c3b29e9"
   },
   "outputs": [],
   "source": [
    "giq.classification.test_pytorch_nn(\n",
    "    model_path=\"cnn3_models/best_model.pt\",\n",
    "    model_class=CNN3,\n",
    "    model_args={\"num_classes\": 9},\n",
    "    dataset_class=CachedDataset,\n",
    "    dataset_args={\n",
    "        \"raw_labels\": DATA[\"test_metadata\"][\"garment\"],\n",
    "        \"cached_images\": test_images,\n",
    "        \"cached_labels\": test_labels,\n",
    "    },\n",
    "    param={\"batch_size\": 64},\n",
    ")"
   ]
  },
  {
   "cell_type": "markdown",
   "metadata": {
    "id": "jtLrGTlvVNZo"
   },
   "source": [
    "### Function `predict`\n",
    "\n",
    "https://github.com/lygitdata/GarmentIQ/blob/main/src/garmentiq/classification/predict.py"
   ]
  },
  {
   "cell_type": "code",
   "execution_count": null,
   "metadata": {
    "colab": {
     "base_uri": "https://localhost:8080/"
    },
    "id": "3ZI_fmReVSwc",
    "outputId": "efb4232f-6465-4512-9540-fa3032379698"
   },
   "outputs": [],
   "source": [
    "pred_label, pred_prob = giq.classification.predict(\n",
    "    model_path=\"cnn3_models/best_model.pt\",\n",
    "    model_class=CNN3,\n",
    "    model_args={\"num_classes\": 9},\n",
    "    image_path=f\"data/test/images/{DATA['test_metadata']['filename'][1000]}\",\n",
    "    classes=DATA['test_metadata']['garment'].unique().tolist(),\n",
    "    resize_dim=(60, 92),\n",
    "    normalize_mean=[0.8047, 0.7808, 0.7769],\n",
    "    normalize_std=[0.2957, 0.3077, 0.3081]\n",
    ")\n",
    "\n",
    "print(\n",
    "    \"True label: \", DATA['test_metadata']['filename'][1000],\n",
    "    \"\\nPredicted label: \", pred_label,\n",
    "    \"\\nPredicted Probabilities: \", pred_prob\n",
    ")"
   ]
  },
  {
   "cell_type": "markdown",
   "metadata": {
    "id": "NPmJxUYeVtlU"
   },
   "source": [
    "## Test customized model structure `CNN1`"
   ]
  },
  {
   "cell_type": "code",
   "execution_count": null,
   "metadata": {
    "colab": {
     "base_uri": "https://localhost:8080/",
     "height": 413,
     "referenced_widgets": [
      "153fc8a6677d4e7c8cf939230210b353",
      "2fd863d351794f53996dbde2b6f19c18",
      "8197513083a74ab99b3c57c81f755a5b",
      "c0f03db957e14fd5a3a3283f995965a2",
      "56b0a21cff394d449dad62845f1549f9",
      "8b14fb2203074c26833919a19cd4c3d1",
      "764cc38e695142c1b483caf64c20d789",
      "39ab4626690e42508428d3b9fbe76594",
      "142f40ca9dd241b8a9199e4ea4f9155b",
      "3ad01c8b364842feb8239c2fc0df791a",
      "93762b480d6f4cdea698da75592a95dd"
     ]
    },
    "id": "EcKR96oOV-ub",
    "outputId": "b8b05b6d-233a-4785-9244-d794ebf2bf93"
   },
   "outputs": [],
   "source": [
    "giq.classification.test_pytorch_nn(\n",
    "    model_path=\"customized_models/best_model.pt\",\n",
    "    model_class=CNN1,\n",
    "    model_args={\"num_classes\": 9},\n",
    "    dataset_class=CachedDataset,\n",
    "    dataset_args={\n",
    "        \"raw_labels\": DATA[\"test_metadata\"][\"garment\"],\n",
    "        \"cached_images\": test_images,\n",
    "        \"cached_labels\": test_labels,\n",
    "    },\n",
    "    param={\"batch_size\": 64},\n",
    ")"
   ]
  },
  {
   "cell_type": "code",
   "execution_count": null,
   "metadata": {
    "colab": {
     "base_uri": "https://localhost:8080/"
    },
    "id": "dlFC4LScWRql",
    "outputId": "69b649d4-2cb6-4b1d-dce3-2323a0e55937"
   },
   "outputs": [],
   "source": [
    "pred_label, pred_prob = giq.classification.predict(\n",
    "    model_path=\"customized_models/best_model.pt\",\n",
    "    model_class=CNN1,\n",
    "    model_args={\"num_classes\": 9},\n",
    "    image_path=f\"data/test/images/{DATA['test_metadata']['filename'][1000]}\",\n",
    "    classes=DATA['test_metadata']['garment'].unique().tolist(),\n",
    "    resize_dim=(60, 92),\n",
    "    normalize_mean=[0.8047, 0.7808, 0.7769],\n",
    "    normalize_std=[0.2957, 0.3077, 0.3081]\n",
    ")\n",
    "\n",
    "print(\n",
    "    \"True label: \", DATA['test_metadata']['filename'][1000],\n",
    "    \"\\nPredicted label: \", pred_label,\n",
    "    \"\\nPredicted Probabilities: \", pred_prob\n",
    ")"
   ]
  }
 ],
 "metadata": {
  "accelerator": "GPU",
  "colab": {
   "gpuType": "T4",
   "include_colab_link": true,
   "provenance": []
  },
  "kernelspec": {
   "display_name": "Python 3 (ipykernel)",
   "language": "python",
   "name": "python3"
  },
  "language_info": {
   "codemirror_mode": {
    "name": "ipython",
    "version": 3
   },
   "file_extension": ".py",
   "mimetype": "text/x-python",
   "name": "python",
   "nbconvert_exporter": "python",
   "pygments_lexer": "ipython3",
   "version": "3.11.12"
  }
 },
 "nbformat": 4,
 "nbformat_minor": 4
}
