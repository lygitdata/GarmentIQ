{
 "cells": [
  {
   "cell_type": "markdown",
   "metadata": {
    "id": "jrn-fD7chMUe"
   },
   "source": [
    "# GarmentIQ Classification Quick Start"
   ]
  },
  {
   "cell_type": "code",
   "execution_count": null,
   "metadata": {
    "id": "E8RxkKlsh5IY"
   },
   "outputs": [],
   "source": [
    "import garmentiq as giq\n",
    "from garmentiq.classification.model_definition import tinyViT\n",
    "from garmentiq.classification.utils import CachedDataset"
   ]
  },
  {
   "cell_type": "code",
   "execution_count": null,
   "metadata": {
    "id": "3-b9AZr9hJyK"
   },
   "outputs": [],
   "source": [
    "# Download test data and a pretrained model\n",
    "!mkdir -p /app/working/examples/classification_quick_start/models\n",
    "\n",
    "!curl -L -o /app/working/examples/classification_quick_start/garmentiq-classification-set-nordstrom-and-myntra.zip \\\n",
    "  https://www.kaggle.com/api/v1/datasets/download/lygitdata/garmentiq-classification-set-nordstrom-and-myntra\n",
    "\n",
    "!wget -q -O /app/working/examples/classification_quick_start/models/tiny_vit.pt \\\n",
    "    https://huggingface.co/lygitdata/garmentiq/resolve/main/tiny_vit.pt"
   ]
  },
  {
   "cell_type": "code",
   "execution_count": null,
   "metadata": {
    "id": "aW3E9wDbivLQ"
   },
   "outputs": [],
   "source": [
    "# Prepare test data garmentiq-classification-set-nordstrom-and-myntra.zip\n",
    "DATA = giq.classification.train_test_split(\n",
    "    output_dir=\"/app/working/examples/classification_quick_start/data\",\n",
    "    metadata_csv=\"metadata.csv\",\n",
    "    label_column=\"garment\",\n",
    "    train_zip_dir=\"/app/working/examples/classification_quick_start/garmentiq-classification-set-nordstrom-and-myntra.zip\",\n",
    "    test_size=0.15,\n",
    "    verbose=True\n",
    ")\n",
    "\n",
    "test_images, test_labels, _ = giq.classification.load_data(\n",
    "    df=DATA[\"test_metadata\"],\n",
    "    img_dir=DATA[\"test_images\"],\n",
    "    label_column=\"garment\",\n",
    "    resize_dim=(120, 184),\n",
    "    normalize_mean=[0.8047, 0.7808, 0.7769],\n",
    "    normalize_std=[0.2957, 0.3077, 0.3081]\n",
    ")"
   ]
  },
  {
   "cell_type": "code",
   "execution_count": null,
   "metadata": {},
   "outputs": [],
   "source": [
    "# Load the pretrained model\n",
    "classifier = giq.classification.load_model(\n",
    "    model_path=\"/app/working/examples/classification_quick_start/models/tiny_vit.pt\",\n",
    "    model_class=tinyViT,\n",
    "    model_args={\"num_classes\": 9, \"img_size\": (120, 184), \"patch_size\": 6}\n",
    ")"
   ]
  },
  {
   "cell_type": "code",
   "execution_count": null,
   "metadata": {
    "id": "hfXjYs-mkE4s"
   },
   "outputs": [],
   "source": [
    "# Fit the model on the whole test data\n",
    "giq.classification.test_pytorch_nn(\n",
    "    model_path=\"/app/working/examples/classification_quick_start/models/tiny_vit.pt\",\n",
    "    model_class=tinyViT,\n",
    "    model_args={\"num_classes\": 9, \"img_size\": (120, 184), \"patch_size\": 6},\n",
    "    dataset_class=CachedDataset,\n",
    "    dataset_args={\n",
    "        \"raw_labels\": DATA[\"test_metadata\"][\"garment\"],\n",
    "        \"cached_images\": test_images,\n",
    "        \"cached_labels\": test_labels,\n",
    "    },\n",
    "    param={\"batch_size\": 64},\n",
    ")"
   ]
  },
  {
   "cell_type": "code",
   "execution_count": null,
   "metadata": {
    "id": "vJ6kl9rTkerA"
   },
   "outputs": [],
   "source": [
    "# Fit the model on a single image\n",
    "img_to_test = DATA['test_metadata']['filename'][88]\n",
    "\n",
    "pred_label, pred_prob = giq.classification.predict(\n",
    "    model=classifier,\n",
    "    image_path=f\"/app/working/examples/classification_quick_start/data/test/images/{img_to_test}\",\n",
    "    classes=DATA['test_metadata']['garment'].unique().tolist(),\n",
    "    resize_dim=(120, 184),\n",
    "    normalize_mean=[0.8047, 0.7808, 0.7769],\n",
    "    normalize_std=[0.2957, 0.3077, 0.3081]\n",
    ")\n",
    "\n",
    "print(\n",
    "    \"True label: \", img_to_test,\n",
    "    \"\\nPredicted label: \", pred_label,\n",
    "    \"\\nPredicted Probabilities: \", pred_prob\n",
    ")"
   ]
  }
 ],
 "metadata": {
  "accelerator": "GPU",
  "colab": {
   "gpuType": "T4",
   "include_colab_link": true,
   "provenance": []
  },
  "kernelspec": {
   "display_name": "Python 3 (ipykernel)",
   "language": "python",
   "name": "python3"
  },
  "language_info": {
   "codemirror_mode": {
    "name": "ipython",
    "version": 3
   },
   "file_extension": ".py",
   "mimetype": "text/x-python",
   "name": "python",
   "nbconvert_exporter": "python",
   "pygments_lexer": "ipython3",
   "version": "3.11.12"
  }
 },
 "nbformat": 4,
 "nbformat_minor": 4
}
