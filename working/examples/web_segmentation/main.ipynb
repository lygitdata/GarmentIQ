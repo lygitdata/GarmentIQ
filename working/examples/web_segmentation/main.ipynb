{
 "cells": [
  {
   "cell_type": "code",
   "execution_count": 4,
   "id": "63581957-fef6-4b88-94fc-5ad2a82bac30",
   "metadata": {},
   "outputs": [
    {
     "name": "stdout",
     "output_type": "stream",
     "text": [
      "Loading BiRefNet model…\n",
      "Model loaded.\n",
      " * Serving Flask app '__main__'\n",
      " * Debug mode: off\n"
     ]
    },
    {
     "name": "stderr",
     "output_type": "stream",
     "text": [
      "INFO:werkzeug:\u001b[31m\u001b[1mWARNING: This is a development server. Do not use it in a production deployment. Use a production WSGI server instead.\u001b[0m\n",
      " * Running on all addresses (0.0.0.0)\n",
      " * Running on http://127.0.0.1:5000\n",
      " * Running on http://172.17.0.2:5000\n",
      "INFO:werkzeug:\u001b[33mPress CTRL+C to quit\u001b[0m\n",
      "INFO:werkzeug:172.17.0.1 - - [01/May/2025 14:53:20] \"GET / HTTP/1.1\" 200 -\n",
      "INFO:werkzeug:172.17.0.1 - - [01/May/2025 14:53:27] \"GET / HTTP/1.1\" 200 -\n"
     ]
    },
    {
     "data": {
      "application/vnd.jupyter.widget-view+json": {
       "model_id": "deb13ba8d6004d13b6b1e2f32bce0ec2",
       "version_major": 2,
       "version_minor": 0
      },
      "text/plain": [
       "Processing Images:   0%|          | 0/1 [00:00<?, ?image/s]"
      ]
     },
     "metadata": {},
     "output_type": "display_data"
    },
    {
     "name": "stderr",
     "output_type": "stream",
     "text": [
      "INFO:werkzeug:172.17.0.1 - - [01/May/2025 14:53:40] \"POST /segment HTTP/1.1\" 200 -\n"
     ]
    },
    {
     "data": {
      "application/vnd.jupyter.widget-view+json": {
       "model_id": "f46d816fd1f548bdbbbe49cc80a60d8f",
       "version_major": 2,
       "version_minor": 0
      },
      "text/plain": [
       "Processing Images:   0%|          | 0/1 [00:00<?, ?image/s]"
      ]
     },
     "metadata": {},
     "output_type": "display_data"
    },
    {
     "name": "stderr",
     "output_type": "stream",
     "text": [
      "INFO:werkzeug:172.17.0.1 - - [01/May/2025 14:55:25] \"POST /segment HTTP/1.1\" 200 -\n"
     ]
    },
    {
     "data": {
      "application/vnd.jupyter.widget-view+json": {
       "model_id": "33a98d964713436b98187a6a386442cd",
       "version_major": 2,
       "version_minor": 0
      },
      "text/plain": [
       "Processing Images:   0%|          | 0/1 [00:00<?, ?image/s]"
      ]
     },
     "metadata": {},
     "output_type": "display_data"
    },
    {
     "name": "stderr",
     "output_type": "stream",
     "text": [
      "INFO:werkzeug:172.17.0.1 - - [01/May/2025 14:55:43] \"POST /segment HTTP/1.1\" 200 -\n"
     ]
    },
    {
     "data": {
      "application/vnd.jupyter.widget-view+json": {
       "model_id": "6fa17e31569144988abbafac1e6c11f6",
       "version_major": 2,
       "version_minor": 0
      },
      "text/plain": [
       "Processing Images:   0%|          | 0/4 [00:00<?, ?image/s]"
      ]
     },
     "metadata": {},
     "output_type": "display_data"
    },
    {
     "name": "stderr",
     "output_type": "stream",
     "text": [
      "INFO:werkzeug:172.17.0.1 - - [01/May/2025 14:56:41] \"POST /segment HTTP/1.1\" 200 -\n"
     ]
    },
    {
     "data": {
      "application/vnd.jupyter.widget-view+json": {
       "model_id": "07676f9dc1c1425c8f8a942c72dea849",
       "version_major": 2,
       "version_minor": 0
      },
      "text/plain": [
       "Processing Images:   0%|          | 0/4 [00:00<?, ?image/s]"
      ]
     },
     "metadata": {},
     "output_type": "display_data"
    },
    {
     "name": "stderr",
     "output_type": "stream",
     "text": [
      "INFO:werkzeug:172.17.0.1 - - [01/May/2025 14:57:26] \"POST /segment HTTP/1.1\" 200 -\n"
     ]
    }
   ],
   "source": [
    "import os\n",
    "import base64\n",
    "from flask import Flask, request, jsonify\n",
    "from flask_cors import CORS\n",
    "import garmentiq as giq\n",
    "\n",
    "app = Flask(__name__)\n",
    "CORS(app, resources={r\"/*\": {\"origins\": \"*\"}})\n",
    "\n",
    "# where we put uploads & outputs\n",
    "BASE_DIR   = 'output_img'\n",
    "INPUT_DIR  = os.path.join(BASE_DIR, 'input')\n",
    "OUTPUT_DIR = os.path.join(BASE_DIR, 'output')\n",
    "os.makedirs(INPUT_DIR,  exist_ok=True)\n",
    "os.makedirs(OUTPUT_DIR, exist_ok=True)\n",
    "\n",
    "# load model once\n",
    "print(\"Loading BiRefNet model…\")\n",
    "BiRefNet = giq.segmentation.load_model(\n",
    "    pretrained_model='ZhengPeng7/BiRefNet',\n",
    "    pretrained_model_args={'trust_remote_code': True},\n",
    "    high_precision=True\n",
    ")\n",
    "print(\"Model loaded.\")\n",
    "\n",
    "@app.route('/', methods=['GET'])\n",
    "def home():\n",
    "    return \"GarmentIQ Segmentation API is running.\"\n",
    "\n",
    "@app.route('/segment', methods=['POST'])\n",
    "def segment():\n",
    "    files = request.files.getlist('images')\n",
    "    if not files:\n",
    "        return jsonify(error='No images uploaded'), 400\n",
    "\n",
    "    # clear input/output dirs\n",
    "    for d in (INPUT_DIR, OUTPUT_DIR):\n",
    "        for fn in os.listdir(d):\n",
    "            fp = os.path.join(d, fn)\n",
    "            if os.path.isfile(fp):\n",
    "                os.remove(fp)\n",
    "\n",
    "    # save uploads\n",
    "    for f in files:\n",
    "        f.save(os.path.join(INPUT_DIR, f.filename))\n",
    "\n",
    "    # parse optional RGB\n",
    "    r = request.form.get('red', '')\n",
    "    g = request.form.get('green', '')\n",
    "    b = request.form.get('blue', '')\n",
    "    background_color = None\n",
    "    if r != '' and g != '' and b != '':\n",
    "        try:\n",
    "            rgb = [int(r), int(g), int(b)]\n",
    "            if any(c < 0 or c > 255 for c in rgb):\n",
    "                raise ValueError\n",
    "            background_color = rgb\n",
    "        except ValueError:\n",
    "            return jsonify(error='Invalid RGB values; must be integers 0–255'), 400\n",
    "\n",
    "    # run the batch processor\n",
    "    kwargs = {\n",
    "        'image_dir': INPUT_DIR,\n",
    "        'output_dir': OUTPUT_DIR,\n",
    "        'model': BiRefNet,\n",
    "        'resize_dim': (1024, 1024),\n",
    "        'normalize_mean': [0.485, 0.456, 0.406],\n",
    "        'normalize_std': [0.229, 0.224, 0.225],\n",
    "        'high_precision': True\n",
    "    }\n",
    "    if background_color:\n",
    "        kwargs['background_color'] = background_color\n",
    "\n",
    "    giq.segmentation.process_and_save_images(**kwargs)\n",
    "\n",
    "    # pick which folder to read from\n",
    "    sub = 'bg_modified' if background_color else 'masks'\n",
    "    folder = os.path.join(OUTPUT_DIR, sub)\n",
    "\n",
    "    out = []\n",
    "    for fn in sorted(os.listdir(folder)):\n",
    "        path = os.path.join(folder, fn)\n",
    "        with open(path, 'rb') as imgf:\n",
    "            b64 = base64.b64encode(imgf.read()).decode('utf-8')\n",
    "        out.append({'filename': fn, 'base64': b64})\n",
    "\n",
    "    return jsonify(images=out)\n",
    "\n",
    "if __name__ == '__main__':\n",
    "    app.run(host='0.0.0.0', port=5000)"
   ]
  }
 ],
 "metadata": {
  "kernelspec": {
   "display_name": "Python 3 (ipykernel)",
   "language": "python",
   "name": "python3"
  },
  "language_info": {
   "codemirror_mode": {
    "name": "ipython",
    "version": 3
   },
   "file_extension": ".py",
   "mimetype": "text/x-python",
   "name": "python",
   "nbconvert_exporter": "python",
   "pygments_lexer": "ipython3",
   "version": "3.11.12"
  }
 },
 "nbformat": 4,
 "nbformat_minor": 5
}
