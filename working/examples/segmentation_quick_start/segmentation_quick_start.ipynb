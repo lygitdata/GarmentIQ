{
 "cells": [
  {
   "cell_type": "markdown",
   "metadata": {
    "id": "jrn-fD7chMUe"
   },
   "source": [
    "# GarmentIQ Segmentation Quick Start"
   ]
  },
  {
   "cell_type": "code",
   "execution_count": null,
   "metadata": {
    "id": "E8RxkKlsh5IY"
   },
   "outputs": [],
   "source": [
    "import garmentiq as giq"
   ]
  },
  {
   "cell_type": "code",
   "execution_count": null,
   "metadata": {
    "id": "3-b9AZr9hJyK"
   },
   "outputs": [],
   "source": [
    "# Download a test image\n",
    "!mkdir -p /app/working/examples/segmentation_quick_start/test_image\n",
    "!wget -q -O /app/working/examples/segmentation_quick_start/test_image/cloth_1.jpg \\\n",
    "    https://raw.githubusercontent.com/lygitdata/GarmentIQ/refs/heads/gh-pages/asset/img/cloth_1.jpg"
   ]
  },
  {
   "cell_type": "code",
   "execution_count": null,
   "metadata": {
    "id": "pMGZwL-UjPPN"
   },
   "outputs": [],
   "source": [
    "# Load the pretrained model from Hugging Face\n",
    "BiRefNet = giq.segmentation.load_model(\n",
    "    pretrained_model='lygitdata/BiRefNet_garmentiq_backup',\n",
    "    pretrained_model_args={'trust_remote_code': True},\n",
    "    high_precision=True\n",
    ")"
   ]
  },
  {
   "cell_type": "code",
   "execution_count": null,
   "metadata": {
    "id": "hfXjYs-mkE4s"
   },
   "outputs": [],
   "source": [
    "# Extract the mask\n",
    "original_img, mask = giq.segmentation.extract(\n",
    "    model=BiRefNet,\n",
    "    image_path='/app/working/examples/segmentation_quick_start/test_image/cloth_1.jpg',\n",
    "    resize_dim=(1024, 1024),\n",
    "    normalize_mean=[0.485, 0.456, 0.406],\n",
    "    normalize_std=[0.229, 0.224, 0.225],\n",
    "    high_precision=True\n",
    ")\n",
    "\n",
    "# Change background color\n",
    "bg_modified_img = giq.segmentation.change_background_color(\n",
    "    image_np=original_img,\n",
    "    mask_np=mask,\n",
    "    background_color=[102, 255, 102]\n",
    ")"
   ]
  },
  {
   "cell_type": "code",
   "execution_count": null,
   "metadata": {
    "id": "dPkVas24rw2H"
   },
   "outputs": [],
   "source": [
    "# Plot the original image, mask, and background modified image\n",
    "giq.segmentation.plot(image_np=original_img, figsize=(3, 3))\n",
    "giq.segmentation.plot(image_np=mask, figsize=(3, 3))\n",
    "giq.segmentation.plot(image_np=bg_modified_img, figsize=(3, 3))"
   ]
  }
 ],
 "metadata": {
  "accelerator": "GPU",
  "colab": {
   "gpuType": "T4",
   "include_colab_link": true,
   "provenance": []
  },
  "kernelspec": {
   "display_name": "Python 3 (ipykernel)",
   "language": "python",
   "name": "python3"
  },
  "language_info": {
   "codemirror_mode": {
    "name": "ipython",
    "version": 3
   },
   "file_extension": ".py",
   "mimetype": "text/x-python",
   "name": "python",
   "nbconvert_exporter": "python",
   "pygments_lexer": "ipython3",
   "version": "3.11.12"
  }
 },
 "nbformat": 4,
 "nbformat_minor": 4
}
