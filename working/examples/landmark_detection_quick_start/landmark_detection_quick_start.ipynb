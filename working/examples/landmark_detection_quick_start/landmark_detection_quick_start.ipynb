{
 "cells": [
  {
   "cell_type": "markdown",
   "metadata": {
    "id": "jrn-fD7chMUe"
   },
   "source": [
    "# GarmentIQ Landmark Detection Quick Start"
   ]
  },
  {
   "cell_type": "code",
   "execution_count": null,
   "metadata": {
    "id": "E8RxkKlsh5IY"
   },
   "outputs": [],
   "source": [
    "import garmentiq as giq\n",
    "from garmentiq.landmark.detection.model_definition import PoseHighResolutionNet\n",
    "from garmentiq.garment_classes import garment_classes"
   ]
  },
  {
   "cell_type": "code",
   "execution_count": null,
   "metadata": {
    "id": "3-b9AZr9hJyK"
   },
   "outputs": [],
   "source": [
    "# Download a vest dress image and a pretrained model\n",
    "!mkdir -p /app/working/examples/landmark_detection_quick_start/test_image\n",
    "!wget -q -O /app/working/examples/landmark_detection_quick_start/test_image/cloth_3.jpg \\\n",
    "    https://raw.githubusercontent.com/lygitdata/GarmentIQ/refs/heads/gh-pages/asset/img/cloth_3.jpg\n",
    "\n",
    "!mkdir -p /app/working/examples/landmark_detection_quick_start/models\n",
    "!wget -q -O /app/working/examples/landmark_detection_quick_start/models/hrnet.pth \\\n",
    "    https://huggingface.co/lygitdata/garmentiq/resolve/main/hrnet.pth"
   ]
  },
  {
   "cell_type": "code",
   "execution_count": null,
   "metadata": {
    "colab": {
     "base_uri": "https://localhost:8080/",
     "height": 337
    },
    "id": "NYFrZUe48hLi",
    "outputId": "6d881cf8-75c3-46f1-acf5-c0b691b934c6"
   },
   "outputs": [],
   "source": [
    "# Plot the image\n",
    "giq.landmark.plot(image_path=\"/app/working/examples/landmark_detection_quick_start/test_image/cloth_3.jpg\", figsize=(3, 3))"
   ]
  },
  {
   "cell_type": "code",
   "execution_count": null,
   "metadata": {
    "id": "pMGZwL-UjPPN"
   },
   "outputs": [],
   "source": [
    "# Load the pretrained model from Hugging Face\n",
    "HRNet = giq.landmark.detection.load_model(\n",
    "    model_path=\"/app/working/examples/landmark_detection_quick_start/models/hrnet.pth\",\n",
    "    model_class=PoseHighResolutionNet()\n",
    ")"
   ]
  },
  {
   "cell_type": "code",
   "execution_count": null,
   "metadata": {
    "id": "deJChHYZ7rpT"
   },
   "outputs": [],
   "source": [
    "# Detect predefined landmarks\n",
    "coords, maxvals, detection_dict = giq.landmark.detect(\n",
    "    class_name=\"vest dress\",\n",
    "    class_dict=garment_classes,\n",
    "    image_path=\"/app/working/examples/landmark_detection_quick_start/test_image/cloth_3.jpg\",\n",
    "    model=HRNet,\n",
    "    scale_std=200.0,\n",
    "    resize_dim=[288, 384],\n",
    "    normalize_mean=[0.485, 0.456, 0.406],\n",
    "    normalize_std=[0.229, 0.224, 0.225]\n",
    ")"
   ]
  },
  {
   "cell_type": "code",
   "execution_count": null,
   "metadata": {
    "colab": {
     "base_uri": "https://localhost:8080/",
     "height": 337
    },
    "id": "rpKL-_2685Rd",
    "outputId": "634798cc-ab48-4d4f-d7bf-2459890d9efb"
   },
   "outputs": [],
   "source": [
    "# Plot the detected coordinates\n",
    "giq.landmark.plot(image_path=\"/app/working/examples/landmark_detection_quick_start/test_image/cloth_3.jpg\", coordinate=coords, figsize=(3, 3), color=\"green\")"
   ]
  }
 ],
 "metadata": {
  "accelerator": "GPU",
  "colab": {
   "gpuType": "T4",
   "include_colab_link": true,
   "provenance": []
  },
  "kernelspec": {
   "display_name": "Python 3 (ipykernel)",
   "language": "python",
   "name": "python3"
  },
  "language_info": {
   "codemirror_mode": {
    "name": "ipython",
    "version": 3
   },
   "file_extension": ".py",
   "mimetype": "text/x-python",
   "name": "python",
   "nbconvert_exporter": "python",
   "pygments_lexer": "ipython3",
   "version": "3.11.12"
  }
 },
 "nbformat": 4,
 "nbformat_minor": 4
}
