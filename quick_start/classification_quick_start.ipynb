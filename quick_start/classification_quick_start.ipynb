{
  "nbformat": 4,
  "nbformat_minor": 0,
  "metadata": {
    "colab": {
      "provenance": [],
      "gpuType": "T4",
      "include_colab_link": true
    },
    "kernelspec": {
      "name": "python3",
      "display_name": "Python 3"
    },
    "language_info": {
      "name": "python"
    },
    "accelerator": "GPU"
  },
  "cells": [
    {
      "cell_type": "markdown",
      "metadata": {
        "id": "view-in-github",
        "colab_type": "text"
      },
      "source": [
        "<a href=\"https://colab.research.google.com/github/lygitdata/GarmentIQ/blob/main/quick_start/classification_quick_start.ipynb\" target=\"_parent\"><img src=\"https://colab.research.google.com/assets/colab-badge.svg\" alt=\"Open In Colab\"/></a>"
      ]
    },
    {
      "cell_type": "markdown",
      "source": [
        "# GarmentIQ Classification Quick Start"
      ],
      "metadata": {
        "id": "jrn-fD7chMUe"
      }
    },
    {
      "cell_type": "code",
      "execution_count": null,
      "metadata": {
        "id": "sQhSY6NJg61I"
      },
      "outputs": [],
      "source": [
        "!pip install garmentiq -q"
      ]
    },
    {
      "cell_type": "code",
      "source": [
        "import garmentiq as giq\n",
        "from garmentiq.classification.model_definition import tinyViT\n",
        "from garmentiq.classification.utils import CachedDataset"
      ],
      "metadata": {
        "id": "E8RxkKlsh5IY"
      },
      "execution_count": null,
      "outputs": []
    },
    {
      "cell_type": "code",
      "source": [
        "# Download test data and a pretrained model\n",
        "!mkdir -p models\n",
        "\n",
        "!curl -L -o /content/garmentiq-classification-set-nordstrom-and-myntra.zip \\\n",
        "  https://www.kaggle.com/api/v1/datasets/download/lygitdata/garmentiq-classification-set-nordstrom-and-myntra\n",
        "\n",
        "!wget -q -O /content/models/tiny_vit.pt \\\n",
        "    https://huggingface.co/lygitdata/garmentiq/resolve/main/tiny_vit.pt"
      ],
      "metadata": {
        "id": "3-b9AZr9hJyK"
      },
      "execution_count": null,
      "outputs": []
    },
    {
      "cell_type": "code",
      "source": [
        "# Prepare test data\n",
        "DATA = giq.classification.train_test_split(\n",
        "    output_dir=\"data\",\n",
        "    metadata_csv=\"metadata.csv\",\n",
        "    label_column=\"garment\",\n",
        "    train_zip_dir=\"garmentiq-classification-set-nordstrom-and-myntra.zip\",\n",
        "    test_size=0.15,\n",
        "    verbose=True\n",
        ")\n",
        "\n",
        "test_images, test_labels, _ = giq.classification.load_data(\n",
        "    df=DATA[\"test_metadata\"],\n",
        "    img_dir=DATA[\"test_images\"],\n",
        "    label_column=\"garment\",\n",
        "    resize_dim=(120, 184),\n",
        "    normalize_mean=[0.8047, 0.7808, 0.7769],\n",
        "    normalize_std=[0.2957, 0.3077, 0.3081]\n",
        ")"
      ],
      "metadata": {
        "id": "aW3E9wDbivLQ"
      },
      "execution_count": null,
      "outputs": []
    },
    {
      "cell_type": "code",
      "source": [
        "# Load the pretrained model\n",
        "classifier = giq.classification.load_model(\n",
        "    model_path=\"/content/models/tiny_vit.pt\",\n",
        "    model_class=tinyViT,\n",
        "    model_args={\"num_classes\": 9, \"img_size\": (120, 184), \"patch_size\": 6}\n",
        ")"
      ],
      "metadata": {
        "id": "pMGZwL-UjPPN"
      },
      "execution_count": null,
      "outputs": []
    },
    {
      "cell_type": "code",
      "source": [
        "# Fit the model on the whole test data\n",
        "giq.classification.test_pytorch_nn(\n",
        "    model_path=\"/content/models/tiny_vit.pt\",\n",
        "    model_class=tinyViT,\n",
        "    model_args={\"num_classes\": 9, \"img_size\": (120, 184), \"patch_size\": 6},\n",
        "    dataset_class=CachedDataset,\n",
        "    dataset_args={\n",
        "        \"raw_labels\": DATA[\"test_metadata\"][\"garment\"],\n",
        "        \"cached_images\": test_images,\n",
        "        \"cached_labels\": test_labels,\n",
        "    },\n",
        "    param={\"batch_size\": 64},\n",
        ")"
      ],
      "metadata": {
        "id": "hfXjYs-mkE4s"
      },
      "execution_count": null,
      "outputs": []
    },
    {
      "cell_type": "code",
      "source": [
        "# Fit the model on a single image\n",
        "img_to_test = DATA['test_metadata']['filename'][88]\n",
        "\n",
        "pred_label, pred_prob = giq.classification.predict(\n",
        "    model=classifier,\n",
        "    image_path=f\"data/test/images/{img_to_test}\",\n",
        "    classes=DATA['test_metadata']['garment'].unique().tolist(),\n",
        "    resize_dim=(120, 184),\n",
        "    normalize_mean=[0.8047, 0.7808, 0.7769],\n",
        "    normalize_std=[0.2957, 0.3077, 0.3081]\n",
        ")\n",
        "\n",
        "print(\n",
        "    \"True label: \", img_to_test,\n",
        "    \"\\nPredicted label: \", pred_label,\n",
        "    \"\\nPredicted Probabilities: \", pred_prob\n",
        ")"
      ],
      "metadata": {
        "id": "vJ6kl9rTkerA"
      },
      "execution_count": null,
      "outputs": []
    }
  ]
}